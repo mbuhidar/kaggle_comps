{
 "cells": [
  {
   "cell_type": "markdown",
   "metadata": {},
   "source": [
    "Binary Bank Competition - Kaggle"
   ]
  },
  {
   "cell_type": "markdown",
   "metadata": {},
   "source": [
    "\n",
    "### Jupyter Notebook in VS Code\n",
    "\n",
    "From directory with virtual environment in it, use this terminal command to use Jupyter Notebook in VS Code:\n",
    "\n",
    "jupyter notebook --NotebookApp.allow_origin='*' --NotebookApp.ip='0.0.0.0'\n",
    "\n",
    "### Select Python Interpreter\n",
    "\n",
    "Open Command Palette as follows: Ctrl+Shift+P\n",
    "\n",
    "Then select from VS Code Command Palette: \"Python: Select Interpreter\" and choose the same Python interpreter that you used to install Jupyter.\n",
    "\n",
    "If server not shown, enter server manually as follows: \n",
    "http://localhost:8888\n",
    "\n",
    "Reminder:  pw: \"\""
   ]
  },
  {
   "cell_type": "code",
   "execution_count": 21,
   "metadata": {},
   "outputs": [],
   "source": [
    "from datetime import datetime\n",
    "\n",
    "import numpy as np\n",
    "import pandas as pd\n",
    "\n",
    "import torch\n",
    "import torch.optim as optim\n",
    "import torch.nn as nn\n",
    "import torch.functional as F\n",
    "from torch.utils.data import DataLoader, TensorDataset\n",
    "from torch.utils.tensorboard import SummaryWriter\n",
    "\n",
    "from sklearn.preprocessing import StandardScaler\n",
    "from sklearn.model_selection import train_test_split\n",
    "from sklearn.metrics import confusion_matrix, roc_curve, precision_recall_curve, auc\n",
    "\n",
    "import matplotlib.pyplot as plt\n",
    "from matplotlib.colors import ListedColormap\n",
    "\n",
    "from stepbystep_v0 import StepByStep"
   ]
  },
  {
   "cell_type": "markdown",
   "metadata": {},
   "source": [
    "# Binary Classification Problem based on Bank Customer Marketing Call Data"
   ]
  },
  {
   "cell_type": "markdown",
   "metadata": {},
   "source": [
    "# Model Training"
   ]
  },
  {
   "cell_type": "markdown",
   "metadata": {},
   "source": [
    "### Load Training Data"
   ]
  },
  {
   "cell_type": "code",
   "execution_count": 22,
   "metadata": {},
   "outputs": [
    {
     "name": "stdout",
     "output_type": "stream",
     "text": [
      "   id  age          job  marital  education default  balance housing loan  \\\n",
      "0   0   42   technician  married  secondary      no        7      no   no   \n",
      "1   1   38  blue-collar  married  secondary      no      514      no   no   \n",
      "2   2   36  blue-collar  married  secondary      no      602     yes   no   \n",
      "3   3   27      student   single  secondary      no       34     yes   no   \n",
      "4   4   26   technician  married  secondary      no      889     yes   no   \n",
      "\n",
      "    contact  day month  duration  campaign  pdays  previous poutcome  y  \n",
      "0  cellular   25   aug       117         3     -1         0  unknown  0  \n",
      "1   unknown   18   jun       185         1     -1         0  unknown  0  \n",
      "2   unknown   14   may       111         2     -1         0  unknown  0  \n",
      "3   unknown   28   may        10         2     -1         0  unknown  0  \n",
      "4  cellular    3   feb       902         1     -1         0  unknown  1  \n"
     ]
    }
   ],
   "source": [
    "# Import data from .csv files\n",
    "raw_train_data = pd.read_csv('binary_bank_comp/dataset/train.csv')\n",
    "\n",
    "# Display the first few rows of the dataset\n",
    "print(raw_train_data[:5])"
   ]
  },
  {
   "cell_type": "markdown",
   "metadata": {},
   "source": [
    "### Split the train dataset"
   ]
  },
  {
   "cell_type": "code",
   "execution_count": 23,
   "metadata": {},
   "outputs": [
    {
     "name": "stdout",
     "output_type": "stream",
     "text": [
      "Training set shape: (600000, 16) (600000,)\n",
      "Validation set shape: (150000, 16) (150000,)\n",
      "Training set preview:\n",
      "        age          job   marital  education default  balance housing loan  \\\n",
      "453635   28  blue-collar    single  secondary      no     5090     yes  yes   \n",
      "11651    51   technician   married   tertiary      no     1295      no   no   \n",
      "431999   57   management  divorced   tertiary      no        0      no   no   \n",
      "529211   48  blue-collar    single    primary      no     1323     yes   no   \n",
      "110925   38       admin.   married  secondary      no      659     yes   no   \n",
      "\n",
      "         contact  day month  duration  campaign  pdays  previous poutcome  \n",
      "453635   unknown   12   may      1297         2     -1         0  unknown  \n",
      "11651   cellular   27   aug       119         9     -1         0  unknown  \n",
      "431999  cellular   29   jan        87         1     -1         0  unknown  \n",
      "529211   unknown   15   may        83         5     -1         0  unknown  \n",
      "110925  cellular   28   jul       534         4     -1         0  unknown  \n",
      "453635    1\n",
      "11651     0\n",
      "431999    0\n",
      "529211    0\n",
      "110925    0\n",
      "Name: y, dtype: int64\n"
     ]
    }
   ],
   "source": [
    "# Remove id column\n",
    "raw_train_data.drop(columns=['id'], inplace=True)\n",
    "\n",
    "# Split the dataset into features and target variable\n",
    "X = raw_train_data.drop(columns=['y'])\n",
    "y = raw_train_data['y']\n",
    "\n",
    "# Split the dataset into training and validation sets\n",
    "from sklearn.model_selection import train_test_split\n",
    "X_train, X_val, y_train, y_val = train_test_split(X, y, test_size=0.2, random_state=42)\n",
    "\n",
    "# Print the shapes of the resulting datasets\n",
    "print(\"Training set shape:\", X_train.shape, y_train.shape)\n",
    "print(\"Validation set shape:\", X_val.shape, y_val.shape)\n",
    "\n",
    "# Print the first few rows of the training set\n",
    "print(\"Training set preview:\")\n",
    "print(X_train.head())\n",
    "print(y_train.head())"
   ]
  },
  {
   "cell_type": "markdown",
   "metadata": {},
   "source": [
    "### Data Cleaning"
   ]
  },
  {
   "cell_type": "code",
   "execution_count": 24,
   "metadata": {},
   "outputs": [
    {
     "name": "stdout",
     "output_type": "stream",
     "text": [
      "             age   balance       day  duration  campaign     pdays  previous  \\\n",
      "0      -1.278540  1.365772 -0.499343  3.820120 -0.211544 -0.302805 -0.222073   \n",
      "1       0.999811  0.031782  1.318267 -0.503479  2.365296 -0.302805 -0.222073   \n",
      "2       1.594163 -0.423427  1.560615 -0.620928 -0.579664 -0.302805 -0.222073   \n",
      "3       0.702634  0.041624 -0.135821 -0.635610  0.892816 -0.302805 -0.222073   \n",
      "4      -0.287953 -0.191780  1.439441  1.019690  0.524696 -0.302805 -0.222073   \n",
      "...          ...       ...       ...       ...       ...       ...       ...   \n",
      "599995 -0.981364 -0.220604  1.439441 -0.492468  0.524696  2.050922  1.266816   \n",
      "599996 -0.981364 -0.423427  1.439441 -0.617258  0.156576 -0.302805 -0.222073   \n",
      "599997 -1.080423  0.004716  0.954745 -0.764070 -0.579664 -0.302805 -0.222073   \n",
      "599998  0.306400 -0.257161  1.802963 -0.657631 -0.211544 -0.302805 -0.222073   \n",
      "599999  1.396045 -0.423427 -1.347561 -0.598907 -0.579664 -0.302805 -0.222073   \n",
      "\n",
      "        job_admin.  job_blue-collar  job_entrepreneur  ...  month_jun  \\\n",
      "0        -0.349208         1.844413         -0.155148  ...  -0.376988   \n",
      "1        -0.349208        -0.542178         -0.155148  ...  -0.376988   \n",
      "2        -0.349208        -0.542178         -0.155148  ...  -0.376988   \n",
      "3        -0.349208         1.844413         -0.155148  ...  -0.376988   \n",
      "4         2.863623        -0.542178         -0.155148  ...  -0.376988   \n",
      "...            ...              ...               ...  ...        ...   \n",
      "599995   -0.349208        -0.542178         -0.155148  ...  -0.376988   \n",
      "599996   -0.349208        -0.542178         -0.155148  ...  -0.376988   \n",
      "599997   -0.349208        -0.542178         -0.155148  ...  -0.376988   \n",
      "599998   -0.349208        -0.542178         -0.155148  ...  -0.376988   \n",
      "599999   -0.349208        -0.542178          6.445474  ...   2.652607   \n",
      "\n",
      "        month_mar  month_may  month_nov  month_oct  month_sep  \\\n",
      "0       -0.088051   1.510809  -0.310808  -0.111854   -0.09962   \n",
      "1       -0.088051  -0.661897  -0.310808  -0.111854   -0.09962   \n",
      "2       -0.088051  -0.661897  -0.310808  -0.111854   -0.09962   \n",
      "3       -0.088051   1.510809  -0.310808  -0.111854   -0.09962   \n",
      "4       -0.088051  -0.661897  -0.310808  -0.111854   -0.09962   \n",
      "...           ...        ...        ...        ...        ...   \n",
      "599995  -0.088051  -0.661897  -0.310808  -0.111854   -0.09962   \n",
      "599996  -0.088051  -0.661897  -0.310808  -0.111854   -0.09962   \n",
      "599997  -0.088051  -0.661897  -0.310808  -0.111854   -0.09962   \n",
      "599998  -0.088051  -0.661897  -0.310808  -0.111854   -0.09962   \n",
      "599999  -0.088051  -0.661897  -0.310808  -0.111854   -0.09962   \n",
      "\n",
      "        poutcome_failure  poutcome_other  poutcome_success  poutcome_unknown  \n",
      "0              -0.253034        -0.14176         -0.155119          0.339540  \n",
      "1              -0.253034        -0.14176         -0.155119          0.339540  \n",
      "2              -0.253034        -0.14176         -0.155119          0.339540  \n",
      "3              -0.253034        -0.14176         -0.155119          0.339540  \n",
      "4              -0.253034        -0.14176         -0.155119          0.339540  \n",
      "...                  ...             ...               ...               ...  \n",
      "599995          3.952045        -0.14176         -0.155119         -2.945163  \n",
      "599996         -0.253034        -0.14176         -0.155119          0.339540  \n",
      "599997         -0.253034        -0.14176         -0.155119          0.339540  \n",
      "599998         -0.253034        -0.14176         -0.155119          0.339540  \n",
      "599999         -0.253034        -0.14176         -0.155119          0.339540  \n",
      "\n",
      "[600000 rows x 51 columns]\n",
      "             age   balance       day  duration  campaign     pdays  previous  \\\n",
      "0       0.504517  0.026158  0.227701 -0.521831 -0.211544 -0.302805 -0.222073   \n",
      "1      -1.377599  0.455706 -0.378169  0.667342 -0.579664  1.068047  0.522372   \n",
      "2      -0.486070  0.052873  0.470049 -0.903541  0.524696 -0.302805 -0.222073   \n",
      "3       1.792280  0.109466 -1.589909 -0.679653 -0.211544 -0.302805 -0.222073   \n",
      "4      -0.188894  0.761171 -0.256995 -0.521831 -0.211544 -0.302805 -0.222073   \n",
      "...          ...       ...       ...       ...       ...       ...       ...   \n",
      "149995  1.098869 -0.104605 -1.347561  0.979317 -0.579664 -0.302805 -0.222073   \n",
      "149996  0.108282 -0.419209 -0.620517 -0.595236 -0.579664 -0.302805 -0.222073   \n",
      "149997  0.306400  0.904588 -0.135821 -0.918222 -0.579664 -0.302805 -0.222073   \n",
      "149998  0.108282 -0.224471 -1.468735 -0.477787 -0.579664 -0.302805 -0.222073   \n",
      "149999 -0.783246 -0.009345 -0.135821  0.340687 -0.211544  2.076787  1.266816   \n",
      "\n",
      "        job_admin.  job_blue-collar  job_entrepreneur  ...  month_jun  \\\n",
      "0        -0.349208        -0.542178         -0.155148  ...  -0.376988   \n",
      "1         2.863623        -0.542178         -0.155148  ...  -0.376988   \n",
      "2        -0.349208        -0.542178         -0.155148  ...   2.652607   \n",
      "3        -0.349208        -0.542178         -0.155148  ...  -0.376988   \n",
      "4        -0.349208        -0.542178         -0.155148  ...  -0.376988   \n",
      "...            ...              ...               ...  ...        ...   \n",
      "149995   -0.349208        -0.542178         -0.155148  ...   2.652607   \n",
      "149996   -0.349208        -0.542178         -0.155148  ...   2.652607   \n",
      "149997   -0.349208         1.844413         -0.155148  ...  -0.376988   \n",
      "149998   -0.349208        -0.542178         -0.155148  ...  -0.376988   \n",
      "149999   -0.349208        -0.542178         -0.155148  ...  -0.376988   \n",
      "\n",
      "        month_mar  month_may  month_nov  month_oct  month_sep  \\\n",
      "0       -0.088051  -0.661897  -0.310808  -0.111854   -0.09962   \n",
      "1       -0.088051  -0.661897  -0.310808  -0.111854   -0.09962   \n",
      "2       -0.088051  -0.661897  -0.310808  -0.111854   -0.09962   \n",
      "3       -0.088051  -0.661897  -0.310808  -0.111854   -0.09962   \n",
      "4       -0.088051  -0.661897  -0.310808  -0.111854   -0.09962   \n",
      "...           ...        ...        ...        ...        ...   \n",
      "149995  -0.088051  -0.661897  -0.310808  -0.111854   -0.09962   \n",
      "149996  -0.088051  -0.661897  -0.310808  -0.111854   -0.09962   \n",
      "149997  -0.088051   1.510809  -0.310808  -0.111854   -0.09962   \n",
      "149998  -0.088051  -0.661897  -0.310808  -0.111854   -0.09962   \n",
      "149999  -0.088051  -0.661897  -0.310808   8.940245   -0.09962   \n",
      "\n",
      "        poutcome_failure  poutcome_other  poutcome_success  poutcome_unknown  \n",
      "0              -0.253034        -0.14176         -0.155119          0.339540  \n",
      "1              -0.253034        -0.14176          6.446645         -2.945163  \n",
      "2              -0.253034        -0.14176         -0.155119          0.339540  \n",
      "3              -0.253034        -0.14176         -0.155119          0.339540  \n",
      "4              -0.253034        -0.14176         -0.155119          0.339540  \n",
      "...                  ...             ...               ...               ...  \n",
      "149995         -0.253034        -0.14176         -0.155119          0.339540  \n",
      "149996         -0.253034        -0.14176         -0.155119          0.339540  \n",
      "149997         -0.253034        -0.14176         -0.155119          0.339540  \n",
      "149998         -0.253034        -0.14176         -0.155119          0.339540  \n",
      "149999          3.952045        -0.14176         -0.155119         -2.945163  \n",
      "\n",
      "[150000 rows x 51 columns]\n"
     ]
    }
   ],
   "source": [
    "# Clean the dataset\n",
    "\n",
    "# Identify numerical columns (excluding the target and any non-feature columns)\n",
    "X_train_numerical_cols = X_train.select_dtypes(include=['int64', 'float64'])\n",
    "X_val_numerical_cols = X_val.select_dtypes(include=['int64', 'float64'])\n",
    "\n",
    "# Identify categorical columns\n",
    "X_train_categorical_cols = X_train.select_dtypes(include=['object', 'category'])\n",
    "X_val_categorical_cols = X_val.select_dtypes(include=['object', 'category'])\n",
    "\n",
    "# Convert categorical features to numerical using one-hot encoding using 1s and 0s\n",
    "X_train_categorical_encoded = pd.get_dummies(X_train_categorical_cols, drop_first=False).astype(int)\n",
    "X_val_categorical_encoded = pd.get_dummies(X_val_categorical_cols, drop_first=False).astype(int)\n",
    "\n",
    "# Combine the numerical and categorical features\n",
    "X_train_combined = pd.concat([X_train_numerical_cols, X_train_categorical_encoded], axis=1)\n",
    "X_val_combined = pd.concat([X_val_numerical_cols, X_val_categorical_encoded], axis=1)\n",
    "\n",
    "# Numeric Feature Standardization\n",
    "sc = StandardScaler()\n",
    "X_train_scaled = sc.fit_transform(X_train_combined)\n",
    "X_val_scaled = sc.transform(X_val_combined)\n",
    "\n",
    "# Convert the scaled arrays back to DataFrames for easier handling\n",
    "X_train = pd.DataFrame(X_train_scaled, columns=X_train_combined.columns)\n",
    "X_val = pd.DataFrame(X_val_scaled, columns=X_val_combined.columns)\n",
    "\n",
    "# Show the cleaned dataset\n",
    "print(X_train)\n",
    "print(X_val)"
   ]
  },
  {
   "cell_type": "markdown",
   "metadata": {},
   "source": [
    "### Data Preparation"
   ]
  },
  {
   "cell_type": "code",
   "execution_count": 25,
   "metadata": {},
   "outputs": [],
   "source": [
    "torch.manual_seed(13)\n",
    "\n",
    "# Convert pandas DataFrames to Numpy arrays\n",
    "X_train = X_train.to_numpy()\n",
    "y_train = y_train.to_numpy()\n",
    "X_val = X_val.to_numpy()\n",
    "y_val = y_val.to_numpy()\n",
    "\n",
    "# Builds tensors from numpy arrays\n",
    "x_train_tensor = torch.as_tensor(X_train).float()\n",
    "x_val_tensor = torch.as_tensor(X_val).float()\n",
    "# Reshapes y_train and y_val to be column vectors\n",
    "y_train_tensor = torch.as_tensor(y_train.reshape(-1, 1)).float()\n",
    "y_val_tensor = torch.as_tensor(y_val.reshape(-1, 1)).float()\n",
    "\n",
    "# Builds dataset containing ALL data points\n",
    "train_dataset = TensorDataset(x_train_tensor, y_train_tensor)\n",
    "val_dataset = TensorDataset(x_val_tensor, y_val_tensor)\n",
    "\n",
    "# Builds a loader of each set\n",
    "train_loader = DataLoader(dataset=train_dataset, batch_size=100, shuffle=True)\n",
    "val_loader = DataLoader(dataset=val_dataset, batch_size=100)\n"
   ]
  },
  {
   "cell_type": "markdown",
   "metadata": {},
   "source": [
    "## Model"
   ]
  },
  {
   "cell_type": "markdown",
   "metadata": {},
   "source": [
    "$$\n",
    "\\Large\n",
    "y = b + w_1x_1 + w_2x_2 + ... + w_nx_n + \\epsilon\n",
    "$$"
   ]
  },
  {
   "cell_type": "markdown",
   "metadata": {},
   "source": [
    "$$\n",
    "\\Large \n",
    "y =\n",
    "\\begin{cases}\n",
    "1,\\ \\text{if }b + w_1x_1 + w_2x_2 + ... + w_nx_n \\ge 0\n",
    "\\\\\n",
    "0,\\ \\text{if }b + w_1x_1 + w_2x_2 + ... + w_nx_n < 0\n",
    "\\end{cases}\n",
    "$$"
   ]
  },
  {
   "cell_type": "markdown",
   "metadata": {},
   "source": [
    "### Logits"
   ]
  },
  {
   "cell_type": "markdown",
   "metadata": {},
   "source": [
    "$$\n",
    "\\Large\n",
    "z = b + w_1x_1 + w_2x_2 + ... + w_nx_n\n",
    "$$"
   ]
  },
  {
   "cell_type": "markdown",
   "metadata": {},
   "source": [
    "### Probabilities"
   ]
  },
  {
   "cell_type": "markdown",
   "metadata": {},
   "source": [
    "$$\n",
    "\\Large\n",
    "\\begin{aligned}\n",
    "& \\text{P}(y=1) \\approx 1.0, & \\text{if } &z \\gg 0\n",
    "\\\\\n",
    "& \\text{P}(y=1) = 0.5, & \\text{if } &z = 0\n",
    "\\\\\n",
    "& \\text{P}(y=1) \\approx 0.0, & \\text{if } &z \\ll 0\n",
    "\\end{aligned}\n",
    "$$"
   ]
  },
  {
   "cell_type": "markdown",
   "metadata": {},
   "source": [
    "### From Logits to Probabilities"
   ]
  },
  {
   "cell_type": "markdown",
   "metadata": {},
   "source": [
    "$$\n",
    "\\Large\n",
    "\\begin{aligned}\n",
    "b + w_1x_1 + w_2x_2 + ... + w_nx_n = &\\ z = \\text{log}\\left(\\frac{p}{1-p}\\right) \\nonumber\n",
    "\\\\\n",
    "e^{b + w_1x_1 + w_2x_2 + ... + w_nx_n} = &\\ e^z = \\frac{p}{1-p} \\nonumber\n",
    "\\end{aligned}\n",
    "$$"
   ]
  },
  {
   "cell_type": "markdown",
   "metadata": {},
   "source": [
    "$$\n",
    "\\Large\n",
    "\\begin{aligned}\n",
    "\\frac{1}{e^z}& = \\frac{1-p}{p}\n",
    "\\\\\n",
    "e^{-z}& = \\frac{1}{p} - 1\n",
    "\\\\\n",
    "1 + e^{-z}& = \\frac{1}{p}&\n",
    "\\\\\n",
    "p& = \\frac{1}{1 + e^{-z}}\n",
    "\\end{aligned}\n",
    "$$"
   ]
  },
  {
   "cell_type": "markdown",
   "metadata": {},
   "source": [
    "$$\n",
    "\\Large\n",
    "p = \\sigma(z) = \\frac{1}{1+e^{-z}}\n",
    "$$"
   ]
  },
  {
   "cell_type": "markdown",
   "metadata": {},
   "source": [
    "### Logistic Regression"
   ]
  },
  {
   "cell_type": "markdown",
   "metadata": {},
   "source": [
    "$$\n",
    "\\Large\n",
    "\\text{P}(y=1) = \\sigma(z) = \\sigma(b+w_1x_1+w_2x_2 + ... + w_nx_n) = \\frac{1}{1+e^{-(b+w_1x_1+w_2x_2 + ... + w_nx_n)}}      \n",
    "$$"
   ]
  },
  {
   "cell_type": "markdown",
   "metadata": {},
   "source": [
    "### A Note on Notation (for reference)"
   ]
  },
  {
   "cell_type": "markdown",
   "metadata": {},
   "source": [
    "$$\n",
    "\\Large W =\n",
    "\\underset{(3 \\times 1)}{\n",
    "\\begin{bmatrix}\n",
    "b \\\\\n",
    "w_1 \\\\\n",
    "w_2\n",
    "\\end{bmatrix}};\n",
    "X = \n",
    "\\underset{(3 \\times 1)}{\n",
    "\\begin{bmatrix}\n",
    "1 \\\\\n",
    "x_1 \\\\\n",
    "x_2\n",
    "\\end{bmatrix}}\n",
    "$$"
   ]
  },
  {
   "cell_type": "markdown",
   "metadata": {},
   "source": [
    "$$\n",
    "\\Large \n",
    "\\begin{aligned}\n",
    "z\n",
    "& = W^T X\n",
    "=\n",
    "\\underset{(1 \\times 3)}{\n",
    "\\begin{bmatrix}\n",
    "- & w^{T} & -\\\\\n",
    "\\end{bmatrix}}\n",
    "\\underset{(3 \\times 1)}{\n",
    "\\begin{bmatrix}\n",
    "1 \\\\\n",
    "x_1 \\\\\n",
    "x_2\n",
    "\\end{bmatrix}}\n",
    "= \\underset{(1 \\times 3)}{\n",
    "\\begin{bmatrix}\n",
    "b & w_1 & w_2\n",
    "\\end{bmatrix}}\n",
    "\\underset{(3 \\times 1)}{\n",
    "\\begin{bmatrix}\n",
    "1 \\\\\n",
    "x_1 \\\\\n",
    "x_2\n",
    "\\end{bmatrix}}\\\\\n",
    "& = b + w_1x_1 + w_2x_2\n",
    "\\end{aligned}\n",
    "$$"
   ]
  },
  {
   "cell_type": "markdown",
   "metadata": {},
   "source": [
    "## Loss"
   ]
  },
  {
   "cell_type": "markdown",
   "metadata": {},
   "source": [
    "$$\n",
    "\\Large y_i = 1 \\Rightarrow \\text{error}_i=\\text{log}(\\text{P}(y_i=1))\n",
    "$$"
   ]
  },
  {
   "cell_type": "markdown",
   "metadata": {},
   "source": [
    "$$\n",
    "\\Large \\text{P}(y_i=0)=1-\\text{P}(y_i=1)\n",
    "$$"
   ]
  },
  {
   "cell_type": "markdown",
   "metadata": {},
   "source": [
    "$$\n",
    "\\Large y_i = 0 \\Rightarrow \\text{error}_i=\\text{log}(1-\\text{P}(y_i=1))\n",
    "$$"
   ]
  },
  {
   "cell_type": "markdown",
   "metadata": {},
   "source": [
    "$$\n",
    "\\Large\n",
    "\\text{BCE}(y)={-\\frac{1}{(N_{\\text{pos}}+N_{\\text{neg}})}\\Bigg[{\\sum_{i=1}^{N_{\\text{pos}}}{\\text{log}(\\text{P}(y_i=1))} + \\sum_{i=1}^{N_{\\text{neg}}}{\\text{log}(1 - \\text{P}(y_i=1))}}\\Bigg]}\n",
    "$$"
   ]
  },
  {
   "cell_type": "markdown",
   "metadata": {},
   "source": [
    "$$\n",
    "\\Large\n",
    "\\text{BCE}(y)={-\\frac{1}{N}\\sum_{i=1}^{N}{\\left[y_i \\text{log}(\\text{P}(y_i=1)) + (1-y_i) \\text{log}(1-\\text{P}(y_i=1))\\right]}}\n",
    "$$"
   ]
  },
  {
   "cell_type": "markdown",
   "metadata": {},
   "source": [
    "### Model Configuration"
   ]
  },
  {
   "cell_type": "code",
   "execution_count": 26,
   "metadata": {},
   "outputs": [
    {
     "name": "stdout",
     "output_type": "stream",
     "text": [
      "Number of features: 51\n"
     ]
    }
   ],
   "source": [
    "# Sets learning rate - \"eta\" ~ the \"n\" like Greek letter\n",
    "lr = 0.005\n",
    "\n",
    "torch.manual_seed(42)\n",
    "feature_cnt = X_train.shape[1]\n",
    "print(\"Number of features:\", feature_cnt)\n",
    "model = nn.Sequential()\n",
    "model.add_module('linear0', nn.Linear(feature_cnt, 50))\n",
    "model.add_module('activation0', nn.ReLU())\n",
    "model.add_module('linear2', nn.Linear(50, 10))\n",
    "model.add_module('activation2', nn.ReLU())\n",
    "model.add_module('output', nn.Linear(10, 1))\n",
    "\n",
    "# Defines a SGD optimizer to update the parameters\n",
    "# optimizer = optim.SGD(model.parameters(), lr=lr)\n",
    "\n",
    "# Defines an Adam optimizer to update the parameters\n",
    "optimizer = optim.Adam(model.parameters(), lr=lr)\n",
    "\n",
    "# Defines a BCE loss function\n",
    "loss_fn = nn.BCEWithLogitsLoss()"
   ]
  },
  {
   "cell_type": "markdown",
   "metadata": {},
   "source": [
    "### Model Definition"
   ]
  },
  {
   "cell_type": "code",
   "execution_count": 27,
   "metadata": {},
   "outputs": [],
   "source": [
    "sbs = StepByStep(model=model, loss_fn=loss_fn, optimizer=optimizer)"
   ]
  },
  {
   "cell_type": "markdown",
   "metadata": {},
   "source": [
    "### Model Training"
   ]
  },
  {
   "cell_type": "code",
   "execution_count": null,
   "metadata": {},
   "outputs": [],
   "source": [
    "n_epochs = 100\n",
    "\n",
    "sbs.set_loaders(train_loader, val_loader)\n",
    "sbs.set_tensorboard('run', folder='binary_bank_comp/runs')\n",
    "sbs.train(n_epochs)"
   ]
  },
  {
   "cell_type": "code",
   "execution_count": 9,
   "metadata": {},
   "outputs": [
    {
     "data": {
      "image/png": "[encoded data removed]",
      "text/plain": [
       "<Figure size 1000x400 with 1 Axes>"
      ]
     },
     "metadata": {},
     "output_type": "display_data"
    }
   ],
   "source": [
    "fig = sbs.plot_losses()"
   ]
  },
  {
   "cell_type": "code",
   "execution_count": 10,
   "metadata": {},
   "outputs": [
    {
     "name": "stdout",
     "output_type": "stream",
     "text": [
      "OrderedDict({'linear0.weight': tensor([[-0.9954, -2.2990, -2.2273,  ..., -0.1555, -0.0719,  0.9336],\n",
      "        [-1.7827, -1.0090, -0.0699,  ...,  0.3876,  0.2621, -1.0516],\n",
      "        [ 0.2936, -0.4302,  3.2071,  ..., -1.9258, -0.6340,  0.2565],\n",
      "        ...,\n",
      "        [-0.8143, -0.2211, -0.0993,  ..., -1.2854,  1.4823,  0.3634],\n",
      "        [ 2.3259,  0.5219, -1.0682,  ..., -1.8793,  0.2836, -0.6099],\n",
      "        [ 0.2670, -0.1127,  0.5547,  ..., -0.1308,  0.1826,  0.0514]],\n",
      "       device='cuda:0'), 'linear0.bias': tensor([-1.0119e+00, -3.5959e+00, -1.4574e-01, -2.8072e+00, -2.4568e+00,\n",
      "        -1.2607e+00, -2.1433e-01, -2.4488e+00, -1.5960e+00,  2.7744e+00,\n",
      "        -5.5556e+00,  1.7757e-03, -5.2887e+00, -2.0753e+00, -1.0617e+00,\n",
      "        -1.4061e+00, -6.1818e+00, -7.7202e-01, -2.6265e+00, -3.0270e+00,\n",
      "        -3.3920e+00, -1.6472e+00, -7.5560e-01, -1.0450e+00, -2.6088e+00,\n",
      "        -4.4100e+00, -4.2815e+00, -1.8915e+00,  1.3074e-01, -1.3515e+00,\n",
      "        -2.2622e+00,  2.4613e+00, -7.7826e-01, -3.3817e+00, -2.1230e+00,\n",
      "        -2.8370e-01,  4.8174e-01, -2.5818e+00, -1.3273e+00, -3.3546e+00,\n",
      "         3.5840e-01, -3.6826e-01, -3.1758e+00, -5.8805e+00, -4.9754e+00,\n",
      "        -4.0705e+00, -5.0677e+00, -2.7009e+00, -7.7507e-01, -4.1368e+00,\n",
      "        -6.8542e+00, -1.6686e+00, -2.5228e+00, -2.2732e-01,  7.1222e-01,\n",
      "        -6.1697e-01, -2.2270e+00, -1.7596e+00, -1.2071e+00, -1.8649e+00,\n",
      "        -2.0401e+00,  3.1784e-01, -2.1959e+00, -8.0840e-01, -4.1500e+00,\n",
      "        -5.3570e+00, -2.2515e+00, -3.3391e+00, -3.9997e+00,  8.1946e-01,\n",
      "        -2.2524e+00, -1.0167e+00, -1.1183e+00, -1.9731e+00, -4.1310e+00,\n",
      "        -3.8951e+00, -3.5818e+00, -2.8560e+00, -2.8941e+00,  2.1929e-01],\n",
      "       device='cuda:0'), 'linear2.weight': tensor([[ 1.5924e+00,  7.7289e-01,  2.5903e-01, -6.7336e-02,  1.0725e-01,\n",
      "          1.0400e+00,  7.3060e-01,  2.8887e-01, -3.7249e-01, -1.5188e+00,\n",
      "         -3.5920e-01,  4.2930e-01, -3.5711e+00,  1.7383e-01,  5.9719e-01,\n",
      "          6.5772e-01,  1.9986e-01, -1.5581e-01,  7.5459e-02,  6.6252e-01,\n",
      "          1.7230e-01,  4.0287e-01,  3.2120e-01, -1.5659e-02, -2.8857e-01,\n",
      "          1.7633e+00, -2.0746e-01, -9.1339e-01,  1.0247e-01,  3.4036e-01,\n",
      "          7.2718e-01,  6.6781e-01,  7.5463e-01, -2.9589e-01,  2.1683e-01,\n",
      "          1.0311e+00,  2.8205e-01,  9.1201e-01,  4.1288e-02, -7.2150e-01,\n",
      "          4.1647e-01, -5.9251e-01, -2.0568e-01, -1.1723e-01,  7.7688e-01,\n",
      "         -2.9591e-01,  1.0414e-01,  3.8522e-01, -3.9961e-01,  4.5172e-01,\n",
      "         -2.7161e+00,  1.5245e-01,  2.1860e-01,  1.6683e-01,  6.1965e-01,\n",
      "          1.5829e-02,  9.8122e-01, -1.9434e+00,  1.6120e-01,  3.1079e-01,\n",
      "         -1.6966e-01,  6.6608e-01,  1.3830e-03,  5.0305e-01, -1.8315e+00,\n",
      "          2.3654e-01,  8.1890e-01, -3.6653e-01, -3.0828e+00, -2.7608e-01,\n",
      "         -2.8110e-01, -1.3490e-01,  9.8798e-01,  1.0368e-01,  6.6337e-01,\n",
      "         -7.7380e-02, -4.4586e-01,  6.0609e-01,  1.0305e-01,  6.0903e-02],\n",
      "        [ 6.6908e-01, -7.4027e-01, -1.4252e+00,  1.9983e+00, -9.9290e-01,\n",
      "          1.0241e+00, -2.9370e-01, -3.5691e+00,  1.9765e-01,  4.0967e-01,\n",
      "          8.7450e-01,  1.6968e+00, -2.2794e+00,  1.1498e+00,  1.3648e+00,\n",
      "         -1.8652e-01,  2.6963e+00, -6.9332e-01, -9.7600e-02,  2.7163e-01,\n",
      "         -3.7273e-01,  5.0213e-01, -2.9570e-01, -1.2422e+00, -7.5335e-01,\n",
      "         -6.8488e+00, -9.2794e-02,  1.4196e-02, -1.2137e+00, -2.0380e+00,\n",
      "          1.8948e+00,  9.3099e-01, -1.2731e+00, -1.8946e+00, -6.4668e-01,\n",
      "         -4.1492e+00,  1.1442e+00, -5.9295e-01,  7.3064e-01,  1.3254e-01,\n",
      "         -1.6429e-01, -2.3028e+00, -1.3074e-01,  9.6114e-01,  6.6508e-01,\n",
      "         -3.8586e+00,  5.2559e-01, -1.4742e-01,  1.0144e-03,  1.3751e+00,\n",
      "         -6.3788e-01, -2.3882e+00,  3.7855e-01, -2.0040e+00,  1.2274e+00,\n",
      "          2.1056e-01, -2.8312e-01, -2.0539e+00, -2.7569e-01,  5.9076e-01,\n",
      "          1.0585e+00, -1.0385e-01,  4.2003e-01, -2.6216e+00, -2.8662e+00,\n",
      "          8.5358e-01, -1.2354e+00, -7.6905e-01, -1.8232e-01,  8.2343e-01,\n",
      "          8.3257e-01, -2.5387e-01,  7.5550e-02, -7.7669e-01, -6.0326e-01,\n",
      "         -2.7039e-02,  2.7301e-01,  7.7621e-01,  1.1120e+00, -1.2212e+00],\n",
      "        [-6.5168e-01, -2.8702e-01, -2.2913e-01, -4.4699e-01, -1.4781e+00,\n",
      "         -6.7682e-01,  1.0741e+00, -3.0144e+00,  7.2558e-01,  6.0240e-01,\n",
      "         -2.6141e+00,  2.6598e-01,  3.2055e-01, -7.0210e-01,  8.9703e-01,\n",
      "          7.9938e-02, -8.5164e-01, -2.2797e-01, -5.1907e-01, -4.5766e-02,\n",
      "         -8.4750e-01, -1.1535e+00, -2.6565e+00,  2.1837e-01, -1.9935e-01,\n",
      "         -4.2267e-01, -2.3124e-01, -1.7567e-01, -9.7024e-02, -1.1900e+00,\n",
      "         -1.3428e+00,  9.5427e-01,  1.3625e+00,  5.1235e-02, -4.8631e-01,\n",
      "         -4.3467e-01,  1.2986e-01,  3.5009e-02, -5.5617e-02,  4.0942e-01,\n",
      "         -1.5257e-01, -2.6725e-01, -1.8328e+00,  8.0531e-02,  3.1244e+00,\n",
      "         -2.6218e+00, -6.1110e-01, -2.6014e+00,  2.1580e-01, -4.7023e-01,\n",
      "          7.3704e-01, -2.0020e-01,  5.2978e-01, -1.4946e+00, -4.5775e-01,\n",
      "         -3.3195e-01,  5.2301e-01,  8.5990e-01, -8.1103e-01,  8.3772e-01,\n",
      "          7.9366e-01, -7.9783e-02,  3.2458e-01,  3.2779e-01,  4.7442e-02,\n",
      "         -2.5428e-01, -6.8065e-02,  2.0722e-01,  6.3400e-01,  7.3075e-01,\n",
      "          7.9552e-01, -3.7701e-01, -2.2203e+00, -1.2135e-01, -1.7638e-01,\n",
      "          1.2227e+00, -2.5437e-01,  7.4008e-01, -2.0343e+00,  9.1787e-01],\n",
      "        [-3.1852e-01,  6.3664e-01, -5.7112e-01, -6.3531e-01,  2.0022e-02,\n",
      "          3.4619e-01,  2.2449e-01,  2.1359e-01, -1.6077e-01,  1.7550e+00,\n",
      "         -3.3203e-01,  9.3865e-01, -2.3628e-01,  7.2138e-01,  2.8920e-01,\n",
      "          6.4566e-01, -6.1701e-01, -1.8541e-01, -9.8487e-01, -1.0142e-01,\n",
      "         -1.5591e+00,  1.8437e-03,  6.3232e-01, -1.4408e+00, -2.9946e-01,\n",
      "         -1.5038e-01,  8.0802e-01, -1.5093e+00, -2.4033e-01,  9.6173e-01,\n",
      "         -8.7655e-01,  3.0838e-01, -2.1464e+00, -1.5675e+00, -4.8434e-02,\n",
      "          3.8316e-01, -1.2410e-01, -3.0776e-01,  3.3471e-01, -7.6128e-01,\n",
      "          2.1313e-01,  2.4039e-01,  5.5963e-01, -3.4165e-03,  2.7980e+00,\n",
      "          3.7698e-01,  5.2351e-01, -5.4396e-01, -1.6122e+00,  8.0372e-02,\n",
      "          2.5321e-01, -9.0899e-01, -5.8576e-03,  5.9653e-01, -5.5275e-01,\n",
      "         -1.1240e+00, -8.7165e-02,  5.8296e-01, -5.9515e-01,  6.8915e-01,\n",
      "         -7.4774e-02, -4.0988e-01,  5.6025e-02, -8.3899e-01, -5.0380e-01,\n",
      "          7.0979e-01, -5.5906e-01, -6.0968e-01,  8.1415e-01,  5.2730e-01,\n",
      "          6.8634e-01, -4.0776e-01,  3.8555e-01,  9.0999e-01, -6.1274e-01,\n",
      "          7.8478e-02, -5.4274e-01, -8.6013e-01, -4.3929e-01, -1.8413e-01],\n",
      "        [-4.0584e-01, -9.3367e-02,  1.8651e-01,  1.1063e+00, -7.4441e-01,\n",
      "          3.2621e-01,  7.8645e-01,  1.8254e+00, -1.1813e+00,  7.6740e-01,\n",
      "         -2.2962e-01, -1.8991e-01, -8.7675e-01, -1.2464e-01, -4.9208e-01,\n",
      "          8.3247e-02, -1.3727e+00, -2.2694e+00, -6.2793e-01, -6.0050e-01,\n",
      "         -3.2977e-01, -2.6643e-01, -1.7427e-01,  2.7056e-01, -1.0556e+00,\n",
      "          1.1673e+00, -2.1433e+00,  4.3787e-01, -4.2769e-01, -5.6709e-01,\n",
      "          9.5629e-01,  1.3036e+00,  9.7476e-01,  6.0541e-01,  1.0949e-01,\n",
      "          5.5488e-03, -3.6994e-01, -2.2693e-01,  9.3989e-01,  9.3016e-01,\n",
      "          3.6857e-01,  5.5228e-01, -3.7843e-01,  4.8462e-01, -1.5285e+00,\n",
      "         -3.6634e-01,  3.8134e-01,  5.0291e-01,  2.3775e-01,  1.9456e-01,\n",
      "         -5.0551e-01,  5.3167e-01, -6.3185e-01, -4.8140e-02, -2.1139e-01,\n",
      "         -3.4737e-01,  6.3842e-01,  8.0902e-01,  1.8655e+00,  3.8870e-01,\n",
      "          5.9769e-01,  9.9181e-02, -2.8400e-01,  7.5515e-01,  1.3321e+00,\n",
      "         -9.9756e-01,  1.2295e+00, -6.4499e-01, -7.4522e-01,  7.5539e-01,\n",
      "          6.2339e-01, -1.3885e+00,  3.8991e-01,  1.2551e-01, -2.5593e-01,\n",
      "          3.6227e-01, -2.3927e-01,  2.9020e-01, -5.8420e-01, -8.7823e-01],\n",
      "        [ 3.5069e-01, -2.0978e-01, -1.0876e+00,  1.2763e+00, -2.5064e-01,\n",
      "          3.5213e-01,  1.2808e-01, -1.8878e-01,  6.6698e-02,  1.3882e+00,\n",
      "         -1.4686e-01, -9.2666e-01, -6.9066e-01,  4.1616e-01,  1.5753e-02,\n",
      "         -7.9060e-01,  6.3959e-02,  8.4384e-02, -4.6703e-01,  7.2683e-01,\n",
      "          1.0209e+00, -7.2194e-01, -3.5701e-01, -1.1803e+00,  4.5969e-03,\n",
      "          3.6923e-02,  5.4344e-01,  2.6061e-01,  2.6777e-01, -1.6497e+00,\n",
      "          5.3427e-02,  5.4011e-02, -1.6449e+00, -1.6190e-01, -1.3449e+00,\n",
      "          2.5764e-01,  6.7579e-02,  1.0976e+00,  1.2216e+00, -7.9490e-01,\n",
      "         -2.2171e-01, -8.3901e-01, -5.8362e-01, -1.4165e+00, -5.1757e+00,\n",
      "         -2.0719e+00, -1.0826e+00, -9.8197e-01,  1.1688e-01, -1.7843e-01,\n",
      "         -5.0418e-01, -2.1529e-01, -5.2179e-01, -4.0083e-01, -2.5952e-01,\n",
      "         -7.2251e-01, -2.9306e-01, -4.2548e-01, -1.8645e+00,  2.6329e-01,\n",
      "         -6.6601e-01, -9.3853e-02,  3.9032e-01,  3.1136e-01,  9.6601e-01,\n",
      "          4.8700e-01,  1.6776e+00, -4.0657e-01,  2.5023e-01,  1.2942e+00,\n",
      "          1.0109e-01,  1.6390e-01,  3.1589e-01, -2.3592e-01, -1.0764e+00,\n",
      "          3.4270e-01,  5.2231e-01,  7.1768e-01,  2.9900e-01,  8.3441e-01],\n",
      "        [ 6.7143e-01,  4.3371e-01,  6.3693e-01, -1.9076e+00, -7.8466e-01,\n",
      "          8.8647e-02, -2.2801e-01,  4.0605e-01, -1.4899e+00,  1.5982e+00,\n",
      "          9.5817e-01, -3.3809e-01, -2.7347e-01,  1.4628e+00, -1.2584e+00,\n",
      "          9.7570e-01, -1.2379e-01, -1.0848e+00, -7.0272e-01,  1.1213e+00,\n",
      "          1.1655e+00,  1.4429e+00,  9.8311e-02, -6.4568e-01,  1.1054e-01,\n",
      "         -5.0699e-01,  6.4939e-02,  2.2816e-01, -2.9375e-02, -9.1470e-01,\n",
      "         -7.1751e-01,  1.3732e+00, -2.2090e+00,  6.6973e-01,  8.0579e-01,\n",
      "          5.2678e-01, -7.4647e-01,  3.3606e-01, -1.2499e+00,  5.2721e-01,\n",
      "          5.9482e-01,  3.2641e-01, -1.3677e+00,  1.5081e+00, -4.4395e+00,\n",
      "         -7.0819e+00,  1.0370e+00,  9.6736e-01, -5.7457e-01, -1.1676e+00,\n",
      "         -9.7266e-01,  8.5991e-01, -4.4713e-01,  8.9177e-02, -3.1812e-01,\n",
      "         -3.3540e-01,  1.0785e+00, -1.9850e+00, -4.5464e+00, -9.9642e-01,\n",
      "          1.3923e-01,  6.7226e-01, -3.1740e-01,  3.2603e-01, -3.0903e+00,\n",
      "         -6.8663e-01, -4.6092e-01, -7.8535e-01,  2.5128e-01,  2.6093e-01,\n",
      "          5.9431e-01, -4.6144e-01,  4.7591e-01, -5.6640e-01, -2.2647e-01,\n",
      "         -6.2357e-01, -9.7061e-01,  8.6180e-01, -1.2615e+00, -5.3455e-01],\n",
      "        [-8.6605e-01, -1.3196e+00, -4.0465e-01, -1.2357e+00,  1.9033e-01,\n",
      "          4.5538e-02,  7.6389e-01, -1.7378e+00,  1.0581e-02, -5.5036e+00,\n",
      "         -3.6611e+00,  9.6981e-01,  1.3096e+00,  1.5068e+00, -2.7762e+00,\n",
      "          8.2779e-01,  2.6673e+00, -2.0730e-01, -2.3325e+00, -3.0240e-01,\n",
      "         -2.6788e-02,  5.8950e-01, -3.5631e-01, -6.4377e-01, -6.7921e-01,\n",
      "          5.5127e-01, -5.9551e-01, -1.0002e-01, -3.2803e+00,  9.6737e-01,\n",
      "          1.2447e+00,  6.7921e-01,  3.6560e-01, -1.1236e+00,  7.3734e-01,\n",
      "         -2.7816e-01, -2.5529e-01, -5.1393e-01,  1.5259e+00, -3.5951e+00,\n",
      "         -2.8185e-01, -1.0893e+00,  6.3762e-01, -7.0031e-01, -1.0090e+00,\n",
      "         -4.7793e-01, -1.6661e+00,  1.1590e+00, -1.1555e+00,  1.7363e+00,\n",
      "          5.6760e-01, -1.6950e-01, -5.4536e-01,  1.4771e+00, -1.1506e-01,\n",
      "         -1.0605e-01,  1.3069e-01, -2.0391e-03,  1.0271e+00,  9.0511e-01,\n",
      "          1.3514e+00,  3.5083e-01, -7.5686e-01, -8.6444e-01, -2.2461e-03,\n",
      "          3.7448e-01,  1.5939e-01, -5.9559e-02,  3.9506e-01,  5.3419e-01,\n",
      "          2.3747e-01, -3.8357e-01, -4.5641e-02,  2.4821e+00,  3.5369e-01,\n",
      "          1.4328e-01, -1.4302e+00, -7.1017e-01,  7.6637e-01, -1.3766e-02],\n",
      "        [ 2.1440e-01, -4.6878e-01,  1.1493e-01,  1.0449e+00, -4.0427e-01,\n",
      "         -3.2953e-01,  1.3313e+00, -9.3392e-01, -5.7530e-01,  3.7634e-01,\n",
      "          2.3707e-02,  4.7304e-01, -2.8463e-01,  6.0323e-01,  9.0614e-01,\n",
      "         -7.1578e-02,  2.1794e+00, -4.3591e-01, -8.6915e-02,  6.8431e-01,\n",
      "          3.5738e-01,  3.1394e-01,  5.1733e-01, -2.3788e-01,  6.4170e-02,\n",
      "          1.5865e+00, -1.0282e+00,  1.0498e+00, -5.1471e-01,  8.7861e-03,\n",
      "          5.3700e-02, -4.0704e-01, -9.8499e-01,  1.3330e+00, -1.5031e+00,\n",
      "          1.1438e-01, -3.7242e-02, -1.3519e-01,  2.9424e-01,  1.1913e-02,\n",
      "          1.4235e-01, -4.7436e-01, -1.1903e+00, -1.4123e+00, -4.3841e-01,\n",
      "          3.0952e-01,  1.6899e+00, -4.6453e-01,  3.0257e-04, -1.5999e+00,\n",
      "         -1.0682e+01,  7.3003e-01,  8.9340e-02,  2.4484e-01,  7.6653e-04,\n",
      "          1.3260e+00, -4.0809e-01, -4.6928e-01, -2.2371e+00,  8.1391e-01,\n",
      "         -1.3859e+00,  7.6789e-01,  2.7429e-01,  4.9224e-03,  5.3773e-01,\n",
      "          1.6635e-01,  7.2285e-01, -7.8634e-01, -5.6143e+00,  4.3790e-01,\n",
      "          1.1370e+00, -8.8615e-02,  4.1538e-01, -6.5779e-01, -5.3531e-01,\n",
      "         -1.4875e+00, -1.5607e+00,  1.0222e+00,  1.1227e+00,  2.5096e-01],\n",
      "        [ 5.3714e-01, -5.9556e-01, -4.6148e-01, -1.4170e+00, -3.9830e+00,\n",
      "          4.2111e-01, -2.5961e-01,  5.8075e-01, -7.3333e-01,  1.1331e-01,\n",
      "         -3.2429e-01, -3.3039e-02,  5.1313e-01,  1.2586e+00, -3.4496e+00,\n",
      "         -1.3059e-01,  1.5445e-01, -7.4464e-01, -3.4160e-02, -1.0495e+00,\n",
      "          4.1199e-01, -2.2717e-01, -1.9562e-01, -1.5675e+00, -4.0179e-01,\n",
      "          1.1322e-01, -3.8409e+00,  2.4319e-01,  1.3750e-01, -7.8687e+00,\n",
      "          4.1280e-02,  3.6247e+00, -2.8790e-01,  1.0404e+00, -7.1363e-02,\n",
      "          4.4240e-01, -1.8579e+00,  1.7942e-01, -2.1286e-02, -6.6481e-02,\n",
      "         -5.1999e+00, -8.7853e-01,  3.1849e-01,  8.7617e-01, -2.1589e+01,\n",
      "         -8.5094e+00, -9.3030e-01, -2.2360e-01, -2.0769e-01,  4.9578e-01,\n",
      "          3.3498e-01,  1.0140e+00, -3.8938e+00,  6.9942e-01, -5.0750e-01,\n",
      "         -1.1802e-01,  1.4093e+00, -3.7125e-01, -4.8225e+00, -6.4461e-01,\n",
      "         -9.2495e-02,  5.3027e-01,  2.7456e+00,  4.6121e-02, -1.1068e+01,\n",
      "         -7.4486e+00, -2.0370e-01, -4.0204e+00, -2.3657e-01,  2.5657e-01,\n",
      "         -3.0690e+00, -3.1909e-01,  2.6846e-01, -1.2861e-01, -6.5390e-01,\n",
      "         -9.4405e-01,  5.3841e-02, -1.7660e-01, -5.9365e-01, -1.4630e-01]],\n",
      "       device='cuda:0'), 'linear2.bias': tensor([ 3.3417, -3.0519,  3.4135, -5.0882, -1.3719,  4.2528,  0.3564, -1.0565,\n",
      "        -0.9191, -0.3862], device='cuda:0'), 'output.weight': tensor([[-0.0843,  0.1008,  0.0677, -0.0816, -0.0679,  0.0622,  0.0501, -0.1071,\n",
      "         -0.0620,  0.3063]], device='cuda:0'), 'output.bias': tensor([-0.0082], device='cuda:0')})\n"
     ]
    }
   ],
   "source": [
    "print(model.state_dict())"
   ]
  },
  {
   "cell_type": "code",
   "execution_count": null,
   "metadata": {},
   "outputs": [],
   "source": [
    "# Save model\n",
    "filename='binary_bank_comp/cp2a_adam_3layer_lr005_100.pth'\n",
    "sbs.save_checkpoint(filename=filename)"
   ]
  },
  {
   "cell_type": "markdown",
   "metadata": {},
   "source": [
    "## Inference"
   ]
  },
  {
   "cell_type": "markdown",
   "metadata": {},
   "source": [
    "### Load Test Data"
   ]
  },
  {
   "cell_type": "code",
   "execution_count": 13,
   "metadata": {},
   "outputs": [
    {
     "name": "stdout",
     "output_type": "stream",
     "text": [
      "       id  age            job  marital  education default  balance housing  \\\n",
      "0  750000   32    blue-collar  married  secondary      no     1397     yes   \n",
      "1  750001   44     management  married   tertiary      no       23     yes   \n",
      "2  750002   36  self-employed  married    primary      no       46     yes   \n",
      "3  750003   58    blue-collar  married  secondary      no    -1380     yes   \n",
      "4  750004   28     technician   single  secondary      no     1950     yes   \n",
      "\n",
      "  loan   contact  day month  duration  campaign  pdays  previous poutcome  \n",
      "0   no   unknown   21   may       224         1     -1         0  unknown  \n",
      "1   no  cellular    3   apr       586         2     -1         0  unknown  \n",
      "2  yes  cellular   13   may       111         2     -1         0  unknown  \n",
      "3  yes   unknown   29   may       125         1     -1         0  unknown  \n",
      "4   no  cellular   22   jul       181         1     -1         0  unknown  \n"
     ]
    }
   ],
   "source": [
    "# Import data from .csv file\n",
    "raw_test_data = pd.read_csv('binary_bank_comp/dataset/test.csv')\n",
    "\n",
    "# Display the first few rows of the dataset\n",
    "print(raw_test_data[:5])"
   ]
  },
  {
   "cell_type": "markdown",
   "metadata": {},
   "source": [
    "### Remove and save id column"
   ]
  },
  {
   "cell_type": "code",
   "execution_count": 14,
   "metadata": {},
   "outputs": [
    {
     "data": {
      "text/plain": [
       "0         750000\n",
       "1         750001\n",
       "2         750002\n",
       "3         750003\n",
       "4         750004\n",
       "           ...  \n",
       "249995    999995\n",
       "249996    999996\n",
       "249997    999997\n",
       "249998    999998\n",
       "249999    999999\n",
       "Name: id, Length: 250000, dtype: int64"
      ]
     },
     "execution_count": 14,
     "metadata": {},
     "output_type": "execute_result"
    }
   ],
   "source": [
    "# Remove and save id column\n",
    "id_column = raw_test_data['id']\n",
    "raw_test_data.drop(columns=['id'], inplace=True)\n",
    "id_column"
   ]
  },
  {
   "cell_type": "markdown",
   "metadata": {},
   "source": [
    "### Clean Test Data"
   ]
  },
  {
   "cell_type": "code",
   "execution_count": 15,
   "metadata": {},
   "outputs": [
    {
     "name": "stdout",
     "output_type": "stream",
     "text": [
      "             age   balance       day  duration  campaign     pdays  previous  \\\n",
      "0      -0.882305  0.067636  0.591223 -0.118099 -0.579664 -0.302805 -0.222073   \n",
      "1       0.306400 -0.415342 -1.589909  1.210545 -0.211544 -0.302805 -0.222073   \n",
      "2      -0.486070 -0.407257 -0.378169 -0.532842 -0.211544 -0.302805 -0.222073   \n",
      "3       1.693222 -0.908514  1.560615 -0.481458 -0.579664 -0.302805 -0.222073   \n",
      "4      -1.278540  0.262023  0.712397 -0.275921 -0.579664 -0.302805 -0.222073   \n",
      "...          ...       ...       ...       ...       ...       ...       ...   \n",
      "249995  0.207341 -0.423427  0.227701 -0.701675 -0.211544 -0.302805 -0.222073   \n",
      "249996 -0.089835 -0.239937  0.348875  1.008679 -0.579664  2.154382  0.522372   \n",
      "249997  2.188515 -0.411827 -1.589909 -0.286932 -0.579664  0.899923  5.733484   \n",
      "249998  0.900752  0.500700  1.681789 -0.341987 -0.211544 -0.302805 -0.222073   \n",
      "249999 -1.179481 -0.169635 -1.226387 -0.503479 -0.579664 -0.302805 -0.222073   \n",
      "\n",
      "        job_admin.  job_blue-collar  job_entrepreneur  ...  month_jun  \\\n",
      "0        -0.349208         1.844413         -0.155148  ...  -0.376988   \n",
      "1        -0.349208        -0.542178         -0.155148  ...  -0.376988   \n",
      "2        -0.349208        -0.542178         -0.155148  ...  -0.376988   \n",
      "3        -0.349208         1.844413         -0.155148  ...  -0.376988   \n",
      "4        -0.349208        -0.542178         -0.155148  ...  -0.376988   \n",
      "...            ...              ...               ...  ...        ...   \n",
      "249995   -0.349208        -0.542178         -0.155148  ...  -0.376988   \n",
      "249996   -0.349208        -0.542178         -0.155148  ...  -0.376988   \n",
      "249997   -0.349208        -0.542178         -0.155148  ...  -0.376988   \n",
      "249998   -0.349208         1.844413         -0.155148  ...  -0.376988   \n",
      "249999   -0.349208        -0.542178         -0.155148  ...  -0.376988   \n",
      "\n",
      "        month_mar  month_may  month_nov  month_oct  month_sep  \\\n",
      "0       -0.088051   1.510809  -0.310808  -0.111854   -0.09962   \n",
      "1       -0.088051  -0.661897  -0.310808  -0.111854   -0.09962   \n",
      "2       -0.088051   1.510809  -0.310808  -0.111854   -0.09962   \n",
      "3       -0.088051   1.510809  -0.310808  -0.111854   -0.09962   \n",
      "4       -0.088051  -0.661897  -0.310808  -0.111854   -0.09962   \n",
      "...           ...        ...        ...        ...        ...   \n",
      "249995  -0.088051  -0.661897   3.217423  -0.111854   -0.09962   \n",
      "249996  -0.088051  -0.661897   3.217423  -0.111854   -0.09962   \n",
      "249997  -0.088051  -0.661897  -0.310808  -0.111854   -0.09962   \n",
      "249998  -0.088051   1.510809  -0.310808  -0.111854   -0.09962   \n",
      "249999  -0.088051  -0.661897  -0.310808  -0.111854   -0.09962   \n",
      "\n",
      "        poutcome_failure  poutcome_other  poutcome_success  poutcome_unknown  \n",
      "0              -0.253034        -0.14176         -0.155119          0.339540  \n",
      "1              -0.253034        -0.14176         -0.155119          0.339540  \n",
      "2              -0.253034        -0.14176         -0.155119          0.339540  \n",
      "3              -0.253034        -0.14176         -0.155119          0.339540  \n",
      "4              -0.253034        -0.14176         -0.155119          0.339540  \n",
      "...                  ...             ...               ...               ...  \n",
      "249995         -0.253034        -0.14176         -0.155119          0.339540  \n",
      "249996          3.952045        -0.14176         -0.155119         -2.945163  \n",
      "249997         -0.253034        -0.14176          6.446645         -2.945163  \n",
      "249998         -0.253034        -0.14176         -0.155119          0.339540  \n",
      "249999         -0.253034        -0.14176         -0.155119          0.339540  \n",
      "\n",
      "[250000 rows x 51 columns]\n"
     ]
    }
   ],
   "source": [
    "# Clean the test dataset\n",
    "\n",
    "# Identify numerical columns (excluding the target and any non-feature columns)\n",
    "X_test_numerical_cols = raw_test_data.select_dtypes(include=['int64', 'float64'])\n",
    "\n",
    "# Identify categorical columns\n",
    "X_test_categorical_cols = raw_test_data.select_dtypes(include=['object', 'category'])\n",
    "\n",
    "# Convert categorical features to numerical using one-hot encoding using 1s and 0s\n",
    "X_test_categorical_encoded = pd.get_dummies(X_test_categorical_cols, drop_first=False).astype(int)\n",
    "\n",
    "# Combine the numerical and categorical features\n",
    "X_test_combined = pd.concat([X_test_numerical_cols, X_test_categorical_encoded], axis=1)\n",
    "\n",
    "# Numeric Feature Standardization\n",
    "# Note: sc = StandardScaler() from training data preprocessing fit on X_train_combined\n",
    "X_test_scaled = sc.transform(X_test_combined)\n",
    "\n",
    "# Convert the scaled arrays back to DataFrames for easier handling\n",
    "X_test = pd.DataFrame(X_test_scaled, columns=X_test_combined.columns)\n",
    "\n",
    "# Show the cleaned dataset\n",
    "print(X_test)"
   ]
  },
  {
   "cell_type": "markdown",
   "metadata": {},
   "source": [
    "### Data Preparation"
   ]
  },
  {
   "cell_type": "code",
   "execution_count": 16,
   "metadata": {},
   "outputs": [],
   "source": [
    "torch.manual_seed(13) # Used for reproducibility of shuffle in DataLoader\n",
    "\n",
    "# Convert pandas DataFrames to Numpy arrays\n",
    "X_test = X_test.to_numpy()\n",
    "\n",
    "# Builds tensors from numpy arrays\n",
    "x_test_tensor = torch.as_tensor(X_test).float()\n",
    "\n",
    "# Builds dataset containing ALL data points\n",
    "test_dataset = TensorDataset(x_test_tensor)\n",
    "\n",
    "# Builds a loader of each set\n",
    "test_loader = DataLoader(dataset=test_dataset, batch_size=100, shuffle=True)"
   ]
  },
  {
   "cell_type": "markdown",
   "metadata": {},
   "source": [
    "### Model Configuration - defined in training section"
   ]
  },
  {
   "cell_type": "markdown",
   "metadata": {},
   "source": [
    "### Model Definition - defined in training section"
   ]
  },
  {
   "cell_type": "markdown",
   "metadata": {},
   "source": [
    "### Load Trained Model"
   ]
  },
  {
   "cell_type": "code",
   "execution_count": 17,
   "metadata": {},
   "outputs": [],
   "source": [
    "# Load trained model using filename defined in training section\n",
    "# filename='binary_bank_comp/checkpoint_sgd_3layer_lr005_250.pth'\n",
    "sbs.load_checkpoint(filename=filename)"
   ]
  },
  {
   "cell_type": "markdown",
   "metadata": {},
   "source": [
    "### Making Predictions (Logits)"
   ]
  },
  {
   "cell_type": "code",
   "execution_count": 18,
   "metadata": {},
   "outputs": [
    {
     "data": {
      "text/plain": [
       "array([[-7.982772  ],\n",
       "       [-1.8537054 ],\n",
       "       [-8.506983  ],\n",
       "       ...,\n",
       "       [ 0.37602642],\n",
       "       [-9.124889  ],\n",
       "       [-1.246264  ]], shape=(250000, 1), dtype=float32)"
      ]
     },
     "execution_count": 18,
     "metadata": {},
     "output_type": "execute_result"
    }
   ],
   "source": [
    "predictions = sbs.predict(x_test_tensor)\n",
    "predictions"
   ]
  },
  {
   "cell_type": "markdown",
   "metadata": {},
   "source": [
    "#### Making Predictions (Probabilities)"
   ]
  },
  {
   "cell_type": "code",
   "execution_count": 19,
   "metadata": {},
   "outputs": [
    {
     "data": {
      "text/plain": [
       "array([[3.4117568e-04],\n",
       "       [1.3543843e-01],\n",
       "       [2.0201171e-04],\n",
       "       ...,\n",
       "       [5.9291434e-01],\n",
       "       [1.0890896e-04],\n",
       "       [2.2334753e-01]], shape=(250000, 1), dtype=float32)"
      ]
     },
     "execution_count": 19,
     "metadata": {},
     "output_type": "execute_result"
    }
   ],
   "source": [
    "# Convert predictions to probabilities using the sigmoid function\n",
    "def sigmoid(x):\n",
    "    return 1 / (1 + np.exp(-x))\n",
    "\n",
    "probabilities = sigmoid(predictions)  # Use torch's built-in sigmoid for numerical stabilit\n",
    "probabilities"
   ]
  },
  {
   "cell_type": "markdown",
   "metadata": {},
   "source": [
    "#### Making Predictions (Classes)"
   ]
  },
  {
   "cell_type": "markdown",
   "metadata": {},
   "source": [
    "$$\n",
    "\\Large y =\n",
    "\\begin{cases}\n",
    "1,\\ \\text{if P}(y=1) \\ge 0.5\n",
    "\\\\\n",
    "0,\\ \\text{if P}(y=1) < 0.5\n",
    "\\end{cases}\n",
    "$$"
   ]
  },
  {
   "cell_type": "markdown",
   "metadata": {},
   "source": [
    "$$\n",
    "\\Large y =\n",
    "\\begin{cases}\n",
    "1,\\ \\text{if } \\sigma(z) \\ge 0.5\n",
    "\\\\\n",
    "0,\\ \\text{if } \\sigma(z) < 0.5\n",
    "\\end{cases}\n",
    "$$"
   ]
  },
  {
   "cell_type": "markdown",
   "metadata": {},
   "source": [
    "$$\n",
    "\\Large y =\n",
    "\\begin{cases}\n",
    "1,\\ \\text{if } z \\ge 0\n",
    "\\\\\n",
    "0,\\ \\text{if } z < 0\n",
    "\\end{cases}\n",
    "$$"
   ]
  },
  {
   "cell_type": "code",
   "execution_count": 20,
   "metadata": {},
   "outputs": [
    {
     "name": "stdout",
     "output_type": "stream",
     "text": [
      "0         750000\n",
      "1         750001\n",
      "2         750002\n",
      "3         750003\n",
      "4         750004\n",
      "           ...  \n",
      "249995    999995\n",
      "249996    999996\n",
      "249997    999997\n",
      "249998    999998\n",
      "249999    999999\n",
      "Name: id, Length: 250000, dtype: int64\n",
      "[0 0 0 ... 1 0 0]\n",
      "[3.41175677e-04 1.35438427e-01 2.02011710e-04 ... 5.92914343e-01\n",
      " 1.08908956e-04 2.23347530e-01]\n",
      "\n",
      "26843\n"
     ]
    }
   ],
   "source": [
    "classes = (predictions >= 0).astype(int)\n",
    "\n",
    "# Count positive predictions\n",
    "positive_count = (classes == 1).sum()\n",
    "\n",
    "output_classes = classes.astype(int).flatten()\n",
    "output_probabilities = probabilities.astype(float).flatten()\n",
    "\n",
    "# Get current date and time as a string, e.g., '2025-08-13_15-30-45'\n",
    "timestamp = datetime.now().strftime('%Y-%m-%d_%H-%M-%S')\n",
    "\n",
    "# Output index ids and classes to .csv file\n",
    "classes_df = pd.DataFrame({'id': id_column, 'class': output_classes})\n",
    "classes_filename = f'binary_bank_comp/results/pred_classes_{timestamp}.csv'\n",
    "classes_df.to_csv(classes_filename, index=False)\n",
    "\n",
    "# Output index ids and probabilities to .csv file\n",
    "probabilities_df = pd.DataFrame({'id': id_column, 'y': output_probabilities})\n",
    "probabilities_filename = f'binary_bank_comp/results/pred_probs_{timestamp}.csv'\n",
    "probabilities_df.to_csv(probabilities_filename, index=False)\n",
    "\n",
    "print(id_column)\n",
    "print(output_classes)\n",
    "print(output_probabilities)\n",
    "print()\n",
    "print(positive_count)"
   ]
  },
  {
   "cell_type": "markdown",
   "metadata": {},
   "source": [
    "# Model Evaluation - WIP"
   ]
  },
  {
   "cell_type": "markdown",
   "metadata": {},
   "source": [
    "## Determine confusion matrix"
   ]
  },
  {
   "cell_type": "code",
   "execution_count": null,
   "metadata": {},
   "outputs": [],
   "source": [
    "from sklearn.metrics import confusion_matrix\n",
    "import seaborn as sns\n",
    "import matplotlib.pyplot as plt\n",
    "\n",
    "y_pred = (classes > 0).float()\n",
    "cm = confusion_matrix(y_test, y_pred)\n",
    "\n",
    "plt.figure(figsize=(10, 7))\n",
    "sns.heatmap(cm, annot=True, fmt='d', cmap='Blues', xticklabels=['No', 'Yes'], yticklabels=['No', 'Yes'])\n",
    "plt.xlabel('Predicted')\n",
    "plt.ylabel('Actual')\n",
    "plt.title('Confusion Matrix')\n",
    "plt.show()"
   ]
  },
  {
   "cell_type": "code",
   "execution_count": null,
   "metadata": {},
   "outputs": [],
   "source": [
    "logits_val = sbs.predict(X_val)\n",
    "probabilities_val = sigmoid(logits_val).squeeze()\n",
    "threshold = 0.5"
   ]
  },
  {
   "cell_type": "code",
   "execution_count": null,
   "metadata": {},
   "outputs": [],
   "source": [
    "def probability_line(ax, y, probs, threshold, shift=0.0, annot=False, colors=None):\n",
    "    if colors is None:\n",
    "        colors = ['r', 'b']\n",
    "    ax.grid(False)\n",
    "    ax.set_ylim([-.1, .1])\n",
    "    ax.axes.get_yaxis().set_visible(False)\n",
    "    ax.plot([0, 1], [0, 0], linewidth=2, c='k', zorder=1)\n",
    "    ax.plot([0, 0], [-.1, .1], c='k', zorder=1)\n",
    "    ax.plot([1, 1], [-.1, .1], c='k', zorder=1)\n",
    "\n",
    "    tn = (y == 0) & (probs < threshold)\n",
    "    fn = (y == 0) & (probs >= threshold)\n",
    "    tp = (y == 1) & (probs >= threshold)\n",
    "    fp = (y == 1) & (probs < threshold)\n",
    "\n",
    "    ax.plot([threshold, threshold], [-.1, .1], c='k', zorder=1, linestyle='--')\n",
    "    ax.scatter(probs[tn], np.zeros(tn.sum()) + shift, c=colors[0], s=150, zorder=2, edgecolor=colors[0], linewidth=3)\n",
    "    ax.scatter(probs[fn], np.zeros(fn.sum()) + shift, c=colors[0], s=150, zorder=2, edgecolor=colors[1], linewidth=3)\n",
    "\n",
    "    ax.scatter(probs[tp], np.zeros(tp.sum()) - shift, c=colors[1], s=150, zorder=2, edgecolor=colors[1], linewidth=3)\n",
    "    ax.scatter(probs[fp], np.zeros(fp.sum()) - shift, c=colors[1], s=150, zorder=2, edgecolor=colors[0], linewidth=3)\n",
    "\n",
    "    ax.set_xlabel(r'$\\sigma(z) = P(y=1)$')\n",
    "    ax.set_title('Threshold = {}'.format(threshold))\n",
    "\n",
    "    if annot:\n",
    "        ax.annotate('TN', xy=(.20, .03), c='k', weight='bold', fontsize=20)\n",
    "        ax.annotate('FN', xy=(.20, -.08), c='k', weight='bold', fontsize=20)\n",
    "        ax.annotate('FP', xy=(.70, .03), c='k', weight='bold', fontsize=20)\n",
    "        ax.annotate('TP', xy=(.70, -.08), c='k', weight='bold', fontsize=20)\n",
    "    return ax\n",
    "\n",
    "def probability_contour(ax, model, device, X, y, threshold, cm=None, cm_bright=None):\n",
    "    if cm is None:\n",
    "        cm = plt.cm.RdBu\n",
    "    if cm_bright is None:\n",
    "        cm_bright = ListedColormap(['#FF0000', '#0000FF'])\n",
    "\n",
    "    h = .02  # step size in the mesh\n",
    "\n",
    "    x_min, x_max = -2.25, 2.25\n",
    "    y_min, y_max = -2.25, 2.25\n",
    "\n",
    "    xx, yy = np.meshgrid(np.arange(x_min, x_max, h),\n",
    "                         np.arange(y_min, y_max, h))\n",
    "\n",
    "    logits = model(torch.as_tensor(np.c_[xx.ravel(), yy.ravel()]).float().to(device))\n",
    "    logits = logits.detach().cpu().numpy().reshape(xx.shape)\n",
    "\n",
    "    yhat = sigmoid(logits)\n",
    "\n",
    "    ax.contour(xx, yy, yhat, levels=[threshold], cmap=\"Greys\", vmin=0, vmax=1)\n",
    "    contour = ax.contourf(xx, yy, yhat, 25, cmap=cm, alpha=.8, vmin=0, vmax=1)\n",
    "    # Plot the training points\n",
    "    ax.scatter(X[:, 0], X[:, 1], c=y, cmap=cm_bright, edgecolors='k')\n",
    "    # Plot the testing points\n",
    "    #ax.scatter(X_val[:, 0], X_val[:, 1], c=y_val, cmap=cm_bright, edgecolors='k', alpha=0.6)\n",
    "\n",
    "    ax.set_xlim(xx.min(), xx.max())\n",
    "    ax.set_ylim(yy.min(), yy.max())\n",
    "    ax.set_xlabel(r'$X_1$')\n",
    "    ax.set_ylabel(r'$X_2$')\n",
    "    ax.set_title(r'$\\sigma(z) = P(y=1)$')\n",
    "    ax.grid(False)\n",
    "\n",
    "    ax_c = plt.colorbar(contour)\n",
    "    ax_c.set_ticks([0, .25, .5, .75, 1])\n",
    "    return ax\n",
    "\n",
    "def figure9(x, y, model, device, probabilities, threshold, shift=0.0, annot=False, cm=None, cm_bright=None):\n",
    "    fig = plt.figure(figsize=(15, 5))\n",
    "    gs = fig.add_gridspec(3, 3)\n",
    "\n",
    "    ax = fig.add_subplot(gs[:, 0])\n",
    "    probability_contour(ax, model, device, x, y, threshold, cm, cm_bright)\n",
    "    \n",
    "    if cm_bright is None:\n",
    "        colors = ['r', 'b']\n",
    "    else:\n",
    "        colors = cm_bright.colors\n",
    "\n",
    "    ax = fig.add_subplot(gs[1, 1:])\n",
    "    probability_line(ax, y, probabilities, threshold, shift, annot, colors)\n",
    "\n",
    "    fig.tight_layout()\n",
    "    return fig\n",
    "\n",
    "fig = figure9(X_val, y_val, sbs.model, sbs.device, probabilities_val, threshold)"
   ]
  },
  {
   "cell_type": "code",
   "execution_count": null,
   "metadata": {},
   "outputs": [],
   "source": [
    "fig = figure10(y_val, probabilities_val, threshold, 0.04, False)"
   ]
  },
  {
   "cell_type": "markdown",
   "metadata": {},
   "source": [
    "### Confusion Matrix"
   ]
  },
  {
   "cell_type": "code",
   "execution_count": null,
   "metadata": {},
   "outputs": [],
   "source": [
    "fig = figure10(y_val, probabilities_val, threshold, 0.04, True)"
   ]
  },
  {
   "cell_type": "code",
   "execution_count": null,
   "metadata": {},
   "outputs": [],
   "source": [
    "cm_thresh50 = confusion_matrix(y_val, (probabilities_val >= .5))\n",
    "cm_thresh50"
   ]
  },
  {
   "cell_type": "markdown",
   "metadata": {},
   "source": [
    "#### True and False Positives and Negatives"
   ]
  },
  {
   "cell_type": "code",
   "execution_count": null,
   "metadata": {},
   "outputs": [],
   "source": [
    "def split_cm(cm):\n",
    "    # Actual negatives go in the top row, \n",
    "    # above the probability line\n",
    "    actual_negative = cm[0]\n",
    "    # Predicted negatives go in the first column\n",
    "    tn = actual_negative[0]\n",
    "    # Predicted positives go in the second column\n",
    "    fp = actual_negative[1]\n",
    "\n",
    "    # Actual positives go in the bottow row, \n",
    "    # below the probability line\n",
    "    actual_positive = cm[1]\n",
    "    # Predicted negatives go in the first column\n",
    "    fn = actual_positive[0]\n",
    "    # Predicted positives go in the second column\n",
    "    tp = actual_positive[1]\n",
    "    \n",
    "    return tn, fp, fn, tp"
   ]
  },
  {
   "cell_type": "markdown",
   "metadata": {},
   "source": [
    "### Metrics"
   ]
  },
  {
   "cell_type": "markdown",
   "metadata": {},
   "source": [
    "### True and False Positive Rates"
   ]
  },
  {
   "cell_type": "markdown",
   "metadata": {},
   "source": [
    "$$\n",
    "\\Large \\text{TPR} = \\frac{\\text{TP}}{\\text{TP + FN}} \\ \\ \\  \\text{FPR} = \\frac{\\text{FP}}{\\text{FP + TN}}\n",
    "$$"
   ]
  },
  {
   "cell_type": "code",
   "execution_count": null,
   "metadata": {},
   "outputs": [],
   "source": [
    "def tpr_fpr(cm):\n",
    "    tn, fp, fn, tp = split_cm(cm)\n",
    "    \n",
    "    tpr = tp / (tp + fn)\n",
    "    fpr = fp / (fp + tn)\n",
    "    \n",
    "    return tpr, fpr"
   ]
  },
  {
   "cell_type": "code",
   "execution_count": null,
   "metadata": {},
   "outputs": [],
   "source": [
    "tpr_fpr(cm_thresh50)"
   ]
  },
  {
   "cell_type": "markdown",
   "metadata": {},
   "source": [
    "### Precision and Recall"
   ]
  },
  {
   "cell_type": "markdown",
   "metadata": {},
   "source": [
    "$$\n",
    "\\Large \\text{Recall} = \\frac{\\text{TP}}{\\text{TP + FN}} \\ \\ \\  \\text{Precision} = \\frac{\\text{TP}}{\\text{TP + FP}}\n",
    "$$"
   ]
  },
  {
   "cell_type": "code",
   "execution_count": null,
   "metadata": {},
   "outputs": [],
   "source": [
    "def precision_recall(cm):\n",
    "    tn, fp, fn, tp = split_cm(cm)\n",
    "    \n",
    "    precision = tp / (tp + fp)\n",
    "    recall = tp / (tp + fn)\n",
    "    \n",
    "    return precision, recall"
   ]
  },
  {
   "cell_type": "code",
   "execution_count": null,
   "metadata": {},
   "outputs": [],
   "source": [
    "precision_recall(cm_thresh50)"
   ]
  },
  {
   "cell_type": "markdown",
   "metadata": {},
   "source": [
    "### Accuracy"
   ]
  },
  {
   "cell_type": "markdown",
   "metadata": {},
   "source": [
    "$$\n",
    "\\Large \\text{Accuracy} = \\frac{\\text{TP+TN}}{\\text{TP+TN+FP+FN}}\n",
    "$$"
   ]
  },
  {
   "cell_type": "markdown",
   "metadata": {},
   "source": [
    "## Trade-offs and Curves"
   ]
  },
  {
   "cell_type": "code",
   "execution_count": null,
   "metadata": {},
   "outputs": [],
   "source": [
    "fig = eval_curves_from_probs(y_val, probabilities_val, [.5], annot=True)"
   ]
  },
  {
   "cell_type": "markdown",
   "metadata": {},
   "source": [
    "### Low Threshold"
   ]
  },
  {
   "cell_type": "code",
   "execution_count": null,
   "metadata": {},
   "outputs": [],
   "source": [
    "fig = figure9(X_val, y_val, sbs.model, sbs.device, probabilities_val, threshold=0.3, shift=0.04, annot=True)"
   ]
  },
  {
   "cell_type": "code",
   "execution_count": null,
   "metadata": {},
   "outputs": [],
   "source": [
    "confusion_matrix(y_val, (probabilities_val >= 0.3))"
   ]
  },
  {
   "cell_type": "code",
   "execution_count": null,
   "metadata": {},
   "outputs": [],
   "source": [
    "fig = eval_curves_from_probs(y_val, probabilities_val, [.3, .5], annot=True)"
   ]
  },
  {
   "cell_type": "markdown",
   "metadata": {},
   "source": [
    "### High Threshold"
   ]
  },
  {
   "cell_type": "code",
   "execution_count": null,
   "metadata": {},
   "outputs": [],
   "source": [
    "fig = figure9(X_val, y_val, sbs.model, sbs.device, probabilities_val, threshold=0.7, shift=0.04, annot=True)"
   ]
  },
  {
   "cell_type": "code",
   "execution_count": null,
   "metadata": {},
   "outputs": [],
   "source": [
    "confusion_matrix(y_val, (probabilities_val >= 0.7))"
   ]
  },
  {
   "cell_type": "code",
   "execution_count": null,
   "metadata": {},
   "outputs": [],
   "source": [
    "fig = eval_curves_from_probs(y_val, probabilities_val, [.3, .5, .7], annot=True)"
   ]
  },
  {
   "cell_type": "markdown",
   "metadata": {},
   "source": [
    "### ROC and PR Curves"
   ]
  },
  {
   "cell_type": "code",
   "execution_count": null,
   "metadata": {},
   "outputs": [],
   "source": [
    "threshs = np.linspace(0.,1,11)"
   ]
  },
  {
   "cell_type": "code",
   "execution_count": null,
   "metadata": {},
   "outputs": [],
   "source": [
    "fig = figure17(y_val, probabilities_val, threshs)"
   ]
  },
  {
   "cell_type": "code",
   "execution_count": null,
   "metadata": {},
   "outputs": [],
   "source": [
    "fpr, tpr, thresholds1 = roc_curve(y_val, probabilities_val)\n",
    "prec, rec, thresholds2 = precision_recall_curve(y_val, probabilities_val)"
   ]
  },
  {
   "cell_type": "code",
   "execution_count": null,
   "metadata": {},
   "outputs": [],
   "source": [
    "fig = eval_curves(fpr, tpr, rec, prec, thresholds1, thresholds2, line=True)"
   ]
  },
  {
   "cell_type": "markdown",
   "metadata": {},
   "source": [
    "### The Precision Quirk"
   ]
  },
  {
   "cell_type": "code",
   "execution_count": null,
   "metadata": {},
   "outputs": [],
   "source": [
    "fig = figure19(y_val, probabilities_val)"
   ]
  },
  {
   "cell_type": "markdown",
   "metadata": {},
   "source": [
    "$$\n",
    "\\Large \\text{Precision}(\\text{thresh}=0.40)=\\frac{13}{13+2}=0.8666\n",
    "$$"
   ]
  },
  {
   "cell_type": "markdown",
   "metadata": {},
   "source": [
    "$$\n",
    "\\Large \\text{Precision}(\\text{thresh}=0.50)=\\frac{(13-1)}{(13-1)+2}=\\frac{12}{12+2}=0.8571\n",
    "$$"
   ]
  },
  {
   "cell_type": "markdown",
   "metadata": {},
   "source": [
    "$$\n",
    "\\Large \\text{Precision}(\\text{thresh}=0.57)=\\frac{12}{12+(2-1)}=\\frac{12}{12+1}=0.9230\n",
    "$$"
   ]
  },
  {
   "cell_type": "markdown",
   "metadata": {},
   "source": [
    "### Best and Worst Curves"
   ]
  },
  {
   "cell_type": "code",
   "execution_count": null,
   "metadata": {},
   "outputs": [],
   "source": [
    "# Best\n",
    "fig = figure20(y_val)"
   ]
  },
  {
   "cell_type": "code",
   "execution_count": null,
   "metadata": {},
   "outputs": [],
   "source": [
    "np.random.seed(39)\n",
    "random_probs = np.random.uniform(size=y_val.shape)"
   ]
  },
  {
   "cell_type": "code",
   "execution_count": null,
   "metadata": {},
   "outputs": [],
   "source": [
    "fpr_random, tpr_random, thresholds1_random = roc_curve(y_val, random_probs)\n",
    "prec_random, rec_random, thresholds2_random = precision_recall_curve(y_val, random_probs)"
   ]
  },
  {
   "cell_type": "code",
   "execution_count": null,
   "metadata": {},
   "outputs": [],
   "source": [
    "# Worst\n",
    "fig = figure21(y_val, random_probs)"
   ]
  },
  {
   "cell_type": "markdown",
   "metadata": {},
   "source": [
    "### Comparing Models"
   ]
  },
  {
   "cell_type": "code",
   "execution_count": null,
   "metadata": {},
   "outputs": [],
   "source": [
    "# Area under the curves of our model\n",
    "auroc = auc(fpr, tpr)\n",
    "aupr = auc(rec, prec)\n",
    "print(auroc, aupr)"
   ]
  },
  {
   "cell_type": "code",
   "execution_count": null,
   "metadata": {},
   "outputs": [],
   "source": [
    "# Area under the curves of the random model\n",
    "auroc_random = auc(fpr_random, tpr_random)\n",
    "aupr_random = auc(rec_random, prec_random)\n",
    "print(auroc_random, aupr_random)"
   ]
  },
  {
   "cell_type": "markdown",
   "metadata": {},
   "source": [
    "## Putting It All Together"
   ]
  },
  {
   "cell_type": "code",
   "execution_count": null,
   "metadata": {},
   "outputs": [],
   "source": [
    "torch.manual_seed(13)\n",
    "\n",
    "# Builds tensors from numpy arrays\n",
    "x_train_tensor = torch.as_tensor(X_train).float()\n",
    "y_train_tensor = torch.as_tensor(y_train.reshape(-1, 1)).float()\n",
    "\n",
    "x_val_tensor = torch.as_tensor(X_val).float()\n",
    "y_val_tensor = torch.as_tensor(y_val.reshape(-1, 1)).float()\n",
    "\n",
    "# Builds dataset containing ALL data points\n",
    "train_dataset = TensorDataset(x_train_tensor, y_train_tensor)\n",
    "val_dataset = TensorDataset(x_val_tensor, y_val_tensor)\n",
    "\n",
    "# Builds a loader of each set\n",
    "train_loader = DataLoader(\n",
    "    dataset=train_dataset, \n",
    "    batch_size=16, \n",
    "    shuffle=True\n",
    ")\n",
    "val_loader = DataLoader(dataset=val_dataset, batch_size=16)"
   ]
  },
  {
   "cell_type": "code",
   "execution_count": null,
   "metadata": {},
   "outputs": [],
   "source": [
    "# Sets learning rate - this is \"eta\" ~ the \"n\" like Greek letter\n",
    "lr = 0.1\n",
    "\n",
    "torch.manual_seed(42)\n",
    "model = nn.Sequential()\n",
    "model.add_module('linear', nn.Linear(2, 1))\n",
    "\n",
    "# Defines a SGD optimizer to update the parameters\n",
    "optimizer = optim.SGD(model.parameters(), lr=lr)\n",
    "\n",
    "# Defines a BCE loss function\n",
    "loss_fn = nn.BCEWithLogitsLoss()"
   ]
  },
  {
   "cell_type": "code",
   "execution_count": null,
   "metadata": {},
   "outputs": [],
   "source": [
    "n_epochs = 100\n",
    "\n",
    "sbs = StepByStep(model, loss_fn, optimizer)\n",
    "sbs.set_loaders(train_loader, val_loader)\n",
    "sbs.train(n_epochs)"
   ]
  },
  {
   "cell_type": "code",
   "execution_count": null,
   "metadata": {},
   "outputs": [],
   "source": [
    "print(model.state_dict())"
   ]
  },
  {
   "cell_type": "code",
   "execution_count": null,
   "metadata": {},
   "outputs": [],
   "source": [
    "logits_val = sbs.predict(X_val)\n",
    "probabilities_val = sigmoid(logits_val).squeeze()\n",
    "cm_thresh50 = confusion_matrix(y_val, (probabilities_val >= 0.5))\n",
    "cm_thresh50"
   ]
  },
  {
   "cell_type": "code",
   "execution_count": null,
   "metadata": {},
   "outputs": [],
   "source": []
  }
 ],
 "metadata": {
  "kernelspec": {
   "display_name": "Python 3 (ipykernel)",
   "language": "python",
   "name": "python3"
  },
  "language_info": {
   "codemirror_mode": {
    "name": "ipython",
    "version": 3
   },
   "file_extension": ".py",
   "mimetype": "text/x-python",
   "name": "python",
   "nbconvert_exporter": "python",
   "pygments_lexer": "ipython3",
   "version": "3.12.2"
  }
 },
 "nbformat": 4,
 "nbformat_minor": 4
}
