{
 "cells": [
  {
   "cell_type": "markdown",
   "metadata": {},
   "source": [
    "Binary Bank Competition - Kaggle"
   ]
  },
  {
   "cell_type": "markdown",
   "metadata": {},
   "source": [
    "\n",
    "### Jupyter Notebook in VS Code\n",
    "\n",
    "From directory with virtual environment in it, use this terminal command to use Jupyter Notebook in VS Code:\n",
    "\n",
    "jupyter notebook --NotebookApp.allow_origin='*' --NotebookApp.ip='0.0.0.0'\n",
    "\n",
    "### Select Python Interpreter\n",
    "\n",
    "Open Command Palette as follows: Ctrl+Shift+P\n",
    "\n",
    "Then select from VS Code Command Palette: \"Python: Select Interpreter\" and choose the same Python interpreter that you used to install Jupyter.\n",
    "\n",
    "If server not shown, enter server manually as follows: \n",
    "http://localhost:8888\n",
    "\n",
    "Reminder:  pw: \"\""
   ]
  },
  {
   "cell_type": "code",
   "execution_count": 132,
   "metadata": {},
   "outputs": [],
   "source": [
    "from datetime import datetime\n",
    "\n",
    "import numpy as np\n",
    "import pandas as pd\n",
    "\n",
    "import torch\n",
    "import torch.optim as optim\n",
    "import torch.nn as nn\n",
    "import torch.functional as F\n",
    "from torch.utils.data import DataLoader, TensorDataset\n",
    "from torch.utils.tensorboard import SummaryWriter\n",
    "\n",
    "from sklearn.preprocessing import StandardScaler\n",
    "from sklearn.model_selection import train_test_split\n",
    "from sklearn.metrics import confusion_matrix, roc_curve, precision_recall_curve, auc\n",
    "\n",
    "import matplotlib.pyplot as plt\n",
    "from matplotlib.colors import ListedColormap\n",
    "\n",
    "from stepbystep_v0 import StepByStep"
   ]
  },
  {
   "cell_type": "markdown",
   "metadata": {},
   "source": [
    "# Binary Classification Problem based on Bank Customer Marketing Call Data"
   ]
  },
  {
   "cell_type": "markdown",
   "metadata": {},
   "source": [
    "# Model Training"
   ]
  },
  {
   "cell_type": "markdown",
   "metadata": {},
   "source": [
    "### Load Training Data"
   ]
  },
  {
   "cell_type": "code",
   "execution_count": 138,
   "metadata": {},
   "outputs": [
    {
     "name": "stdout",
     "output_type": "stream",
     "text": [
      "   id  age          job  marital  education default  balance housing loan  \\\n",
      "0   0   42   technician  married  secondary      no        7      no   no   \n",
      "1   1   38  blue-collar  married  secondary      no      514      no   no   \n",
      "2   2   36  blue-collar  married  secondary      no      602     yes   no   \n",
      "3   3   27      student   single  secondary      no       34     yes   no   \n",
      "4   4   26   technician  married  secondary      no      889     yes   no   \n",
      "\n",
      "    contact  day month  duration  campaign  pdays  previous poutcome  y  \n",
      "0  cellular   25   aug       117         3     -1         0  unknown  0  \n",
      "1   unknown   18   jun       185         1     -1         0  unknown  0  \n",
      "2   unknown   14   may       111         2     -1         0  unknown  0  \n",
      "3   unknown   28   may        10         2     -1         0  unknown  0  \n",
      "4  cellular    3   feb       902         1     -1         0  unknown  1  \n"
     ]
    }
   ],
   "source": [
    "# Import data from .csv files\n",
    "raw_train_data = pd.read_csv('binary_bank_comp/dataset/train.csv')\n",
    "\n",
    "# Display the first few rows of the dataset\n",
    "print(raw_train_data[:5])"
   ]
  },
  {
   "cell_type": "markdown",
   "metadata": {},
   "source": [
    "### Split the train dataset"
   ]
  },
  {
   "cell_type": "code",
   "execution_count": 139,
   "metadata": {},
   "outputs": [
    {
     "name": "stdout",
     "output_type": "stream",
     "text": [
      "Training set shape: (600000, 16) (600000,)\n",
      "Validation set shape: (150000, 16) (150000,)\n",
      "Training set preview:\n",
      "        age          job   marital  education default  balance housing loan  \\\n",
      "453635   28  blue-collar    single  secondary      no     5090     yes  yes   \n",
      "11651    51   technician   married   tertiary      no     1295      no   no   \n",
      "431999   57   management  divorced   tertiary      no        0      no   no   \n",
      "529211   48  blue-collar    single    primary      no     1323     yes   no   \n",
      "110925   38       admin.   married  secondary      no      659     yes   no   \n",
      "\n",
      "         contact  day month  duration  campaign  pdays  previous poutcome  \n",
      "453635   unknown   12   may      1297         2     -1         0  unknown  \n",
      "11651   cellular   27   aug       119         9     -1         0  unknown  \n",
      "431999  cellular   29   jan        87         1     -1         0  unknown  \n",
      "529211   unknown   15   may        83         5     -1         0  unknown  \n",
      "110925  cellular   28   jul       534         4     -1         0  unknown  \n",
      "453635    1\n",
      "11651     0\n",
      "431999    0\n",
      "529211    0\n",
      "110925    0\n",
      "Name: y, dtype: int64\n"
     ]
    }
   ],
   "source": [
    "# Remove id column\n",
    "raw_train_data.drop(columns=['id'], inplace=True)\n",
    "\n",
    "# Split the dataset into features and target variable\n",
    "X = raw_train_data.drop(columns=['y'])\n",
    "y = raw_train_data['y']\n",
    "\n",
    "# Split the dataset into training and validation sets\n",
    "from sklearn.model_selection import train_test_split\n",
    "X_train, X_val, y_train, y_val = train_test_split(X, y, test_size=0.2, random_state=42)\n",
    "\n",
    "# Print the shapes of the resulting datasets\n",
    "print(\"Training set shape:\", X_train.shape, y_train.shape)\n",
    "print(\"Validation set shape:\", X_val.shape, y_val.shape)\n",
    "\n",
    "# Print the first few rows of the training set\n",
    "print(\"Training set preview:\")\n",
    "print(X_train.head())\n",
    "print(y_train.head())"
   ]
  },
  {
   "cell_type": "markdown",
   "metadata": {},
   "source": [
    "### Data Cleaning"
   ]
  },
  {
   "cell_type": "code",
   "execution_count": 140,
   "metadata": {},
   "outputs": [
    {
     "name": "stdout",
     "output_type": "stream",
     "text": [
      "             age   balance       day  duration  campaign     pdays  previous  \\\n",
      "0      -1.278540  1.365772 -0.499343  3.820120 -0.211544 -0.302805 -0.222073   \n",
      "1       0.999811  0.031782  1.318267 -0.503479  2.365296 -0.302805 -0.222073   \n",
      "2       1.594163 -0.423427  1.560615 -0.620928 -0.579664 -0.302805 -0.222073   \n",
      "3       0.702634  0.041624 -0.135821 -0.635610  0.892816 -0.302805 -0.222073   \n",
      "4      -0.287953 -0.191780  1.439441  1.019690  0.524696 -0.302805 -0.222073   \n",
      "...          ...       ...       ...       ...       ...       ...       ...   \n",
      "599995 -0.981364 -0.220604  1.439441 -0.492468  0.524696  2.050922  1.266816   \n",
      "599996 -0.981364 -0.423427  1.439441 -0.617258  0.156576 -0.302805 -0.222073   \n",
      "599997 -1.080423  0.004716  0.954745 -0.764070 -0.579664 -0.302805 -0.222073   \n",
      "599998  0.306400 -0.257161  1.802963 -0.657631 -0.211544 -0.302805 -0.222073   \n",
      "599999  1.396045 -0.423427 -1.347561 -0.598907 -0.579664 -0.302805 -0.222073   \n",
      "\n",
      "        job_admin.  job_blue-collar  job_entrepreneur  ...  month_jun  \\\n",
      "0        -0.349208         1.844413         -0.155148  ...  -0.376988   \n",
      "1        -0.349208        -0.542178         -0.155148  ...  -0.376988   \n",
      "2        -0.349208        -0.542178         -0.155148  ...  -0.376988   \n",
      "3        -0.349208         1.844413         -0.155148  ...  -0.376988   \n",
      "4         2.863623        -0.542178         -0.155148  ...  -0.376988   \n",
      "...            ...              ...               ...  ...        ...   \n",
      "599995   -0.349208        -0.542178         -0.155148  ...  -0.376988   \n",
      "599996   -0.349208        -0.542178         -0.155148  ...  -0.376988   \n",
      "599997   -0.349208        -0.542178         -0.155148  ...  -0.376988   \n",
      "599998   -0.349208        -0.542178         -0.155148  ...  -0.376988   \n",
      "599999   -0.349208        -0.542178          6.445474  ...   2.652607   \n",
      "\n",
      "        month_mar  month_may  month_nov  month_oct  month_sep  \\\n",
      "0       -0.088051   1.510809  -0.310808  -0.111854   -0.09962   \n",
      "1       -0.088051  -0.661897  -0.310808  -0.111854   -0.09962   \n",
      "2       -0.088051  -0.661897  -0.310808  -0.111854   -0.09962   \n",
      "3       -0.088051   1.510809  -0.310808  -0.111854   -0.09962   \n",
      "4       -0.088051  -0.661897  -0.310808  -0.111854   -0.09962   \n",
      "...           ...        ...        ...        ...        ...   \n",
      "599995  -0.088051  -0.661897  -0.310808  -0.111854   -0.09962   \n",
      "599996  -0.088051  -0.661897  -0.310808  -0.111854   -0.09962   \n",
      "599997  -0.088051  -0.661897  -0.310808  -0.111854   -0.09962   \n",
      "599998  -0.088051  -0.661897  -0.310808  -0.111854   -0.09962   \n",
      "599999  -0.088051  -0.661897  -0.310808  -0.111854   -0.09962   \n",
      "\n",
      "        poutcome_failure  poutcome_other  poutcome_success  poutcome_unknown  \n",
      "0              -0.253034        -0.14176         -0.155119          0.339540  \n",
      "1              -0.253034        -0.14176         -0.155119          0.339540  \n",
      "2              -0.253034        -0.14176         -0.155119          0.339540  \n",
      "3              -0.253034        -0.14176         -0.155119          0.339540  \n",
      "4              -0.253034        -0.14176         -0.155119          0.339540  \n",
      "...                  ...             ...               ...               ...  \n",
      "599995          3.952045        -0.14176         -0.155119         -2.945163  \n",
      "599996         -0.253034        -0.14176         -0.155119          0.339540  \n",
      "599997         -0.253034        -0.14176         -0.155119          0.339540  \n",
      "599998         -0.253034        -0.14176         -0.155119          0.339540  \n",
      "599999         -0.253034        -0.14176         -0.155119          0.339540  \n",
      "\n",
      "[600000 rows x 51 columns]\n",
      "             age   balance       day  duration  campaign     pdays  previous  \\\n",
      "0       0.504517  0.026158  0.227701 -0.521831 -0.211544 -0.302805 -0.222073   \n",
      "1      -1.377599  0.455706 -0.378169  0.667342 -0.579664  1.068047  0.522372   \n",
      "2      -0.486070  0.052873  0.470049 -0.903541  0.524696 -0.302805 -0.222073   \n",
      "3       1.792280  0.109466 -1.589909 -0.679653 -0.211544 -0.302805 -0.222073   \n",
      "4      -0.188894  0.761171 -0.256995 -0.521831 -0.211544 -0.302805 -0.222073   \n",
      "...          ...       ...       ...       ...       ...       ...       ...   \n",
      "149995  1.098869 -0.104605 -1.347561  0.979317 -0.579664 -0.302805 -0.222073   \n",
      "149996  0.108282 -0.419209 -0.620517 -0.595236 -0.579664 -0.302805 -0.222073   \n",
      "149997  0.306400  0.904588 -0.135821 -0.918222 -0.579664 -0.302805 -0.222073   \n",
      "149998  0.108282 -0.224471 -1.468735 -0.477787 -0.579664 -0.302805 -0.222073   \n",
      "149999 -0.783246 -0.009345 -0.135821  0.340687 -0.211544  2.076787  1.266816   \n",
      "\n",
      "        job_admin.  job_blue-collar  job_entrepreneur  ...  month_jun  \\\n",
      "0        -0.349208        -0.542178         -0.155148  ...  -0.376988   \n",
      "1         2.863623        -0.542178         -0.155148  ...  -0.376988   \n",
      "2        -0.349208        -0.542178         -0.155148  ...   2.652607   \n",
      "3        -0.349208        -0.542178         -0.155148  ...  -0.376988   \n",
      "4        -0.349208        -0.542178         -0.155148  ...  -0.376988   \n",
      "...            ...              ...               ...  ...        ...   \n",
      "149995   -0.349208        -0.542178         -0.155148  ...   2.652607   \n",
      "149996   -0.349208        -0.542178         -0.155148  ...   2.652607   \n",
      "149997   -0.349208         1.844413         -0.155148  ...  -0.376988   \n",
      "149998   -0.349208        -0.542178         -0.155148  ...  -0.376988   \n",
      "149999   -0.349208        -0.542178         -0.155148  ...  -0.376988   \n",
      "\n",
      "        month_mar  month_may  month_nov  month_oct  month_sep  \\\n",
      "0       -0.088051  -0.661897  -0.310808  -0.111854   -0.09962   \n",
      "1       -0.088051  -0.661897  -0.310808  -0.111854   -0.09962   \n",
      "2       -0.088051  -0.661897  -0.310808  -0.111854   -0.09962   \n",
      "3       -0.088051  -0.661897  -0.310808  -0.111854   -0.09962   \n",
      "4       -0.088051  -0.661897  -0.310808  -0.111854   -0.09962   \n",
      "...           ...        ...        ...        ...        ...   \n",
      "149995  -0.088051  -0.661897  -0.310808  -0.111854   -0.09962   \n",
      "149996  -0.088051  -0.661897  -0.310808  -0.111854   -0.09962   \n",
      "149997  -0.088051   1.510809  -0.310808  -0.111854   -0.09962   \n",
      "149998  -0.088051  -0.661897  -0.310808  -0.111854   -0.09962   \n",
      "149999  -0.088051  -0.661897  -0.310808   8.940245   -0.09962   \n",
      "\n",
      "        poutcome_failure  poutcome_other  poutcome_success  poutcome_unknown  \n",
      "0              -0.253034        -0.14176         -0.155119          0.339540  \n",
      "1              -0.253034        -0.14176          6.446645         -2.945163  \n",
      "2              -0.253034        -0.14176         -0.155119          0.339540  \n",
      "3              -0.253034        -0.14176         -0.155119          0.339540  \n",
      "4              -0.253034        -0.14176         -0.155119          0.339540  \n",
      "...                  ...             ...               ...               ...  \n",
      "149995         -0.253034        -0.14176         -0.155119          0.339540  \n",
      "149996         -0.253034        -0.14176         -0.155119          0.339540  \n",
      "149997         -0.253034        -0.14176         -0.155119          0.339540  \n",
      "149998         -0.253034        -0.14176         -0.155119          0.339540  \n",
      "149999          3.952045        -0.14176         -0.155119         -2.945163  \n",
      "\n",
      "[150000 rows x 51 columns]\n"
     ]
    }
   ],
   "source": [
    "# Clean the dataset\n",
    "\n",
    "# Identify numerical columns (excluding the target and any non-feature columns)\n",
    "X_train_numerical_cols = X_train.select_dtypes(include=['int64', 'float64'])\n",
    "X_val_numerical_cols = X_val.select_dtypes(include=['int64', 'float64'])\n",
    "\n",
    "# Identify categorical columns\n",
    "X_train_categorical_cols = X_train.select_dtypes(include=['object', 'category'])\n",
    "X_val_categorical_cols = X_val.select_dtypes(include=['object', 'category'])\n",
    "\n",
    "# Convert categorical features to numerical using one-hot encoding using 1s and 0s\n",
    "X_train_categorical_encoded = pd.get_dummies(X_train_categorical_cols, drop_first=False).astype(int)\n",
    "X_val_categorical_encoded = pd.get_dummies(X_val_categorical_cols, drop_first=False).astype(int)\n",
    "\n",
    "# Combine the numerical and categorical features\n",
    "X_train_combined = pd.concat([X_train_numerical_cols, X_train_categorical_encoded], axis=1)\n",
    "X_val_combined = pd.concat([X_val_numerical_cols, X_val_categorical_encoded], axis=1)\n",
    "\n",
    "# Numeric Feature Standardization\n",
    "sc = StandardScaler()\n",
    "X_train_scaled = sc.fit_transform(X_train_combined)\n",
    "X_val_scaled = sc.transform(X_val_combined)\n",
    "\n",
    "# Convert the scaled arrays back to DataFrames for easier handling\n",
    "X_train = pd.DataFrame(X_train_scaled, columns=X_train_combined.columns)\n",
    "X_val = pd.DataFrame(X_val_scaled, columns=X_val_combined.columns)\n",
    "\n",
    "# Show the cleaned dataset\n",
    "print(X_train)\n",
    "print(X_val)"
   ]
  },
  {
   "cell_type": "markdown",
   "metadata": {},
   "source": [
    "### Data Preparation"
   ]
  },
  {
   "cell_type": "code",
   "execution_count": 141,
   "metadata": {},
   "outputs": [],
   "source": [
    "torch.manual_seed(13)\n",
    "\n",
    "# Convert pandas DataFrames to Numpy arrays\n",
    "X_train = X_train.to_numpy()\n",
    "y_train = y_train.to_numpy()\n",
    "X_val = X_val.to_numpy()\n",
    "y_val = y_val.to_numpy()\n",
    "\n",
    "# Builds tensors from numpy arrays\n",
    "x_train_tensor = torch.as_tensor(X_train).float()\n",
    "x_val_tensor = torch.as_tensor(X_val).float()\n",
    "# Reshapes y_train and y_val to be column vectors\n",
    "y_train_tensor = torch.as_tensor(y_train.reshape(-1, 1)).float()\n",
    "y_val_tensor = torch.as_tensor(y_val.reshape(-1, 1)).float()\n",
    "\n",
    "# Builds dataset containing ALL data points\n",
    "train_dataset = TensorDataset(x_train_tensor, y_train_tensor)\n",
    "val_dataset = TensorDataset(x_val_tensor, y_val_tensor)\n",
    "\n",
    "# Builds a loader of each set\n",
    "batch_size = 300\n",
    "train_loader = DataLoader(dataset=train_dataset, batch_size=batch_size, shuffle=True)\n",
    "val_loader = DataLoader(dataset=val_dataset, batch_size=batch_size)\n"
   ]
  },
  {
   "cell_type": "markdown",
   "metadata": {},
   "source": [
    "## Model"
   ]
  },
  {
   "cell_type": "markdown",
   "metadata": {},
   "source": [
    "$$\n",
    "\\Large\n",
    "y = b + w_1x_1 + w_2x_2 + ... + w_nx_n + \\epsilon\n",
    "$$"
   ]
  },
  {
   "cell_type": "markdown",
   "metadata": {},
   "source": [
    "$$\n",
    "\\Large \n",
    "y =\n",
    "\\begin{cases}\n",
    "1,\\ \\text{if }b + w_1x_1 + w_2x_2 + ... + w_nx_n \\ge 0\n",
    "\\\\\n",
    "0,\\ \\text{if }b + w_1x_1 + w_2x_2 + ... + w_nx_n < 0\n",
    "\\end{cases}\n",
    "$$"
   ]
  },
  {
   "cell_type": "markdown",
   "metadata": {},
   "source": [
    "### Logits"
   ]
  },
  {
   "cell_type": "markdown",
   "metadata": {},
   "source": [
    "$$\n",
    "\\Large\n",
    "z = b + w_1x_1 + w_2x_2 + ... + w_nx_n\n",
    "$$"
   ]
  },
  {
   "cell_type": "markdown",
   "metadata": {},
   "source": [
    "### Probabilities"
   ]
  },
  {
   "cell_type": "markdown",
   "metadata": {},
   "source": [
    "$$\n",
    "\\Large\n",
    "\\begin{aligned}\n",
    "& \\text{P}(y=1) \\approx 1.0, & \\text{if } &z \\gg 0\n",
    "\\\\\n",
    "& \\text{P}(y=1) = 0.5, & \\text{if } &z = 0\n",
    "\\\\\n",
    "& \\text{P}(y=1) \\approx 0.0, & \\text{if } &z \\ll 0\n",
    "\\end{aligned}\n",
    "$$"
   ]
  },
  {
   "cell_type": "markdown",
   "metadata": {},
   "source": [
    "### From Logits to Probabilities"
   ]
  },
  {
   "cell_type": "markdown",
   "metadata": {},
   "source": [
    "$$\n",
    "\\Large\n",
    "\\begin{aligned}\n",
    "b + w_1x_1 + w_2x_2 + ... + w_nx_n = &\\ z = \\text{log}\\left(\\frac{p}{1-p}\\right) \\nonumber\n",
    "\\\\\n",
    "e^{b + w_1x_1 + w_2x_2 + ... + w_nx_n} = &\\ e^z = \\frac{p}{1-p} \\nonumber\n",
    "\\end{aligned}\n",
    "$$"
   ]
  },
  {
   "cell_type": "markdown",
   "metadata": {},
   "source": [
    "$$\n",
    "\\Large\n",
    "\\begin{aligned}\n",
    "\\frac{1}{e^z}& = \\frac{1-p}{p}\n",
    "\\\\\n",
    "e^{-z}& = \\frac{1}{p} - 1\n",
    "\\\\\n",
    "1 + e^{-z}& = \\frac{1}{p}&\n",
    "\\\\\n",
    "p& = \\frac{1}{1 + e^{-z}}\n",
    "\\end{aligned}\n",
    "$$"
   ]
  },
  {
   "cell_type": "markdown",
   "metadata": {},
   "source": [
    "$$\n",
    "\\Large\n",
    "p = \\sigma(z) = \\frac{1}{1+e^{-z}}\n",
    "$$"
   ]
  },
  {
   "cell_type": "markdown",
   "metadata": {},
   "source": [
    "### Logistic Regression"
   ]
  },
  {
   "cell_type": "markdown",
   "metadata": {},
   "source": [
    "$$\n",
    "\\Large\n",
    "\\text{P}(y=1) = \\sigma(z) = \\sigma(b+w_1x_1+w_2x_2 + ... + w_nx_n) = \\frac{1}{1+e^{-(b+w_1x_1+w_2x_2 + ... + w_nx_n)}}      \n",
    "$$"
   ]
  },
  {
   "cell_type": "markdown",
   "metadata": {},
   "source": [
    "### A Note on Notation (for reference)"
   ]
  },
  {
   "cell_type": "markdown",
   "metadata": {},
   "source": [
    "$$\n",
    "\\Large W =\n",
    "\\underset{(3 \\times 1)}{\n",
    "\\begin{bmatrix}\n",
    "b \\\\\n",
    "w_1 \\\\\n",
    "w_2\n",
    "\\end{bmatrix}};\n",
    "X = \n",
    "\\underset{(3 \\times 1)}{\n",
    "\\begin{bmatrix}\n",
    "1 \\\\\n",
    "x_1 \\\\\n",
    "x_2\n",
    "\\end{bmatrix}}\n",
    "$$"
   ]
  },
  {
   "cell_type": "markdown",
   "metadata": {},
   "source": [
    "$$\n",
    "\\Large \n",
    "\\begin{aligned}\n",
    "z\n",
    "& = W^T X\n",
    "=\n",
    "\\underset{(1 \\times 3)}{\n",
    "\\begin{bmatrix}\n",
    "- & w^{T} & -\\\\\n",
    "\\end{bmatrix}}\n",
    "\\underset{(3 \\times 1)}{\n",
    "\\begin{bmatrix}\n",
    "1 \\\\\n",
    "x_1 \\\\\n",
    "x_2\n",
    "\\end{bmatrix}}\n",
    "= \\underset{(1 \\times 3)}{\n",
    "\\begin{bmatrix}\n",
    "b & w_1 & w_2\n",
    "\\end{bmatrix}}\n",
    "\\underset{(3 \\times 1)}{\n",
    "\\begin{bmatrix}\n",
    "1 \\\\\n",
    "x_1 \\\\\n",
    "x_2\n",
    "\\end{bmatrix}}\\\\\n",
    "& = b + w_1x_1 + w_2x_2\n",
    "\\end{aligned}\n",
    "$$"
   ]
  },
  {
   "cell_type": "markdown",
   "metadata": {},
   "source": [
    "## Loss"
   ]
  },
  {
   "cell_type": "markdown",
   "metadata": {},
   "source": [
    "$$\n",
    "\\Large y_i = 1 \\Rightarrow \\text{error}_i=\\text{log}(\\text{P}(y_i=1))\n",
    "$$"
   ]
  },
  {
   "cell_type": "markdown",
   "metadata": {},
   "source": [
    "$$\n",
    "\\Large \\text{P}(y_i=0)=1-\\text{P}(y_i=1)\n",
    "$$"
   ]
  },
  {
   "cell_type": "markdown",
   "metadata": {},
   "source": [
    "$$\n",
    "\\Large y_i = 0 \\Rightarrow \\text{error}_i=\\text{log}(1-\\text{P}(y_i=1))\n",
    "$$"
   ]
  },
  {
   "cell_type": "markdown",
   "metadata": {},
   "source": [
    "$$\n",
    "\\Large\n",
    "\\text{BCE}(y)={-\\frac{1}{(N_{\\text{pos}}+N_{\\text{neg}})}\\Bigg[{\\sum_{i=1}^{N_{\\text{pos}}}{\\text{log}(\\text{P}(y_i=1))} + \\sum_{i=1}^{N_{\\text{neg}}}{\\text{log}(1 - \\text{P}(y_i=1))}}\\Bigg]}\n",
    "$$"
   ]
  },
  {
   "cell_type": "markdown",
   "metadata": {},
   "source": [
    "$$\n",
    "\\Large\n",
    "\\text{BCE}(y)={-\\frac{1}{N}\\sum_{i=1}^{N}{\\left[y_i \\text{log}(\\text{P}(y_i=1)) + (1-y_i) \\text{log}(1-\\text{P}(y_i=1))\\right]}}\n",
    "$$"
   ]
  },
  {
   "cell_type": "markdown",
   "metadata": {},
   "source": [
    "### Model Configuration"
   ]
  },
  {
   "cell_type": "code",
   "execution_count": null,
   "metadata": {},
   "outputs": [
    {
     "name": "stdout",
     "output_type": "stream",
     "text": [
      "Number of features: 51\n"
     ]
    }
   ],
   "source": [
    "# Sets learning rate - \"eta\" ~ the \"n\" like Greek letter\n",
    "lr = 0.0001\n",
    "\n",
    "torch.manual_seed(42)\n",
    "feature_cnt = X_train.shape[1]\n",
    "print(\"Number of features:\", feature_cnt)\n",
    "model = nn.Sequential()\n",
    "model.add_module('linear0', nn.Linear(feature_cnt, 50))\n",
    "model.add_module('activation0', nn.LeakyReLU())\n",
    "model.add_module('linear2', nn.Linear(50, 10))\n",
    "model.add_module('activation2', nn.LeakyReLU())\n",
    "model.add_module('output', nn.Linear(10, 1))\n",
    "\n",
    "# Defines a SGD optimizer to update the parameters\n",
    "optimizer = optim.SGD(model.parameters(), lr=lr)\n",
    "\n",
    "# Defines an Adam optimizer to update the parameters\n",
    "# optimizer = optim.Adam(model.parameters(), lr=lr)\n",
    "\n",
    "# Defines a BCE loss function\n",
    "loss_fn = nn.BCEWithLogitsLoss()"
   ]
  },
  {
   "cell_type": "markdown",
   "metadata": {},
   "source": [
    "### Model Definition"
   ]
  },
  {
   "cell_type": "code",
   "execution_count": 130,
   "metadata": {},
   "outputs": [],
   "source": [
    "sbs = StepByStep(model=model, loss_fn=loss_fn, optimizer=optimizer)"
   ]
  },
  {
   "cell_type": "markdown",
   "metadata": {},
   "source": [
    "### Model Training"
   ]
  },
  {
   "cell_type": "code",
   "execution_count": 131,
   "metadata": {},
   "outputs": [
    {
     "ename": "KeyboardInterrupt",
     "evalue": "",
     "output_type": "error",
     "traceback": [
      "\u001b[0;31m---------------------------------------------------------------------------\u001b[0m",
      "\u001b[0;31mKeyboardInterrupt\u001b[0m                         Traceback (most recent call last)",
      "Cell \u001b[0;32mIn[131], line 5\u001b[0m\n\u001b[1;32m      3\u001b[0m sbs\u001b[38;5;241m.\u001b[39mset_loaders(train_loader, val_loader)\n\u001b[1;32m      4\u001b[0m sbs\u001b[38;5;241m.\u001b[39mset_tensorboard(\u001b[38;5;124m'\u001b[39m\u001b[38;5;124mrun\u001b[39m\u001b[38;5;124m'\u001b[39m, folder\u001b[38;5;241m=\u001b[39m\u001b[38;5;124m'\u001b[39m\u001b[38;5;124mbinary_bank_comp/runs\u001b[39m\u001b[38;5;124m'\u001b[39m)\n\u001b[0;32m----> 5\u001b[0m \u001b[43msbs\u001b[49m\u001b[38;5;241;43m.\u001b[39;49m\u001b[43mtrain\u001b[49m\u001b[43m(\u001b[49m\u001b[43mn_epochs\u001b[49m\u001b[43m)\u001b[49m\n",
      "File \u001b[0;32m~/Code/mbuhidar/kaggle_comps/stepbystep_v0.py:149\u001b[0m, in \u001b[0;36mStepByStep.train\u001b[0;34m(self, n_epochs, seed)\u001b[0m\n\u001b[1;32m    145\u001b[0m \u001b[38;5;28mself\u001b[39m\u001b[38;5;241m.\u001b[39mtotal_epochs \u001b[38;5;241m+\u001b[39m\u001b[38;5;241m=\u001b[39m \u001b[38;5;241m1\u001b[39m\n\u001b[1;32m    147\u001b[0m \u001b[38;5;66;03m# inner loop\u001b[39;00m\n\u001b[1;32m    148\u001b[0m \u001b[38;5;66;03m# Performs training using mini-batches\u001b[39;00m\n\u001b[0;32m--> 149\u001b[0m loss \u001b[38;5;241m=\u001b[39m \u001b[38;5;28;43mself\u001b[39;49m\u001b[38;5;241;43m.\u001b[39;49m\u001b[43m_mini_batch\u001b[49m\u001b[43m(\u001b[49m\u001b[43mvalidation\u001b[49m\u001b[38;5;241;43m=\u001b[39;49m\u001b[38;5;28;43;01mFalse\u001b[39;49;00m\u001b[43m)\u001b[49m\n\u001b[1;32m    150\u001b[0m \u001b[38;5;28mself\u001b[39m\u001b[38;5;241m.\u001b[39mlosses\u001b[38;5;241m.\u001b[39mappend(loss)\n\u001b[1;32m    152\u001b[0m \u001b[38;5;66;03m# VALIDATION\u001b[39;00m\n\u001b[1;32m    153\u001b[0m \u001b[38;5;66;03m# no gradients in validation!\u001b[39;00m\n",
      "File \u001b[0;32m~/Code/mbuhidar/kaggle_comps/stepbystep_v0.py:122\u001b[0m, in \u001b[0;36mStepByStep._mini_batch\u001b[0;34m(self, validation)\u001b[0m\n\u001b[1;32m    119\u001b[0m \u001b[38;5;66;03m# Once the data loader and step function, this is the same\u001b[39;00m\n\u001b[1;32m    120\u001b[0m \u001b[38;5;66;03m# mini-batch loop we had before\u001b[39;00m\n\u001b[1;32m    121\u001b[0m mini_batch_losses \u001b[38;5;241m=\u001b[39m []\n\u001b[0;32m--> 122\u001b[0m \u001b[43m\u001b[49m\u001b[38;5;28;43;01mfor\u001b[39;49;00m\u001b[43m \u001b[49m\u001b[43mx_batch\u001b[49m\u001b[43m,\u001b[49m\u001b[43m \u001b[49m\u001b[43my_batch\u001b[49m\u001b[43m \u001b[49m\u001b[38;5;129;43;01min\u001b[39;49;00m\u001b[43m \u001b[49m\u001b[43mdata_loader\u001b[49m\u001b[43m:\u001b[49m\n\u001b[1;32m    123\u001b[0m \u001b[43m    \u001b[49m\u001b[43mx_batch\u001b[49m\u001b[43m \u001b[49m\u001b[38;5;241;43m=\u001b[39;49m\u001b[43m \u001b[49m\u001b[43mx_batch\u001b[49m\u001b[38;5;241;43m.\u001b[39;49m\u001b[43mto\u001b[49m\u001b[43m(\u001b[49m\u001b[38;5;28;43mself\u001b[39;49m\u001b[38;5;241;43m.\u001b[39;49m\u001b[43mdevice\u001b[49m\u001b[43m)\u001b[49m\n\u001b[1;32m    124\u001b[0m \u001b[43m    \u001b[49m\u001b[43my_batch\u001b[49m\u001b[43m \u001b[49m\u001b[38;5;241;43m=\u001b[39;49m\u001b[43m \u001b[49m\u001b[43my_batch\u001b[49m\u001b[38;5;241;43m.\u001b[39;49m\u001b[43mto\u001b[49m\u001b[43m(\u001b[49m\u001b[38;5;28;43mself\u001b[39;49m\u001b[38;5;241;43m.\u001b[39;49m\u001b[43mdevice\u001b[49m\u001b[43m)\u001b[49m\n",
      "File \u001b[0;32m~/Code/mbuhidar/kaggle_comps/venv/lib/python3.12/site-packages/torch/utils/data/dataloader.py:733\u001b[0m, in \u001b[0;36m_BaseDataLoaderIter.__next__\u001b[0;34m(self)\u001b[0m\n\u001b[1;32m    730\u001b[0m \u001b[38;5;28;01mif\u001b[39;00m \u001b[38;5;28mself\u001b[39m\u001b[38;5;241m.\u001b[39m_sampler_iter \u001b[38;5;129;01mis\u001b[39;00m \u001b[38;5;28;01mNone\u001b[39;00m:\n\u001b[1;32m    731\u001b[0m     \u001b[38;5;66;03m# TODO(https://github.com/pytorch/pytorch/issues/76750)\u001b[39;00m\n\u001b[1;32m    732\u001b[0m     \u001b[38;5;28mself\u001b[39m\u001b[38;5;241m.\u001b[39m_reset()  \u001b[38;5;66;03m# type: ignore[call-arg]\u001b[39;00m\n\u001b[0;32m--> 733\u001b[0m data \u001b[38;5;241m=\u001b[39m \u001b[38;5;28;43mself\u001b[39;49m\u001b[38;5;241;43m.\u001b[39;49m\u001b[43m_next_data\u001b[49m\u001b[43m(\u001b[49m\u001b[43m)\u001b[49m\n\u001b[1;32m    734\u001b[0m \u001b[38;5;28mself\u001b[39m\u001b[38;5;241m.\u001b[39m_num_yielded \u001b[38;5;241m+\u001b[39m\u001b[38;5;241m=\u001b[39m \u001b[38;5;241m1\u001b[39m\n\u001b[1;32m    735\u001b[0m \u001b[38;5;28;01mif\u001b[39;00m (\n\u001b[1;32m    736\u001b[0m     \u001b[38;5;28mself\u001b[39m\u001b[38;5;241m.\u001b[39m_dataset_kind \u001b[38;5;241m==\u001b[39m _DatasetKind\u001b[38;5;241m.\u001b[39mIterable\n\u001b[1;32m    737\u001b[0m     \u001b[38;5;129;01mand\u001b[39;00m \u001b[38;5;28mself\u001b[39m\u001b[38;5;241m.\u001b[39m_IterableDataset_len_called \u001b[38;5;129;01mis\u001b[39;00m \u001b[38;5;129;01mnot\u001b[39;00m \u001b[38;5;28;01mNone\u001b[39;00m\n\u001b[1;32m    738\u001b[0m     \u001b[38;5;129;01mand\u001b[39;00m \u001b[38;5;28mself\u001b[39m\u001b[38;5;241m.\u001b[39m_num_yielded \u001b[38;5;241m>\u001b[39m \u001b[38;5;28mself\u001b[39m\u001b[38;5;241m.\u001b[39m_IterableDataset_len_called\n\u001b[1;32m    739\u001b[0m ):\n",
      "File \u001b[0;32m~/Code/mbuhidar/kaggle_comps/venv/lib/python3.12/site-packages/torch/utils/data/dataloader.py:789\u001b[0m, in \u001b[0;36m_SingleProcessDataLoaderIter._next_data\u001b[0;34m(self)\u001b[0m\n\u001b[1;32m    787\u001b[0m \u001b[38;5;28;01mdef\u001b[39;00m\u001b[38;5;250m \u001b[39m\u001b[38;5;21m_next_data\u001b[39m(\u001b[38;5;28mself\u001b[39m):\n\u001b[1;32m    788\u001b[0m     index \u001b[38;5;241m=\u001b[39m \u001b[38;5;28mself\u001b[39m\u001b[38;5;241m.\u001b[39m_next_index()  \u001b[38;5;66;03m# may raise StopIteration\u001b[39;00m\n\u001b[0;32m--> 789\u001b[0m     data \u001b[38;5;241m=\u001b[39m \u001b[38;5;28;43mself\u001b[39;49m\u001b[38;5;241;43m.\u001b[39;49m\u001b[43m_dataset_fetcher\u001b[49m\u001b[38;5;241;43m.\u001b[39;49m\u001b[43mfetch\u001b[49m\u001b[43m(\u001b[49m\u001b[43mindex\u001b[49m\u001b[43m)\u001b[49m  \u001b[38;5;66;03m# may raise StopIteration\u001b[39;00m\n\u001b[1;32m    790\u001b[0m     \u001b[38;5;28;01mif\u001b[39;00m \u001b[38;5;28mself\u001b[39m\u001b[38;5;241m.\u001b[39m_pin_memory:\n\u001b[1;32m    791\u001b[0m         data \u001b[38;5;241m=\u001b[39m _utils\u001b[38;5;241m.\u001b[39mpin_memory\u001b[38;5;241m.\u001b[39mpin_memory(data, \u001b[38;5;28mself\u001b[39m\u001b[38;5;241m.\u001b[39m_pin_memory_device)\n",
      "File \u001b[0;32m~/Code/mbuhidar/kaggle_comps/venv/lib/python3.12/site-packages/torch/utils/data/_utils/fetch.py:55\u001b[0m, in \u001b[0;36m_MapDatasetFetcher.fetch\u001b[0;34m(self, possibly_batched_index)\u001b[0m\n\u001b[1;32m     53\u001b[0m \u001b[38;5;28;01melse\u001b[39;00m:\n\u001b[1;32m     54\u001b[0m     data \u001b[38;5;241m=\u001b[39m \u001b[38;5;28mself\u001b[39m\u001b[38;5;241m.\u001b[39mdataset[possibly_batched_index]\n\u001b[0;32m---> 55\u001b[0m \u001b[38;5;28;01mreturn\u001b[39;00m \u001b[38;5;28;43mself\u001b[39;49m\u001b[38;5;241;43m.\u001b[39;49m\u001b[43mcollate_fn\u001b[49m\u001b[43m(\u001b[49m\u001b[43mdata\u001b[49m\u001b[43m)\u001b[49m\n",
      "File \u001b[0;32m~/Code/mbuhidar/kaggle_comps/venv/lib/python3.12/site-packages/torch/utils/data/_utils/collate.py:398\u001b[0m, in \u001b[0;36mdefault_collate\u001b[0;34m(batch)\u001b[0m\n\u001b[1;32m    337\u001b[0m \u001b[38;5;28;01mdef\u001b[39;00m\u001b[38;5;250m \u001b[39m\u001b[38;5;21mdefault_collate\u001b[39m(batch):\n\u001b[1;32m    338\u001b[0m \u001b[38;5;250m    \u001b[39m\u001b[38;5;124mr\u001b[39m\u001b[38;5;124;03m\"\"\"\u001b[39;00m\n\u001b[1;32m    339\u001b[0m \u001b[38;5;124;03m    Take in a batch of data and put the elements within the batch into a tensor with an additional outer dimension - batch size.\u001b[39;00m\n\u001b[1;32m    340\u001b[0m \n\u001b[0;32m   (...)\u001b[0m\n\u001b[1;32m    396\u001b[0m \u001b[38;5;124;03m        >>> default_collate(batch)  # Handle `CustomType` automatically\u001b[39;00m\n\u001b[1;32m    397\u001b[0m \u001b[38;5;124;03m    \"\"\"\u001b[39;00m\n\u001b[0;32m--> 398\u001b[0m     \u001b[38;5;28;01mreturn\u001b[39;00m \u001b[43mcollate\u001b[49m\u001b[43m(\u001b[49m\u001b[43mbatch\u001b[49m\u001b[43m,\u001b[49m\u001b[43m \u001b[49m\u001b[43mcollate_fn_map\u001b[49m\u001b[38;5;241;43m=\u001b[39;49m\u001b[43mdefault_collate_fn_map\u001b[49m\u001b[43m)\u001b[49m\n",
      "File \u001b[0;32m~/Code/mbuhidar/kaggle_comps/venv/lib/python3.12/site-packages/torch/utils/data/_utils/collate.py:212\u001b[0m, in \u001b[0;36mcollate\u001b[0;34m(batch, collate_fn_map)\u001b[0m\n\u001b[1;32m    208\u001b[0m transposed \u001b[38;5;241m=\u001b[39m \u001b[38;5;28mlist\u001b[39m(\u001b[38;5;28mzip\u001b[39m(\u001b[38;5;241m*\u001b[39mbatch))  \u001b[38;5;66;03m# It may be accessed twice, so we use a list.\u001b[39;00m\n\u001b[1;32m    210\u001b[0m \u001b[38;5;28;01mif\u001b[39;00m \u001b[38;5;28misinstance\u001b[39m(elem, \u001b[38;5;28mtuple\u001b[39m):\n\u001b[1;32m    211\u001b[0m     \u001b[38;5;28;01mreturn\u001b[39;00m [\n\u001b[0;32m--> 212\u001b[0m         \u001b[43mcollate\u001b[49m\u001b[43m(\u001b[49m\u001b[43msamples\u001b[49m\u001b[43m,\u001b[49m\u001b[43m \u001b[49m\u001b[43mcollate_fn_map\u001b[49m\u001b[38;5;241;43m=\u001b[39;49m\u001b[43mcollate_fn_map\u001b[49m\u001b[43m)\u001b[49m\n\u001b[1;32m    213\u001b[0m         \u001b[38;5;28;01mfor\u001b[39;00m samples \u001b[38;5;129;01min\u001b[39;00m transposed\n\u001b[1;32m    214\u001b[0m     ]  \u001b[38;5;66;03m# Backwards compatibility.\u001b[39;00m\n\u001b[1;32m    215\u001b[0m \u001b[38;5;28;01melse\u001b[39;00m:\n\u001b[1;32m    216\u001b[0m     \u001b[38;5;28;01mtry\u001b[39;00m:\n",
      "File \u001b[0;32m~/Code/mbuhidar/kaggle_comps/venv/lib/python3.12/site-packages/torch/utils/data/_utils/collate.py:155\u001b[0m, in \u001b[0;36mcollate\u001b[0;34m(batch, collate_fn_map)\u001b[0m\n\u001b[1;32m    153\u001b[0m \u001b[38;5;28;01mif\u001b[39;00m collate_fn_map \u001b[38;5;129;01mis\u001b[39;00m \u001b[38;5;129;01mnot\u001b[39;00m \u001b[38;5;28;01mNone\u001b[39;00m:\n\u001b[1;32m    154\u001b[0m     \u001b[38;5;28;01mif\u001b[39;00m elem_type \u001b[38;5;129;01min\u001b[39;00m collate_fn_map:\n\u001b[0;32m--> 155\u001b[0m         \u001b[38;5;28;01mreturn\u001b[39;00m \u001b[43mcollate_fn_map\u001b[49m\u001b[43m[\u001b[49m\u001b[43melem_type\u001b[49m\u001b[43m]\u001b[49m\u001b[43m(\u001b[49m\u001b[43mbatch\u001b[49m\u001b[43m,\u001b[49m\u001b[43m \u001b[49m\u001b[43mcollate_fn_map\u001b[49m\u001b[38;5;241;43m=\u001b[39;49m\u001b[43mcollate_fn_map\u001b[49m\u001b[43m)\u001b[49m\n\u001b[1;32m    157\u001b[0m     \u001b[38;5;28;01mfor\u001b[39;00m collate_type \u001b[38;5;129;01min\u001b[39;00m collate_fn_map:\n\u001b[1;32m    158\u001b[0m         \u001b[38;5;28;01mif\u001b[39;00m \u001b[38;5;28misinstance\u001b[39m(elem, collate_type):\n",
      "File \u001b[0;32m~/Code/mbuhidar/kaggle_comps/venv/lib/python3.12/site-packages/torch/utils/data/_utils/collate.py:272\u001b[0m, in \u001b[0;36mcollate_tensor_fn\u001b[0;34m(batch, collate_fn_map)\u001b[0m\n\u001b[1;32m    270\u001b[0m     storage \u001b[38;5;241m=\u001b[39m elem\u001b[38;5;241m.\u001b[39m_typed_storage()\u001b[38;5;241m.\u001b[39m_new_shared(numel, device\u001b[38;5;241m=\u001b[39melem\u001b[38;5;241m.\u001b[39mdevice)\n\u001b[1;32m    271\u001b[0m     out \u001b[38;5;241m=\u001b[39m elem\u001b[38;5;241m.\u001b[39mnew(storage)\u001b[38;5;241m.\u001b[39mresize_(\u001b[38;5;28mlen\u001b[39m(batch), \u001b[38;5;241m*\u001b[39m\u001b[38;5;28mlist\u001b[39m(elem\u001b[38;5;241m.\u001b[39msize()))\n\u001b[0;32m--> 272\u001b[0m \u001b[38;5;28;01mreturn\u001b[39;00m \u001b[43mtorch\u001b[49m\u001b[38;5;241;43m.\u001b[39;49m\u001b[43mstack\u001b[49m\u001b[43m(\u001b[49m\u001b[43mbatch\u001b[49m\u001b[43m,\u001b[49m\u001b[43m \u001b[49m\u001b[38;5;241;43m0\u001b[39;49m\u001b[43m,\u001b[49m\u001b[43m \u001b[49m\u001b[43mout\u001b[49m\u001b[38;5;241;43m=\u001b[39;49m\u001b[43mout\u001b[49m\u001b[43m)\u001b[49m\n",
      "\u001b[0;31mKeyboardInterrupt\u001b[0m: "
     ]
    }
   ],
   "source": [
    "n_epochs = 1000\n",
    "\n",
    "sbs.set_loaders(train_loader, val_loader)\n",
    "sbs.set_tensorboard('run', folder='binary_bank_comp/runs')\n",
    "sbs.train(n_epochs)"
   ]
  },
  {
   "cell_type": "code",
   "execution_count": 113,
   "metadata": {},
   "outputs": [
    {
     "data": {
      "image/png": "[encoded data removed]",
      "text/plain": [
       "<Figure size 1000x400 with 1 Axes>"
      ]
     },
     "metadata": {},
     "output_type": "display_data"
    }
   ],
   "source": [
    "fig = sbs.plot_losses()"
   ]
  },
  {
   "cell_type": "code",
   "execution_count": 114,
   "metadata": {},
   "outputs": [
    {
     "name": "stdout",
     "output_type": "stream",
     "text": [
      "OrderedDict({'linear0.weight': tensor([[ 0.0255,  0.0493,  0.0349,  ..., -0.0330, -0.0027, -0.1455],\n",
      "        [-0.0269, -0.1364,  0.1169,  ..., -0.1400, -0.0824,  0.0150],\n",
      "        [-0.0777, -0.1904, -0.0696,  ..., -0.0710, -0.0969,  0.0953],\n",
      "        ...,\n",
      "        [ 0.0056, -0.0061,  0.0246,  ...,  0.0206,  0.0429,  0.0407],\n",
      "        [-0.0478, -0.0148,  0.0758,  ...,  0.0413, -0.0282,  0.1344],\n",
      "        [ 0.0341,  0.1587, -0.0792,  ..., -0.0381, -0.1498,  0.0853]],\n",
      "       device='cuda:0'), 'linear0.bias': tensor([ 0.2410, -0.0356,  0.2640, -0.0063, -0.0203, -0.0888,  0.0133,  0.0581,\n",
      "         0.0776, -0.0051, -0.0369,  0.1019,  0.1094,  0.0743, -0.0799,  0.0907,\n",
      "         0.0382,  0.1521,  0.0313,  0.0207, -0.1141,  0.0840,  0.0648,  0.1453,\n",
      "         0.0778, -0.0895,  0.0552, -0.0993, -0.0844,  0.0423,  0.0771,  0.0370,\n",
      "         0.1549, -0.0570, -0.1217,  0.0180,  0.1404,  0.0066,  0.1047, -0.0712,\n",
      "        -0.0513,  0.0308,  0.1696,  0.0782,  0.2748,  0.0170,  0.1751, -0.2390,\n",
      "         0.1481, -0.0010], device='cuda:0'), 'linear2.weight': tensor([[-1.2348e-01, -6.1226e-02,  1.6233e-01,  5.7737e-02,  1.4088e-03,\n",
      "          1.1857e-01,  1.3193e-02,  5.5167e-02,  4.9975e-02, -2.0496e-02,\n",
      "          1.5552e-01,  4.4630e-02,  1.1201e-01, -1.2881e-01, -3.6100e-02,\n",
      "          8.3516e-02,  6.1196e-02,  9.9241e-02,  6.3200e-02, -1.0777e-01,\n",
      "          6.2978e-02, -6.9695e-02, -6.6488e-02,  4.5626e-02, -1.7378e-01,\n",
      "          1.4729e-01, -8.7499e-02,  5.0729e-02,  7.3197e-02, -7.6610e-02,\n",
      "          1.1390e-01, -5.3692e-02,  4.3120e-02,  1.2869e-01, -7.7218e-02,\n",
      "          2.2702e-02,  1.6856e-01, -6.0577e-02,  4.7255e-02,  8.9390e-02,\n",
      "         -2.8765e-02, -6.1066e-02,  3.7837e-02,  9.6970e-02, -1.1469e-02,\n",
      "          5.5729e-02, -5.2800e-02,  8.4959e-02,  1.2725e-01, -7.9460e-03],\n",
      "        [-7.3333e-02,  9.9364e-03,  3.3041e-02, -8.8627e-02, -9.5439e-02,\n",
      "         -1.3702e-01,  3.5549e-02, -9.1816e-02,  1.0173e-02, -3.2063e-02,\n",
      "         -9.2468e-02, -4.5434e-02, -1.0848e-01, -7.5549e-02, -4.8104e-03,\n",
      "         -1.2071e-01, -1.2388e-01,  1.0599e-01,  1.3453e-02, -6.2276e-02,\n",
      "         -3.6158e-03,  1.0450e-01, -1.1803e-01, -7.5317e-02, -1.0301e-01,\n",
      "         -1.1210e-02, -4.5846e-03, -1.1021e-01,  9.8290e-02, -1.0847e-01,\n",
      "          1.3076e-01, -9.7421e-02, -1.8894e-02,  2.6787e-02, -6.3232e-02,\n",
      "          1.2975e-01, -9.7464e-02, -8.2013e-03, -1.0419e-01,  3.9302e-02,\n",
      "          1.2022e-01,  1.3195e-01,  1.7182e-02, -7.0847e-02,  1.3747e-01,\n",
      "          1.0814e-02,  9.4832e-02, -7.4456e-02, -6.5837e-02, -1.1732e-01],\n",
      "        [ 9.8681e-02,  1.3019e-02, -4.4094e-02, -9.1718e-03, -3.4724e-02,\n",
      "          3.7476e-03,  4.7455e-02, -4.5165e-02,  3.6488e-02, -7.7701e-02,\n",
      "          3.8293e-02, -1.2090e-01,  3.0562e-02,  1.3289e-01,  1.4518e-01,\n",
      "          9.3730e-02,  8.4808e-02,  1.6782e-01,  5.6612e-02,  6.1000e-02,\n",
      "          3.4515e-02,  1.3563e-01,  1.4942e-01, -6.8209e-02, -2.4732e-02,\n",
      "         -7.5193e-02,  2.3001e-02, -1.3031e-01,  5.1332e-02, -1.9377e-02,\n",
      "          5.7154e-02,  5.3954e-02, -8.4500e-02,  6.8573e-02,  4.3071e-02,\n",
      "         -9.4514e-02,  1.6125e-01,  9.0191e-02,  1.1663e-01, -2.4566e-02,\n",
      "          7.3983e-02, -1.0989e-01, -7.4808e-02,  1.0561e-01,  7.6707e-02,\n",
      "          6.0268e-02, -1.1013e-01,  2.0643e-01, -4.2984e-02,  1.3265e-01],\n",
      "        [ 2.3409e-01,  6.6269e-02,  6.2680e-02,  1.5970e-01,  6.6993e-02,\n",
      "         -4.0698e-02,  1.4725e-01,  1.9393e-02,  4.2501e-02, -1.0507e-02,\n",
      "          9.5808e-02,  1.1031e-01, -9.7235e-02,  1.2958e-01, -1.1198e-01,\n",
      "         -1.5357e-01, -1.1407e-01, -9.8670e-03, -1.2139e-01, -7.6219e-02,\n",
      "         -7.5011e-02,  4.5571e-02, -1.6502e-01, -1.0159e-01,  4.8734e-02,\n",
      "         -4.6824e-03,  4.2405e-02,  4.5339e-02, -8.8268e-02, -1.3086e-01,\n",
      "         -8.2794e-03, -1.1922e-01,  1.7021e-01, -8.8026e-02, -2.2497e-03,\n",
      "          9.4568e-03, -1.3167e-01,  1.6171e-01, -1.1824e-01, -7.7729e-03,\n",
      "         -1.0403e-01, -9.7634e-03,  3.0992e-02, -1.5966e-01,  3.5916e-02,\n",
      "          9.9523e-03,  1.1411e-01, -2.3053e-02,  1.1934e-01,  3.6029e-02],\n",
      "        [ 3.3878e-02,  1.0898e-01,  4.1499e-01, -1.7073e-01,  1.0910e-01,\n",
      "         -1.3389e-01, -3.4147e-02,  6.1202e-02,  2.5361e-01,  3.8092e-02,\n",
      "          6.3410e-02, -1.5016e-02, -8.5489e-02, -7.2082e-02, -9.1543e-02,\n",
      "          1.7326e-01, -3.3236e-02, -1.9922e-02,  9.2531e-04,  1.8673e-01,\n",
      "          2.9195e-01, -3.5189e-03,  1.2341e-01,  1.1181e-01, -2.2399e-01,\n",
      "          5.5152e-02, -1.5448e-01,  1.0608e-02,  1.0305e-01,  4.1789e-02,\n",
      "          1.4742e-01, -1.3391e-01, -2.8068e-01,  9.4585e-02, -1.5208e-01,\n",
      "          1.9885e-01,  1.6278e-01, -2.2924e-01,  6.1947e-02, -1.3466e-02,\n",
      "          1.9643e-01, -1.2253e-01, -1.0110e-01,  1.7534e-01,  2.2686e-01,\n",
      "         -6.2220e-02,  2.7762e-01,  5.4033e-01,  1.2082e-01,  1.3446e-01],\n",
      "        [-6.3001e-02,  2.5876e-02,  1.3256e-01, -7.5778e-02,  1.2858e-01,\n",
      "          4.4096e-02,  3.0114e-02, -1.7066e-02, -1.2467e-02,  2.9221e-02,\n",
      "          1.1743e-02, -4.4760e-02,  1.6536e-01,  3.3982e-03, -9.2801e-02,\n",
      "          2.0671e-01, -1.1263e-02, -3.1744e-02,  1.0263e-01, -3.4175e-02,\n",
      "          1.9150e-01,  1.7258e-01,  1.4389e-01,  1.2832e-01, -1.1725e-01,\n",
      "          7.4168e-02, -2.4319e-02,  4.4929e-02, -3.3914e-02,  9.3940e-02,\n",
      "          3.1773e-02, -1.0366e-01, -2.1799e-01, -1.0263e-01, -1.4198e-01,\n",
      "          2.4843e-01,  1.0072e-01, -2.0402e-01,  2.8343e-02,  1.1117e-02,\n",
      "          1.6615e-02, -1.1813e-01, -1.4206e-01,  2.3711e-02,  1.3071e-01,\n",
      "          1.6629e-02,  1.7353e-01,  4.0143e-01,  1.7848e-01,  3.0301e-02],\n",
      "        [-3.0115e-01, -1.5358e-02,  6.8948e-02, -7.3960e-02,  2.4043e-01,\n",
      "         -1.2469e-01, -2.4784e-01,  1.6312e-01,  1.4011e-01,  7.8923e-02,\n",
      "          3.4775e-02,  1.5299e-01, -1.0386e-03, -2.2787e-01, -6.6314e-02,\n",
      "          3.7217e-01, -2.9237e-01,  6.0255e-02,  1.1480e-01,  7.5898e-02,\n",
      "          7.1253e-01,  1.5202e-01,  2.2675e-01,  7.7166e-02, -2.2469e-01,\n",
      "         -1.0153e-01, -1.5379e-01,  1.0729e-01,  1.1136e-02,  2.6133e-01,\n",
      "         -8.8912e-02, -1.3439e-01, -8.7617e-02,  1.0302e-01, -1.5109e-01,\n",
      "          1.3963e-01,  2.8360e-01, -1.3459e-01,  1.2968e-01, -1.8569e-01,\n",
      "         -5.5747e-02,  6.0539e-02, -3.1833e-01,  2.6388e-01,  4.0115e-01,\n",
      "          1.6506e-02,  1.5125e-01,  9.2914e-01,  1.0117e-01,  2.6405e-01],\n",
      "        [ 4.2536e-01, -3.3557e-02, -2.9038e-02,  2.7210e-01, -1.2129e-01,\n",
      "          9.9937e-02,  8.0810e-03, -8.2611e-02, -2.7727e-02,  4.0591e-02,\n",
      "          9.5597e-04, -9.0497e-02,  1.4497e-01,  1.8713e-01, -4.7995e-02,\n",
      "         -2.3360e-01,  3.6958e-02, -2.3427e-01, -1.2917e-01, -7.5387e-02,\n",
      "          5.3958e-02, -8.7392e-02, -2.7097e-02, -1.0109e-01,  7.7634e-02,\n",
      "         -5.1949e-03,  2.4918e-01, -5.7465e-03,  1.5033e-01,  2.1388e-02,\n",
      "          1.2546e-01,  3.0587e-02,  2.2010e-01,  1.3723e-01,  7.7145e-03,\n",
      "         -5.4957e-02,  6.4269e-02,  1.3539e-01, -1.0378e-01, -1.2419e-02,\n",
      "         -1.5589e-01,  2.3796e-01,  3.4372e-01, -1.3777e-01,  4.8338e-02,\n",
      "         -6.7123e-02, -8.0817e-02, -2.3659e-01, -1.3604e-01,  3.6017e-02],\n",
      "        [ 7.5488e-02,  1.0735e-01,  9.4283e-02, -1.5361e-01,  3.3056e-02,\n",
      "         -4.5653e-02, -3.7469e-02,  1.3151e-01, -3.7427e-02, -9.7702e-02,\n",
      "         -1.0461e-01,  9.4581e-02,  7.6985e-03,  1.2000e-01,  3.7947e-02,\n",
      "         -1.0796e-01,  1.9810e-02,  1.5524e-01,  9.9658e-02,  5.6916e-02,\n",
      "         -9.8596e-02, -7.4415e-02,  1.1854e-01, -8.8302e-02,  1.3946e-02,\n",
      "         -1.5106e-02,  1.7625e-02,  1.7411e-02, -1.0037e-01, -4.7206e-02,\n",
      "          1.2482e-01,  2.5150e-02,  4.0017e-02, -7.2476e-02,  9.8963e-02,\n",
      "         -1.0027e-02, -3.6271e-02, -3.9771e-04, -2.3137e-02, -6.2176e-02,\n",
      "         -6.4284e-03, -1.9028e-02, -9.6307e-02,  7.3287e-02, -1.2712e-01,\n",
      "          9.3772e-02,  1.5888e-01,  6.4131e-02, -2.0538e-02, -1.2326e-01],\n",
      "        [ 4.1629e-02,  7.8783e-02,  3.7476e-01, -1.2465e-01,  1.5837e-01,\n",
      "          1.0730e-01, -3.5318e-02,  3.8334e-02, -2.1786e-02,  5.9645e-02,\n",
      "          1.0390e-01,  1.9104e-01, -4.3542e-02, -4.6057e-03, -3.1925e-02,\n",
      "          1.7651e-01, -2.4307e-02, -6.6126e-02,  1.4995e-01,  1.3682e-01,\n",
      "          1.0801e-01,  1.1952e-01,  7.5559e-02,  8.5935e-02, -1.9435e-01,\n",
      "         -9.0496e-02, -1.3678e-01,  8.8779e-02, -2.5090e-02,  4.5623e-02,\n",
      "          4.9627e-02,  3.5624e-02, -1.7276e-01, -1.0127e-01, -1.5283e-01,\n",
      "          1.4101e-01,  1.3584e-01, -4.3154e-02,  1.4236e-01, -2.7930e-02,\n",
      "          1.4862e-01, -1.1969e-01, -1.5175e-01,  2.3755e-01,  2.1939e-01,\n",
      "          3.8695e-02,  7.8494e-03,  4.9610e-01, -5.7413e-02,  1.1798e-01]],\n",
      "       device='cuda:0'), 'linear2.bias': tensor([ 0.1219,  0.0435, -0.1040, -0.0123,  0.3247,  0.3024, -0.0355,  0.3175,\n",
      "        -0.0025,  0.0926], device='cuda:0'), 'output.weight': tensor([[-0.2998,  0.0214, -0.2022,  0.3682, -1.0985, -0.7488, -1.6364,  0.9321,\n",
      "         -0.1144, -0.8732]], device='cuda:0'), 'output.bias': tensor([-0.1972], device='cuda:0')})\n"
     ]
    }
   ],
   "source": [
    "print(model.state_dict())"
   ]
  },
  {
   "cell_type": "code",
   "execution_count": null,
   "metadata": {},
   "outputs": [],
   "source": [
    "# Save model\n",
    "filename='binary_bank_comp/cp2a_adam_3layer_lr0001_1000.pth'\n",
    "sbs.save_checkpoint(filename=filename)"
   ]
  },
  {
   "cell_type": "markdown",
   "metadata": {},
   "source": [
    "## Inference"
   ]
  },
  {
   "cell_type": "markdown",
   "metadata": {},
   "source": [
    "### Load Test Data"
   ]
  },
  {
   "cell_type": "code",
   "execution_count": 116,
   "metadata": {},
   "outputs": [
    {
     "name": "stdout",
     "output_type": "stream",
     "text": [
      "       id  age            job  marital  education default  balance housing  \\\n",
      "0  750000   32    blue-collar  married  secondary      no     1397     yes   \n",
      "1  750001   44     management  married   tertiary      no       23     yes   \n",
      "2  750002   36  self-employed  married    primary      no       46     yes   \n",
      "3  750003   58    blue-collar  married  secondary      no    -1380     yes   \n",
      "4  750004   28     technician   single  secondary      no     1950     yes   \n",
      "\n",
      "  loan   contact  day month  duration  campaign  pdays  previous poutcome  \n",
      "0   no   unknown   21   may       224         1     -1         0  unknown  \n",
      "1   no  cellular    3   apr       586         2     -1         0  unknown  \n",
      "2  yes  cellular   13   may       111         2     -1         0  unknown  \n",
      "3  yes   unknown   29   may       125         1     -1         0  unknown  \n",
      "4   no  cellular   22   jul       181         1     -1         0  unknown  \n"
     ]
    }
   ],
   "source": [
    "# Import data from .csv file\n",
    "raw_test_data = pd.read_csv('binary_bank_comp/dataset/test.csv')\n",
    "\n",
    "# Display the first few rows of the dataset\n",
    "print(raw_test_data[:5])"
   ]
  },
  {
   "cell_type": "markdown",
   "metadata": {},
   "source": [
    "### Remove and save id column"
   ]
  },
  {
   "cell_type": "code",
   "execution_count": 117,
   "metadata": {},
   "outputs": [
    {
     "data": {
      "text/plain": [
       "0         750000\n",
       "1         750001\n",
       "2         750002\n",
       "3         750003\n",
       "4         750004\n",
       "           ...  \n",
       "249995    999995\n",
       "249996    999996\n",
       "249997    999997\n",
       "249998    999998\n",
       "249999    999999\n",
       "Name: id, Length: 250000, dtype: int64"
      ]
     },
     "execution_count": 117,
     "metadata": {},
     "output_type": "execute_result"
    }
   ],
   "source": [
    "# Remove and save id column\n",
    "id_column = raw_test_data['id']\n",
    "raw_test_data.drop(columns=['id'], inplace=True)\n",
    "id_column"
   ]
  },
  {
   "cell_type": "markdown",
   "metadata": {},
   "source": [
    "### Clean Test Data"
   ]
  },
  {
   "cell_type": "code",
   "execution_count": 118,
   "metadata": {},
   "outputs": [
    {
     "name": "stdout",
     "output_type": "stream",
     "text": [
      "             age   balance       day  duration  campaign     pdays  previous  \\\n",
      "0      -0.882305  0.067636  0.591223 -0.118099 -0.579664 -0.302805 -0.222073   \n",
      "1       0.306400 -0.415342 -1.589909  1.210545 -0.211544 -0.302805 -0.222073   \n",
      "2      -0.486070 -0.407257 -0.378169 -0.532842 -0.211544 -0.302805 -0.222073   \n",
      "3       1.693222 -0.908514  1.560615 -0.481458 -0.579664 -0.302805 -0.222073   \n",
      "4      -1.278540  0.262023  0.712397 -0.275921 -0.579664 -0.302805 -0.222073   \n",
      "...          ...       ...       ...       ...       ...       ...       ...   \n",
      "249995  0.207341 -0.423427  0.227701 -0.701675 -0.211544 -0.302805 -0.222073   \n",
      "249996 -0.089835 -0.239937  0.348875  1.008679 -0.579664  2.154382  0.522372   \n",
      "249997  2.188515 -0.411827 -1.589909 -0.286932 -0.579664  0.899923  5.733484   \n",
      "249998  0.900752  0.500700  1.681789 -0.341987 -0.211544 -0.302805 -0.222073   \n",
      "249999 -1.179481 -0.169635 -1.226387 -0.503479 -0.579664 -0.302805 -0.222073   \n",
      "\n",
      "        job_admin.  job_blue-collar  job_entrepreneur  ...  month_jun  \\\n",
      "0        -0.349208         1.844413         -0.155148  ...  -0.376988   \n",
      "1        -0.349208        -0.542178         -0.155148  ...  -0.376988   \n",
      "2        -0.349208        -0.542178         -0.155148  ...  -0.376988   \n",
      "3        -0.349208         1.844413         -0.155148  ...  -0.376988   \n",
      "4        -0.349208        -0.542178         -0.155148  ...  -0.376988   \n",
      "...            ...              ...               ...  ...        ...   \n",
      "249995   -0.349208        -0.542178         -0.155148  ...  -0.376988   \n",
      "249996   -0.349208        -0.542178         -0.155148  ...  -0.376988   \n",
      "249997   -0.349208        -0.542178         -0.155148  ...  -0.376988   \n",
      "249998   -0.349208         1.844413         -0.155148  ...  -0.376988   \n",
      "249999   -0.349208        -0.542178         -0.155148  ...  -0.376988   \n",
      "\n",
      "        month_mar  month_may  month_nov  month_oct  month_sep  \\\n",
      "0       -0.088051   1.510809  -0.310808  -0.111854   -0.09962   \n",
      "1       -0.088051  -0.661897  -0.310808  -0.111854   -0.09962   \n",
      "2       -0.088051   1.510809  -0.310808  -0.111854   -0.09962   \n",
      "3       -0.088051   1.510809  -0.310808  -0.111854   -0.09962   \n",
      "4       -0.088051  -0.661897  -0.310808  -0.111854   -0.09962   \n",
      "...           ...        ...        ...        ...        ...   \n",
      "249995  -0.088051  -0.661897   3.217423  -0.111854   -0.09962   \n",
      "249996  -0.088051  -0.661897   3.217423  -0.111854   -0.09962   \n",
      "249997  -0.088051  -0.661897  -0.310808  -0.111854   -0.09962   \n",
      "249998  -0.088051   1.510809  -0.310808  -0.111854   -0.09962   \n",
      "249999  -0.088051  -0.661897  -0.310808  -0.111854   -0.09962   \n",
      "\n",
      "        poutcome_failure  poutcome_other  poutcome_success  poutcome_unknown  \n",
      "0              -0.253034        -0.14176         -0.155119          0.339540  \n",
      "1              -0.253034        -0.14176         -0.155119          0.339540  \n",
      "2              -0.253034        -0.14176         -0.155119          0.339540  \n",
      "3              -0.253034        -0.14176         -0.155119          0.339540  \n",
      "4              -0.253034        -0.14176         -0.155119          0.339540  \n",
      "...                  ...             ...               ...               ...  \n",
      "249995         -0.253034        -0.14176         -0.155119          0.339540  \n",
      "249996          3.952045        -0.14176         -0.155119         -2.945163  \n",
      "249997         -0.253034        -0.14176          6.446645         -2.945163  \n",
      "249998         -0.253034        -0.14176         -0.155119          0.339540  \n",
      "249999         -0.253034        -0.14176         -0.155119          0.339540  \n",
      "\n",
      "[250000 rows x 51 columns]\n"
     ]
    }
   ],
   "source": [
    "# Clean the test dataset\n",
    "\n",
    "# Identify numerical columns (excluding the target and any non-feature columns)\n",
    "X_test_numerical_cols = raw_test_data.select_dtypes(include=['int64', 'float64'])\n",
    "\n",
    "# Identify categorical columns\n",
    "X_test_categorical_cols = raw_test_data.select_dtypes(include=['object', 'category'])\n",
    "\n",
    "# Convert categorical features to numerical using one-hot encoding using 1s and 0s\n",
    "X_test_categorical_encoded = pd.get_dummies(X_test_categorical_cols, drop_first=False).astype(int)\n",
    "\n",
    "# Combine the numerical and categorical features\n",
    "X_test_combined = pd.concat([X_test_numerical_cols, X_test_categorical_encoded], axis=1)\n",
    "\n",
    "# Numeric Feature Standardization\n",
    "# Note: sc = StandardScaler() from training data preprocessing fit on X_train_combined\n",
    "X_test_scaled = sc.transform(X_test_combined)\n",
    "\n",
    "# Convert the scaled arrays back to DataFrames for easier handling\n",
    "X_test = pd.DataFrame(X_test_scaled, columns=X_test_combined.columns)\n",
    "\n",
    "# Show the cleaned dataset\n",
    "print(X_test)"
   ]
  },
  {
   "cell_type": "markdown",
   "metadata": {},
   "source": [
    "### Data Preparation"
   ]
  },
  {
   "cell_type": "code",
   "execution_count": 119,
   "metadata": {},
   "outputs": [],
   "source": [
    "torch.manual_seed(13) # Used for reproducibility of shuffle in DataLoader\n",
    "\n",
    "# Convert pandas DataFrames to Numpy arrays\n",
    "X_test = X_test.to_numpy()\n",
    "\n",
    "# Builds tensors from numpy arrays\n",
    "x_test_tensor = torch.as_tensor(X_test).float()\n",
    "\n",
    "# Builds dataset containing ALL data points\n",
    "test_dataset = TensorDataset(x_test_tensor)\n",
    "\n",
    "# Builds a loader of each set\n",
    "test_loader = DataLoader(dataset=test_dataset, batch_size=batch_size, shuffle=True)"
   ]
  },
  {
   "cell_type": "markdown",
   "metadata": {},
   "source": [
    "### Model Configuration - defined in training section"
   ]
  },
  {
   "cell_type": "markdown",
   "metadata": {},
   "source": [
    "### Model Definition - defined in training section"
   ]
  },
  {
   "cell_type": "markdown",
   "metadata": {},
   "source": [
    "### Load Trained Model"
   ]
  },
  {
   "cell_type": "code",
   "execution_count": 120,
   "metadata": {},
   "outputs": [],
   "source": [
    "# Load trained model using filename defined in training section\n",
    "# filename='binary_bank_comp/checkpoint_sgd_3layer_lr005_250.pth'\n",
    "sbs.load_checkpoint(filename=filename)"
   ]
  },
  {
   "cell_type": "markdown",
   "metadata": {},
   "source": [
    "### Making Predictions (Logits)"
   ]
  },
  {
   "cell_type": "code",
   "execution_count": 121,
   "metadata": {},
   "outputs": [
    {
     "data": {
      "text/plain": [
       "array([[-7.2120371e+00],\n",
       "       [-1.7079412e+00],\n",
       "       [-8.5088053e+00],\n",
       "       ...,\n",
       "       [ 3.9918721e-03],\n",
       "       [-7.1342664e+00],\n",
       "       [-2.1800160e+00]], shape=(250000, 1), dtype=float32)"
      ]
     },
     "execution_count": 121,
     "metadata": {},
     "output_type": "execute_result"
    }
   ],
   "source": [
    "predictions = sbs.predict(x_test_tensor)\n",
    "predictions"
   ]
  },
  {
   "cell_type": "markdown",
   "metadata": {},
   "source": [
    "#### Making Predictions (Probabilities)"
   ]
  },
  {
   "cell_type": "code",
   "execution_count": 122,
   "metadata": {},
   "outputs": [
    {
     "data": {
      "text/plain": [
       "array([[7.3710922e-04],\n",
       "       [1.5343094e-01],\n",
       "       [2.0164397e-04],\n",
       "       ...,\n",
       "       [5.0099796e-01],\n",
       "       [7.9667527e-04],\n",
       "       [1.0155947e-01]], shape=(250000, 1), dtype=float32)"
      ]
     },
     "execution_count": 122,
     "metadata": {},
     "output_type": "execute_result"
    }
   ],
   "source": [
    "# Convert predictions to probabilities using the sigmoid function\n",
    "def sigmoid(x):\n",
    "    return 1 / (1 + np.exp(-x))\n",
    "\n",
    "probabilities = sigmoid(predictions)  # Use torch's built-in sigmoid for numerical stabilit\n",
    "probabilities"
   ]
  },
  {
   "cell_type": "markdown",
   "metadata": {},
   "source": [
    "#### Making Predictions (Classes)"
   ]
  },
  {
   "cell_type": "markdown",
   "metadata": {},
   "source": [
    "$$\n",
    "\\Large y =\n",
    "\\begin{cases}\n",
    "1,\\ \\text{if P}(y=1) \\ge 0.5\n",
    "\\\\\n",
    "0,\\ \\text{if P}(y=1) < 0.5\n",
    "\\end{cases}\n",
    "$$"
   ]
  },
  {
   "cell_type": "markdown",
   "metadata": {},
   "source": [
    "$$\n",
    "\\Large y =\n",
    "\\begin{cases}\n",
    "1,\\ \\text{if } \\sigma(z) \\ge 0.5\n",
    "\\\\\n",
    "0,\\ \\text{if } \\sigma(z) < 0.5\n",
    "\\end{cases}\n",
    "$$"
   ]
  },
  {
   "cell_type": "markdown",
   "metadata": {},
   "source": [
    "$$\n",
    "\\Large y =\n",
    "\\begin{cases}\n",
    "1,\\ \\text{if } z \\ge 0\n",
    "\\\\\n",
    "0,\\ \\text{if } z < 0\n",
    "\\end{cases}\n",
    "$$"
   ]
  },
  {
   "cell_type": "code",
   "execution_count": 123,
   "metadata": {},
   "outputs": [
    {
     "name": "stdout",
     "output_type": "stream",
     "text": [
      "0         750000\n",
      "1         750001\n",
      "2         750002\n",
      "3         750003\n",
      "4         750004\n",
      "           ...  \n",
      "249995    999995\n",
      "249996    999996\n",
      "249997    999997\n",
      "249998    999998\n",
      "249999    999999\n",
      "Name: id, Length: 250000, dtype: int64\n",
      "[0 0 0 ... 1 0 0]\n",
      "[7.37109222e-04 1.53430939e-01 2.01643968e-04 ... 5.00997961e-01\n",
      " 7.96675275e-04 1.01559468e-01]\n",
      "\n",
      "25480\n"
     ]
    }
   ],
   "source": [
    "classes = (predictions >= 0).astype(int)\n",
    "\n",
    "# Count positive predictions\n",
    "positive_count = (classes == 1).sum()\n",
    "\n",
    "output_classes = classes.astype(int).flatten()\n",
    "output_probabilities = probabilities.astype(float).flatten()\n",
    "\n",
    "# Get current date and time as a string, e.g., '2025-08-13_15-30-45'\n",
    "timestamp = datetime.now().strftime('%Y-%m-%d_%H-%M-%S')\n",
    "\n",
    "# Output index ids and classes to .csv file\n",
    "classes_df = pd.DataFrame({'id': id_column, 'class': output_classes})\n",
    "classes_filename = f'binary_bank_comp/results/pred_classes_{timestamp}.csv'\n",
    "classes_df.to_csv(classes_filename, index=False)\n",
    "\n",
    "# Output index ids and probabilities to .csv file\n",
    "probabilities_df = pd.DataFrame({'id': id_column, 'y': output_probabilities})\n",
    "probabilities_filename = f'binary_bank_comp/results/pred_probs_{timestamp}.csv'\n",
    "probabilities_df.to_csv(probabilities_filename, index=False)\n",
    "\n",
    "print(id_column)\n",
    "print(output_classes)\n",
    "print(output_probabilities)\n",
    "print()\n",
    "print(positive_count)"
   ]
  },
  {
   "cell_type": "markdown",
   "metadata": {},
   "source": [
    "# Model Evaluation - WIP"
   ]
  },
  {
   "cell_type": "markdown",
   "metadata": {},
   "source": [
    "## Determine confusion matrix"
   ]
  },
  {
   "cell_type": "code",
   "execution_count": null,
   "metadata": {},
   "outputs": [],
   "source": [
    "from sklearn.metrics import confusion_matrix\n",
    "import seaborn as sns\n",
    "import matplotlib.pyplot as plt\n",
    "\n",
    "y_pred = (classes > 0).float()\n",
    "cm = confusion_matrix(y_test, y_pred)\n",
    "\n",
    "plt.figure(figsize=(10, 7))\n",
    "sns.heatmap(cm, annot=True, fmt='d', cmap='Blues', xticklabels=['No', 'Yes'], yticklabels=['No', 'Yes'])\n",
    "plt.xlabel('Predicted')\n",
    "plt.ylabel('Actual')\n",
    "plt.title('Confusion Matrix')\n",
    "plt.show()"
   ]
  },
  {
   "cell_type": "code",
   "execution_count": null,
   "metadata": {},
   "outputs": [],
   "source": [
    "logits_val = sbs.predict(X_val)\n",
    "probabilities_val = sigmoid(logits_val).squeeze()\n",
    "threshold = 0.5"
   ]
  },
  {
   "cell_type": "code",
   "execution_count": null,
   "metadata": {},
   "outputs": [],
   "source": [
    "def probability_line(ax, y, probs, threshold, shift=0.0, annot=False, colors=None):\n",
    "    if colors is None:\n",
    "        colors = ['r', 'b']\n",
    "    ax.grid(False)\n",
    "    ax.set_ylim([-.1, .1])\n",
    "    ax.axes.get_yaxis().set_visible(False)\n",
    "    ax.plot([0, 1], [0, 0], linewidth=2, c='k', zorder=1)\n",
    "    ax.plot([0, 0], [-.1, .1], c='k', zorder=1)\n",
    "    ax.plot([1, 1], [-.1, .1], c='k', zorder=1)\n",
    "\n",
    "    tn = (y == 0) & (probs < threshold)\n",
    "    fn = (y == 0) & (probs >= threshold)\n",
    "    tp = (y == 1) & (probs >= threshold)\n",
    "    fp = (y == 1) & (probs < threshold)\n",
    "\n",
    "    ax.plot([threshold, threshold], [-.1, .1], c='k', zorder=1, linestyle='--')\n",
    "    ax.scatter(probs[tn], np.zeros(tn.sum()) + shift, c=colors[0], s=150, zorder=2, edgecolor=colors[0], linewidth=3)\n",
    "    ax.scatter(probs[fn], np.zeros(fn.sum()) + shift, c=colors[0], s=150, zorder=2, edgecolor=colors[1], linewidth=3)\n",
    "\n",
    "    ax.scatter(probs[tp], np.zeros(tp.sum()) - shift, c=colors[1], s=150, zorder=2, edgecolor=colors[1], linewidth=3)\n",
    "    ax.scatter(probs[fp], np.zeros(fp.sum()) - shift, c=colors[1], s=150, zorder=2, edgecolor=colors[0], linewidth=3)\n",
    "\n",
    "    ax.set_xlabel(r'$\\sigma(z) = P(y=1)$')\n",
    "    ax.set_title('Threshold = {}'.format(threshold))\n",
    "\n",
    "    if annot:\n",
    "        ax.annotate('TN', xy=(.20, .03), c='k', weight='bold', fontsize=20)\n",
    "        ax.annotate('FN', xy=(.20, -.08), c='k', weight='bold', fontsize=20)\n",
    "        ax.annotate('FP', xy=(.70, .03), c='k', weight='bold', fontsize=20)\n",
    "        ax.annotate('TP', xy=(.70, -.08), c='k', weight='bold', fontsize=20)\n",
    "    return ax\n",
    "\n",
    "def probability_contour(ax, model, device, X, y, threshold, cm=None, cm_bright=None):\n",
    "    if cm is None:\n",
    "        cm = plt.cm.RdBu\n",
    "    if cm_bright is None:\n",
    "        cm_bright = ListedColormap(['#FF0000', '#0000FF'])\n",
    "\n",
    "    h = .02  # step size in the mesh\n",
    "\n",
    "    x_min, x_max = -2.25, 2.25\n",
    "    y_min, y_max = -2.25, 2.25\n",
    "\n",
    "    xx, yy = np.meshgrid(np.arange(x_min, x_max, h),\n",
    "                         np.arange(y_min, y_max, h))\n",
    "\n",
    "    logits = model(torch.as_tensor(np.c_[xx.ravel(), yy.ravel()]).float().to(device))\n",
    "    logits = logits.detach().cpu().numpy().reshape(xx.shape)\n",
    "\n",
    "    yhat = sigmoid(logits)\n",
    "\n",
    "    ax.contour(xx, yy, yhat, levels=[threshold], cmap=\"Greys\", vmin=0, vmax=1)\n",
    "    contour = ax.contourf(xx, yy, yhat, 25, cmap=cm, alpha=.8, vmin=0, vmax=1)\n",
    "    # Plot the training points\n",
    "    ax.scatter(X[:, 0], X[:, 1], c=y, cmap=cm_bright, edgecolors='k')\n",
    "    # Plot the testing points\n",
    "    #ax.scatter(X_val[:, 0], X_val[:, 1], c=y_val, cmap=cm_bright, edgecolors='k', alpha=0.6)\n",
    "\n",
    "    ax.set_xlim(xx.min(), xx.max())\n",
    "    ax.set_ylim(yy.min(), yy.max())\n",
    "    ax.set_xlabel(r'$X_1$')\n",
    "    ax.set_ylabel(r'$X_2$')\n",
    "    ax.set_title(r'$\\sigma(z) = P(y=1)$')\n",
    "    ax.grid(False)\n",
    "\n",
    "    ax_c = plt.colorbar(contour)\n",
    "    ax_c.set_ticks([0, .25, .5, .75, 1])\n",
    "    return ax\n",
    "\n",
    "def figure9(x, y, model, device, probabilities, threshold, shift=0.0, annot=False, cm=None, cm_bright=None):\n",
    "    fig = plt.figure(figsize=(15, 5))\n",
    "    gs = fig.add_gridspec(3, 3)\n",
    "\n",
    "    ax = fig.add_subplot(gs[:, 0])\n",
    "    probability_contour(ax, model, device, x, y, threshold, cm, cm_bright)\n",
    "    \n",
    "    if cm_bright is None:\n",
    "        colors = ['r', 'b']\n",
    "    else:\n",
    "        colors = cm_bright.colors\n",
    "\n",
    "    ax = fig.add_subplot(gs[1, 1:])\n",
    "    probability_line(ax, y, probabilities, threshold, shift, annot, colors)\n",
    "\n",
    "    fig.tight_layout()\n",
    "    return fig\n",
    "\n",
    "fig = figure9(X_val, y_val, sbs.model, sbs.device, probabilities_val, threshold)"
   ]
  },
  {
   "cell_type": "code",
   "execution_count": null,
   "metadata": {},
   "outputs": [],
   "source": [
    "fig = figure10(y_val, probabilities_val, threshold, 0.04, False)"
   ]
  },
  {
   "cell_type": "markdown",
   "metadata": {},
   "source": [
    "### Confusion Matrix"
   ]
  },
  {
   "cell_type": "code",
   "execution_count": null,
   "metadata": {},
   "outputs": [],
   "source": [
    "fig = figure10(y_val, probabilities_val, threshold, 0.04, True)"
   ]
  },
  {
   "cell_type": "code",
   "execution_count": null,
   "metadata": {},
   "outputs": [],
   "source": [
    "cm_thresh50 = confusion_matrix(y_val, (probabilities_val >= .5))\n",
    "cm_thresh50"
   ]
  },
  {
   "cell_type": "markdown",
   "metadata": {},
   "source": [
    "#### True and False Positives and Negatives"
   ]
  },
  {
   "cell_type": "code",
   "execution_count": null,
   "metadata": {},
   "outputs": [],
   "source": [
    "def split_cm(cm):\n",
    "    # Actual negatives go in the top row, \n",
    "    # above the probability line\n",
    "    actual_negative = cm[0]\n",
    "    # Predicted negatives go in the first column\n",
    "    tn = actual_negative[0]\n",
    "    # Predicted positives go in the second column\n",
    "    fp = actual_negative[1]\n",
    "\n",
    "    # Actual positives go in the bottow row, \n",
    "    # below the probability line\n",
    "    actual_positive = cm[1]\n",
    "    # Predicted negatives go in the first column\n",
    "    fn = actual_positive[0]\n",
    "    # Predicted positives go in the second column\n",
    "    tp = actual_positive[1]\n",
    "    \n",
    "    return tn, fp, fn, tp"
   ]
  },
  {
   "cell_type": "markdown",
   "metadata": {},
   "source": [
    "### Metrics"
   ]
  },
  {
   "cell_type": "markdown",
   "metadata": {},
   "source": [
    "### True and False Positive Rates"
   ]
  },
  {
   "cell_type": "markdown",
   "metadata": {},
   "source": [
    "$$\n",
    "\\Large \\text{TPR} = \\frac{\\text{TP}}{\\text{TP + FN}} \\ \\ \\  \\text{FPR} = \\frac{\\text{FP}}{\\text{FP + TN}}\n",
    "$$"
   ]
  },
  {
   "cell_type": "code",
   "execution_count": null,
   "metadata": {},
   "outputs": [],
   "source": [
    "def tpr_fpr(cm):\n",
    "    tn, fp, fn, tp = split_cm(cm)\n",
    "    \n",
    "    tpr = tp / (tp + fn)\n",
    "    fpr = fp / (fp + tn)\n",
    "    \n",
    "    return tpr, fpr"
   ]
  },
  {
   "cell_type": "code",
   "execution_count": null,
   "metadata": {},
   "outputs": [],
   "source": [
    "tpr_fpr(cm_thresh50)"
   ]
  },
  {
   "cell_type": "markdown",
   "metadata": {},
   "source": [
    "### Precision and Recall"
   ]
  },
  {
   "cell_type": "markdown",
   "metadata": {},
   "source": [
    "$$\n",
    "\\Large \\text{Recall} = \\frac{\\text{TP}}{\\text{TP + FN}} \\ \\ \\  \\text{Precision} = \\frac{\\text{TP}}{\\text{TP + FP}}\n",
    "$$"
   ]
  },
  {
   "cell_type": "code",
   "execution_count": null,
   "metadata": {},
   "outputs": [],
   "source": [
    "def precision_recall(cm):\n",
    "    tn, fp, fn, tp = split_cm(cm)\n",
    "    \n",
    "    precision = tp / (tp + fp)\n",
    "    recall = tp / (tp + fn)\n",
    "    \n",
    "    return precision, recall"
   ]
  },
  {
   "cell_type": "code",
   "execution_count": null,
   "metadata": {},
   "outputs": [],
   "source": [
    "precision_recall(cm_thresh50)"
   ]
  },
  {
   "cell_type": "markdown",
   "metadata": {},
   "source": [
    "### Accuracy"
   ]
  },
  {
   "cell_type": "markdown",
   "metadata": {},
   "source": [
    "$$\n",
    "\\Large \\text{Accuracy} = \\frac{\\text{TP+TN}}{\\text{TP+TN+FP+FN}}\n",
    "$$"
   ]
  },
  {
   "cell_type": "markdown",
   "metadata": {},
   "source": [
    "## Trade-offs and Curves"
   ]
  },
  {
   "cell_type": "code",
   "execution_count": null,
   "metadata": {},
   "outputs": [],
   "source": [
    "fig = eval_curves_from_probs(y_val, probabilities_val, [.5], annot=True)"
   ]
  },
  {
   "cell_type": "markdown",
   "metadata": {},
   "source": [
    "### Low Threshold"
   ]
  },
  {
   "cell_type": "code",
   "execution_count": null,
   "metadata": {},
   "outputs": [],
   "source": [
    "fig = figure9(X_val, y_val, sbs.model, sbs.device, probabilities_val, threshold=0.3, shift=0.04, annot=True)"
   ]
  },
  {
   "cell_type": "code",
   "execution_count": null,
   "metadata": {},
   "outputs": [],
   "source": [
    "confusion_matrix(y_val, (probabilities_val >= 0.3))"
   ]
  },
  {
   "cell_type": "code",
   "execution_count": null,
   "metadata": {},
   "outputs": [],
   "source": [
    "fig = eval_curves_from_probs(y_val, probabilities_val, [.3, .5], annot=True)"
   ]
  },
  {
   "cell_type": "markdown",
   "metadata": {},
   "source": [
    "### High Threshold"
   ]
  },
  {
   "cell_type": "code",
   "execution_count": null,
   "metadata": {},
   "outputs": [],
   "source": [
    "fig = figure9(X_val, y_val, sbs.model, sbs.device, probabilities_val, threshold=0.7, shift=0.04, annot=True)"
   ]
  },
  {
   "cell_type": "code",
   "execution_count": null,
   "metadata": {},
   "outputs": [],
   "source": [
    "confusion_matrix(y_val, (probabilities_val >= 0.7))"
   ]
  },
  {
   "cell_type": "code",
   "execution_count": null,
   "metadata": {},
   "outputs": [],
   "source": [
    "fig = eval_curves_from_probs(y_val, probabilities_val, [.3, .5, .7], annot=True)"
   ]
  },
  {
   "cell_type": "markdown",
   "metadata": {},
   "source": [
    "### ROC and PR Curves"
   ]
  },
  {
   "cell_type": "code",
   "execution_count": null,
   "metadata": {},
   "outputs": [],
   "source": [
    "threshs = np.linspace(0.,1,11)"
   ]
  },
  {
   "cell_type": "code",
   "execution_count": null,
   "metadata": {},
   "outputs": [],
   "source": [
    "fig = figure17(y_val, probabilities_val, threshs)"
   ]
  },
  {
   "cell_type": "code",
   "execution_count": null,
   "metadata": {},
   "outputs": [],
   "source": [
    "fpr, tpr, thresholds1 = roc_curve(y_val, probabilities_val)\n",
    "prec, rec, thresholds2 = precision_recall_curve(y_val, probabilities_val)"
   ]
  },
  {
   "cell_type": "code",
   "execution_count": null,
   "metadata": {},
   "outputs": [],
   "source": [
    "fig = eval_curves(fpr, tpr, rec, prec, thresholds1, thresholds2, line=True)"
   ]
  },
  {
   "cell_type": "markdown",
   "metadata": {},
   "source": [
    "### The Precision Quirk"
   ]
  },
  {
   "cell_type": "code",
   "execution_count": null,
   "metadata": {},
   "outputs": [],
   "source": [
    "fig = figure19(y_val, probabilities_val)"
   ]
  },
  {
   "cell_type": "markdown",
   "metadata": {},
   "source": [
    "$$\n",
    "\\Large \\text{Precision}(\\text{thresh}=0.40)=\\frac{13}{13+2}=0.8666\n",
    "$$"
   ]
  },
  {
   "cell_type": "markdown",
   "metadata": {},
   "source": [
    "$$\n",
    "\\Large \\text{Precision}(\\text{thresh}=0.50)=\\frac{(13-1)}{(13-1)+2}=\\frac{12}{12+2}=0.8571\n",
    "$$"
   ]
  },
  {
   "cell_type": "markdown",
   "metadata": {},
   "source": [
    "$$\n",
    "\\Large \\text{Precision}(\\text{thresh}=0.57)=\\frac{12}{12+(2-1)}=\\frac{12}{12+1}=0.9230\n",
    "$$"
   ]
  },
  {
   "cell_type": "markdown",
   "metadata": {},
   "source": [
    "### Best and Worst Curves"
   ]
  },
  {
   "cell_type": "code",
   "execution_count": null,
   "metadata": {},
   "outputs": [],
   "source": [
    "# Best\n",
    "fig = figure20(y_val)"
   ]
  },
  {
   "cell_type": "code",
   "execution_count": null,
   "metadata": {},
   "outputs": [],
   "source": [
    "np.random.seed(39)\n",
    "random_probs = np.random.uniform(size=y_val.shape)"
   ]
  },
  {
   "cell_type": "code",
   "execution_count": null,
   "metadata": {},
   "outputs": [],
   "source": [
    "fpr_random, tpr_random, thresholds1_random = roc_curve(y_val, random_probs)\n",
    "prec_random, rec_random, thresholds2_random = precision_recall_curve(y_val, random_probs)"
   ]
  },
  {
   "cell_type": "code",
   "execution_count": null,
   "metadata": {},
   "outputs": [],
   "source": [
    "# Worst\n",
    "fig = figure21(y_val, random_probs)"
   ]
  },
  {
   "cell_type": "markdown",
   "metadata": {},
   "source": [
    "### Comparing Models"
   ]
  },
  {
   "cell_type": "code",
   "execution_count": null,
   "metadata": {},
   "outputs": [],
   "source": [
    "# Area under the curves of our model\n",
    "auroc = auc(fpr, tpr)\n",
    "aupr = auc(rec, prec)\n",
    "print(auroc, aupr)"
   ]
  },
  {
   "cell_type": "code",
   "execution_count": null,
   "metadata": {},
   "outputs": [],
   "source": [
    "# Area under the curves of the random model\n",
    "auroc_random = auc(fpr_random, tpr_random)\n",
    "aupr_random = auc(rec_random, prec_random)\n",
    "print(auroc_random, aupr_random)"
   ]
  },
  {
   "cell_type": "markdown",
   "metadata": {},
   "source": [
    "## Putting It All Together"
   ]
  },
  {
   "cell_type": "code",
   "execution_count": null,
   "metadata": {},
   "outputs": [],
   "source": [
    "torch.manual_seed(13)\n",
    "\n",
    "# Builds tensors from numpy arrays\n",
    "x_train_tensor = torch.as_tensor(X_train).float()\n",
    "y_train_tensor = torch.as_tensor(y_train.reshape(-1, 1)).float()\n",
    "\n",
    "x_val_tensor = torch.as_tensor(X_val).float()\n",
    "y_val_tensor = torch.as_tensor(y_val.reshape(-1, 1)).float()\n",
    "\n",
    "# Builds dataset containing ALL data points\n",
    "train_dataset = TensorDataset(x_train_tensor, y_train_tensor)\n",
    "val_dataset = TensorDataset(x_val_tensor, y_val_tensor)\n",
    "\n",
    "# Builds a loader of each set\n",
    "train_loader = DataLoader(\n",
    "    dataset=train_dataset, \n",
    "    batch_size=16, \n",
    "    shuffle=True\n",
    ")\n",
    "val_loader = DataLoader(dataset=val_dataset, batch_size=16)"
   ]
  },
  {
   "cell_type": "code",
   "execution_count": null,
   "metadata": {},
   "outputs": [],
   "source": [
    "# Sets learning rate - this is \"eta\" ~ the \"n\" like Greek letter\n",
    "lr = 0.1\n",
    "\n",
    "torch.manual_seed(42)\n",
    "model = nn.Sequential()\n",
    "model.add_module('linear', nn.Linear(2, 1))\n",
    "\n",
    "# Defines a SGD optimizer to update the parameters\n",
    "optimizer = optim.SGD(model.parameters(), lr=lr)\n",
    "\n",
    "# Defines a BCE loss function\n",
    "loss_fn = nn.BCEWithLogitsLoss()"
   ]
  },
  {
   "cell_type": "code",
   "execution_count": null,
   "metadata": {},
   "outputs": [],
   "source": [
    "n_epochs = 100\n",
    "\n",
    "sbs = StepByStep(model, loss_fn, optimizer)\n",
    "sbs.set_loaders(train_loader, val_loader)\n",
    "sbs.train(n_epochs)"
   ]
  },
  {
   "cell_type": "code",
   "execution_count": null,
   "metadata": {},
   "outputs": [],
   "source": [
    "print(model.state_dict())"
   ]
  },
  {
   "cell_type": "code",
   "execution_count": null,
   "metadata": {},
   "outputs": [],
   "source": [
    "logits_val = sbs.predict(X_val)\n",
    "probabilities_val = sigmoid(logits_val).squeeze()\n",
    "cm_thresh50 = confusion_matrix(y_val, (probabilities_val >= 0.5))\n",
    "cm_thresh50"
   ]
  },
  {
   "cell_type": "code",
   "execution_count": null,
   "metadata": {},
   "outputs": [],
   "source": []
  }
 ],
 "metadata": {
  "kernelspec": {
   "display_name": "Python 3 (ipykernel)",
   "language": "python",
   "name": "python3"
  },
  "language_info": {
   "codemirror_mode": {
    "name": "ipython",
    "version": 3
   },
   "file_extension": ".py",
   "mimetype": "text/x-python",
   "name": "python",
   "nbconvert_exporter": "python",
   "pygments_lexer": "ipython3",
   "version": "3.12.2"
  }
 },
 "nbformat": 4,
 "nbformat_minor": 4
}
