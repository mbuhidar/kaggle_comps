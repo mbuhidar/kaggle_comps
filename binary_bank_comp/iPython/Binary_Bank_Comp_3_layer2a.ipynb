{
 "cells": [
  {
   "cell_type": "markdown",
   "metadata": {},
   "source": [
    "Binary Bank Competition - Kaggle"
   ]
  },
  {
   "cell_type": "markdown",
   "metadata": {},
   "source": [
    "\n",
    "### Jupyter Notebook in VS Code\n",
    "\n",
    "From directory with virtual environment in it, use this terminal command to use Jupyter Notebook in VS Code:\n",
    "\n",
    "jupyter notebook --NotebookApp.allow_origin='*' --NotebookApp.ip='0.0.0.0'\n",
    "\n",
    "### Select Python Interpreter\n",
    "\n",
    "Open Command Palette as follows: Ctrl+Shift+P\n",
    "\n",
    "Then select from VS Code Command Palette: \"Python: Select Interpreter\" and choose the same Python interpreter that you used to install Jupyter.\n",
    "\n",
    "If server not shown, enter server manually as follows: \n",
    "http://localhost:8888\n",
    "\n",
    "Reminder:  pw: \"\""
   ]
  },
  {
   "cell_type": "code",
   "execution_count": 156,
   "metadata": {},
   "outputs": [],
   "source": [
    "from datetime import datetime\n",
    "\n",
    "import numpy as np\n",
    "import pandas as pd\n",
    "\n",
    "import torch\n",
    "import torch.optim as optim\n",
    "import torch.nn as nn\n",
    "import torch.functional as F\n",
    "from torch.utils.data import DataLoader, TensorDataset\n",
    "from torch.utils.tensorboard import SummaryWriter\n",
    "\n",
    "from sklearn.preprocessing import StandardScaler\n",
    "from sklearn.model_selection import train_test_split\n",
    "from sklearn.metrics import confusion_matrix, roc_curve, precision_recall_curve, auc\n",
    "\n",
    "import matplotlib.pyplot as plt\n",
    "from matplotlib.colors import ListedColormap\n",
    "\n",
    "from stepbystep_v0 import StepByStep"
   ]
  },
  {
   "cell_type": "markdown",
   "metadata": {},
   "source": [
    "# Binary Classification Problem based on Bank Customer Marketing Call Data"
   ]
  },
  {
   "cell_type": "markdown",
   "metadata": {},
   "source": [
    "# Model Training"
   ]
  },
  {
   "cell_type": "markdown",
   "metadata": {},
   "source": [
    "### Load Training Data"
   ]
  },
  {
   "cell_type": "code",
   "execution_count": 157,
   "metadata": {},
   "outputs": [
    {
     "name": "stdout",
     "output_type": "stream",
     "text": [
      "   id  age          job  marital  education default  balance housing loan  \\\n",
      "0   0   42   technician  married  secondary      no        7      no   no   \n",
      "1   1   38  blue-collar  married  secondary      no      514      no   no   \n",
      "2   2   36  blue-collar  married  secondary      no      602     yes   no   \n",
      "3   3   27      student   single  secondary      no       34     yes   no   \n",
      "4   4   26   technician  married  secondary      no      889     yes   no   \n",
      "\n",
      "    contact  day month  duration  campaign  pdays  previous poutcome  y  \n",
      "0  cellular   25   aug       117         3     -1         0  unknown  0  \n",
      "1   unknown   18   jun       185         1     -1         0  unknown  0  \n",
      "2   unknown   14   may       111         2     -1         0  unknown  0  \n",
      "3   unknown   28   may        10         2     -1         0  unknown  0  \n",
      "4  cellular    3   feb       902         1     -1         0  unknown  1  \n"
     ]
    }
   ],
   "source": [
    "# Import data from .csv files\n",
    "raw_train_data = pd.read_csv('binary_bank_comp/dataset/train.csv')\n",
    "\n",
    "# Display the first few rows of the dataset\n",
    "print(raw_train_data[:5])"
   ]
  },
  {
   "cell_type": "markdown",
   "metadata": {},
   "source": [
    "### Split the train dataset"
   ]
  },
  {
   "cell_type": "code",
   "execution_count": 158,
   "metadata": {},
   "outputs": [
    {
     "name": "stdout",
     "output_type": "stream",
     "text": [
      "Training set shape: (600000, 16) (600000,)\n",
      "Validation set shape: (150000, 16) (150000,)\n",
      "Training set preview:\n",
      "        age          job   marital  education default  balance housing loan  \\\n",
      "453635   28  blue-collar    single  secondary      no     5090     yes  yes   \n",
      "11651    51   technician   married   tertiary      no     1295      no   no   \n",
      "431999   57   management  divorced   tertiary      no        0      no   no   \n",
      "529211   48  blue-collar    single    primary      no     1323     yes   no   \n",
      "110925   38       admin.   married  secondary      no      659     yes   no   \n",
      "\n",
      "         contact  day month  duration  campaign  pdays  previous poutcome  \n",
      "453635   unknown   12   may      1297         2     -1         0  unknown  \n",
      "11651   cellular   27   aug       119         9     -1         0  unknown  \n",
      "431999  cellular   29   jan        87         1     -1         0  unknown  \n",
      "529211   unknown   15   may        83         5     -1         0  unknown  \n",
      "110925  cellular   28   jul       534         4     -1         0  unknown  \n",
      "453635    1\n",
      "11651     0\n",
      "431999    0\n",
      "529211    0\n",
      "110925    0\n",
      "Name: y, dtype: int64\n"
     ]
    }
   ],
   "source": [
    "# Remove id column\n",
    "raw_train_data.drop(columns=['id'], inplace=True)\n",
    "\n",
    "# Split the dataset into features and target variable\n",
    "X = raw_train_data.drop(columns=['y'])\n",
    "y = raw_train_data['y']\n",
    "\n",
    "# Split the dataset into training and validation sets\n",
    "from sklearn.model_selection import train_test_split\n",
    "X_train, X_val, y_train, y_val = train_test_split(X, y, test_size=0.2, random_state=42)\n",
    "\n",
    "# Print the shapes of the resulting datasets\n",
    "print(\"Training set shape:\", X_train.shape, y_train.shape)\n",
    "print(\"Validation set shape:\", X_val.shape, y_val.shape)\n",
    "\n",
    "# Print the first few rows of the training set\n",
    "print(\"Training set preview:\")\n",
    "print(X_train.head())\n",
    "print(y_train.head())"
   ]
  },
  {
   "cell_type": "markdown",
   "metadata": {},
   "source": [
    "### Data Cleaning"
   ]
  },
  {
   "cell_type": "code",
   "execution_count": 159,
   "metadata": {},
   "outputs": [
    {
     "name": "stdout",
     "output_type": "stream",
     "text": [
      "             age   balance       day  duration  campaign     pdays  previous  \\\n",
      "0      -1.278540  1.365772 -0.499343  3.820120 -0.211544 -0.302805 -0.222073   \n",
      "1       0.999811  0.031782  1.318267 -0.503479  2.365296 -0.302805 -0.222073   \n",
      "2       1.594163 -0.423427  1.560615 -0.620928 -0.579664 -0.302805 -0.222073   \n",
      "3       0.702634  0.041624 -0.135821 -0.635610  0.892816 -0.302805 -0.222073   \n",
      "4      -0.287953 -0.191780  1.439441  1.019690  0.524696 -0.302805 -0.222073   \n",
      "...          ...       ...       ...       ...       ...       ...       ...   \n",
      "599995 -0.981364 -0.220604  1.439441 -0.492468  0.524696  2.050922  1.266816   \n",
      "599996 -0.981364 -0.423427  1.439441 -0.617258  0.156576 -0.302805 -0.222073   \n",
      "599997 -1.080423  0.004716  0.954745 -0.764070 -0.579664 -0.302805 -0.222073   \n",
      "599998  0.306400 -0.257161  1.802963 -0.657631 -0.211544 -0.302805 -0.222073   \n",
      "599999  1.396045 -0.423427 -1.347561 -0.598907 -0.579664 -0.302805 -0.222073   \n",
      "\n",
      "        job_admin.  job_blue-collar  job_entrepreneur  ...  month_jun  \\\n",
      "0        -0.349208         1.844413         -0.155148  ...  -0.376988   \n",
      "1        -0.349208        -0.542178         -0.155148  ...  -0.376988   \n",
      "2        -0.349208        -0.542178         -0.155148  ...  -0.376988   \n",
      "3        -0.349208         1.844413         -0.155148  ...  -0.376988   \n",
      "4         2.863623        -0.542178         -0.155148  ...  -0.376988   \n",
      "...            ...              ...               ...  ...        ...   \n",
      "599995   -0.349208        -0.542178         -0.155148  ...  -0.376988   \n",
      "599996   -0.349208        -0.542178         -0.155148  ...  -0.376988   \n",
      "599997   -0.349208        -0.542178         -0.155148  ...  -0.376988   \n",
      "599998   -0.349208        -0.542178         -0.155148  ...  -0.376988   \n",
      "599999   -0.349208        -0.542178          6.445474  ...   2.652607   \n",
      "\n",
      "        month_mar  month_may  month_nov  month_oct  month_sep  \\\n",
      "0       -0.088051   1.510809  -0.310808  -0.111854   -0.09962   \n",
      "1       -0.088051  -0.661897  -0.310808  -0.111854   -0.09962   \n",
      "2       -0.088051  -0.661897  -0.310808  -0.111854   -0.09962   \n",
      "3       -0.088051   1.510809  -0.310808  -0.111854   -0.09962   \n",
      "4       -0.088051  -0.661897  -0.310808  -0.111854   -0.09962   \n",
      "...           ...        ...        ...        ...        ...   \n",
      "599995  -0.088051  -0.661897  -0.310808  -0.111854   -0.09962   \n",
      "599996  -0.088051  -0.661897  -0.310808  -0.111854   -0.09962   \n",
      "599997  -0.088051  -0.661897  -0.310808  -0.111854   -0.09962   \n",
      "599998  -0.088051  -0.661897  -0.310808  -0.111854   -0.09962   \n",
      "599999  -0.088051  -0.661897  -0.310808  -0.111854   -0.09962   \n",
      "\n",
      "        poutcome_failure  poutcome_other  poutcome_success  poutcome_unknown  \n",
      "0              -0.253034        -0.14176         -0.155119          0.339540  \n",
      "1              -0.253034        -0.14176         -0.155119          0.339540  \n",
      "2              -0.253034        -0.14176         -0.155119          0.339540  \n",
      "3              -0.253034        -0.14176         -0.155119          0.339540  \n",
      "4              -0.253034        -0.14176         -0.155119          0.339540  \n",
      "...                  ...             ...               ...               ...  \n",
      "599995          3.952045        -0.14176         -0.155119         -2.945163  \n",
      "599996         -0.253034        -0.14176         -0.155119          0.339540  \n",
      "599997         -0.253034        -0.14176         -0.155119          0.339540  \n",
      "599998         -0.253034        -0.14176         -0.155119          0.339540  \n",
      "599999         -0.253034        -0.14176         -0.155119          0.339540  \n",
      "\n",
      "[600000 rows x 51 columns]\n",
      "             age   balance       day  duration  campaign     pdays  previous  \\\n",
      "0       0.504517  0.026158  0.227701 -0.521831 -0.211544 -0.302805 -0.222073   \n",
      "1      -1.377599  0.455706 -0.378169  0.667342 -0.579664  1.068047  0.522372   \n",
      "2      -0.486070  0.052873  0.470049 -0.903541  0.524696 -0.302805 -0.222073   \n",
      "3       1.792280  0.109466 -1.589909 -0.679653 -0.211544 -0.302805 -0.222073   \n",
      "4      -0.188894  0.761171 -0.256995 -0.521831 -0.211544 -0.302805 -0.222073   \n",
      "...          ...       ...       ...       ...       ...       ...       ...   \n",
      "149995  1.098869 -0.104605 -1.347561  0.979317 -0.579664 -0.302805 -0.222073   \n",
      "149996  0.108282 -0.419209 -0.620517 -0.595236 -0.579664 -0.302805 -0.222073   \n",
      "149997  0.306400  0.904588 -0.135821 -0.918222 -0.579664 -0.302805 -0.222073   \n",
      "149998  0.108282 -0.224471 -1.468735 -0.477787 -0.579664 -0.302805 -0.222073   \n",
      "149999 -0.783246 -0.009345 -0.135821  0.340687 -0.211544  2.076787  1.266816   \n",
      "\n",
      "        job_admin.  job_blue-collar  job_entrepreneur  ...  month_jun  \\\n",
      "0        -0.349208        -0.542178         -0.155148  ...  -0.376988   \n",
      "1         2.863623        -0.542178         -0.155148  ...  -0.376988   \n",
      "2        -0.349208        -0.542178         -0.155148  ...   2.652607   \n",
      "3        -0.349208        -0.542178         -0.155148  ...  -0.376988   \n",
      "4        -0.349208        -0.542178         -0.155148  ...  -0.376988   \n",
      "...            ...              ...               ...  ...        ...   \n",
      "149995   -0.349208        -0.542178         -0.155148  ...   2.652607   \n",
      "149996   -0.349208        -0.542178         -0.155148  ...   2.652607   \n",
      "149997   -0.349208         1.844413         -0.155148  ...  -0.376988   \n",
      "149998   -0.349208        -0.542178         -0.155148  ...  -0.376988   \n",
      "149999   -0.349208        -0.542178         -0.155148  ...  -0.376988   \n",
      "\n",
      "        month_mar  month_may  month_nov  month_oct  month_sep  \\\n",
      "0       -0.088051  -0.661897  -0.310808  -0.111854   -0.09962   \n",
      "1       -0.088051  -0.661897  -0.310808  -0.111854   -0.09962   \n",
      "2       -0.088051  -0.661897  -0.310808  -0.111854   -0.09962   \n",
      "3       -0.088051  -0.661897  -0.310808  -0.111854   -0.09962   \n",
      "4       -0.088051  -0.661897  -0.310808  -0.111854   -0.09962   \n",
      "...           ...        ...        ...        ...        ...   \n",
      "149995  -0.088051  -0.661897  -0.310808  -0.111854   -0.09962   \n",
      "149996  -0.088051  -0.661897  -0.310808  -0.111854   -0.09962   \n",
      "149997  -0.088051   1.510809  -0.310808  -0.111854   -0.09962   \n",
      "149998  -0.088051  -0.661897  -0.310808  -0.111854   -0.09962   \n",
      "149999  -0.088051  -0.661897  -0.310808   8.940245   -0.09962   \n",
      "\n",
      "        poutcome_failure  poutcome_other  poutcome_success  poutcome_unknown  \n",
      "0              -0.253034        -0.14176         -0.155119          0.339540  \n",
      "1              -0.253034        -0.14176          6.446645         -2.945163  \n",
      "2              -0.253034        -0.14176         -0.155119          0.339540  \n",
      "3              -0.253034        -0.14176         -0.155119          0.339540  \n",
      "4              -0.253034        -0.14176         -0.155119          0.339540  \n",
      "...                  ...             ...               ...               ...  \n",
      "149995         -0.253034        -0.14176         -0.155119          0.339540  \n",
      "149996         -0.253034        -0.14176         -0.155119          0.339540  \n",
      "149997         -0.253034        -0.14176         -0.155119          0.339540  \n",
      "149998         -0.253034        -0.14176         -0.155119          0.339540  \n",
      "149999          3.952045        -0.14176         -0.155119         -2.945163  \n",
      "\n",
      "[150000 rows x 51 columns]\n"
     ]
    }
   ],
   "source": [
    "# Clean the dataset\n",
    "\n",
    "# Identify numerical columns (excluding the target and any non-feature columns)\n",
    "X_train_numerical_cols = X_train.select_dtypes(include=['int64', 'float64'])\n",
    "X_val_numerical_cols = X_val.select_dtypes(include=['int64', 'float64'])\n",
    "\n",
    "# Identify categorical columns\n",
    "X_train_categorical_cols = X_train.select_dtypes(include=['object', 'category'])\n",
    "X_val_categorical_cols = X_val.select_dtypes(include=['object', 'category'])\n",
    "\n",
    "# Convert categorical features to numerical using one-hot encoding using 1s and 0s\n",
    "X_train_categorical_encoded = pd.get_dummies(X_train_categorical_cols, drop_first=False).astype(int)\n",
    "X_val_categorical_encoded = pd.get_dummies(X_val_categorical_cols, drop_first=False).astype(int)\n",
    "\n",
    "# Combine the numerical and categorical features\n",
    "X_train_combined = pd.concat([X_train_numerical_cols, X_train_categorical_encoded], axis=1)\n",
    "X_val_combined = pd.concat([X_val_numerical_cols, X_val_categorical_encoded], axis=1)\n",
    "\n",
    "# Numeric Feature Standardization\n",
    "sc = StandardScaler()\n",
    "X_train_scaled = sc.fit_transform(X_train_combined)\n",
    "X_val_scaled = sc.transform(X_val_combined)\n",
    "\n",
    "# Convert the scaled arrays back to DataFrames for easier handling\n",
    "X_train = pd.DataFrame(X_train_scaled, columns=X_train_combined.columns)\n",
    "X_val = pd.DataFrame(X_val_scaled, columns=X_val_combined.columns)\n",
    "\n",
    "# Show the cleaned dataset\n",
    "print(X_train)\n",
    "print(X_val)"
   ]
  },
  {
   "cell_type": "markdown",
   "metadata": {},
   "source": [
    "### Data Preparation"
   ]
  },
  {
   "cell_type": "code",
   "execution_count": 160,
   "metadata": {},
   "outputs": [],
   "source": [
    "torch.manual_seed(13)\n",
    "\n",
    "# Convert pandas DataFrames to Numpy arrays\n",
    "X_train = X_train.to_numpy()\n",
    "y_train = y_train.to_numpy()\n",
    "X_val = X_val.to_numpy()\n",
    "y_val = y_val.to_numpy()\n",
    "\n",
    "# Builds tensors from numpy arrays\n",
    "x_train_tensor = torch.as_tensor(X_train).float()\n",
    "x_val_tensor = torch.as_tensor(X_val).float()\n",
    "# Reshapes y_train and y_val to be column vectors\n",
    "y_train_tensor = torch.as_tensor(y_train.reshape(-1, 1)).float()\n",
    "y_val_tensor = torch.as_tensor(y_val.reshape(-1, 1)).float()\n",
    "\n",
    "# Builds dataset containing ALL data points\n",
    "train_dataset = TensorDataset(x_train_tensor, y_train_tensor)\n",
    "val_dataset = TensorDataset(x_val_tensor, y_val_tensor)\n",
    "\n",
    "# Builds a loader of each set\n",
    "batch_size = 100\n",
    "train_loader = DataLoader(dataset=train_dataset, batch_size=batch_size, shuffle=True)\n",
    "val_loader = DataLoader(dataset=val_dataset, batch_size=batch_size)\n"
   ]
  },
  {
   "cell_type": "markdown",
   "metadata": {},
   "source": [
    "## Model"
   ]
  },
  {
   "cell_type": "markdown",
   "metadata": {},
   "source": [
    "$$\n",
    "\\Large\n",
    "y = b + w_1x_1 + w_2x_2 + ... + w_nx_n + \\epsilon\n",
    "$$"
   ]
  },
  {
   "cell_type": "markdown",
   "metadata": {},
   "source": [
    "$$\n",
    "\\Large \n",
    "y =\n",
    "\\begin{cases}\n",
    "1,\\ \\text{if }b + w_1x_1 + w_2x_2 + ... + w_nx_n \\ge 0\n",
    "\\\\\n",
    "0,\\ \\text{if }b + w_1x_1 + w_2x_2 + ... + w_nx_n < 0\n",
    "\\end{cases}\n",
    "$$"
   ]
  },
  {
   "cell_type": "markdown",
   "metadata": {},
   "source": [
    "### Logits"
   ]
  },
  {
   "cell_type": "markdown",
   "metadata": {},
   "source": [
    "$$\n",
    "\\Large\n",
    "z = b + w_1x_1 + w_2x_2 + ... + w_nx_n\n",
    "$$"
   ]
  },
  {
   "cell_type": "markdown",
   "metadata": {},
   "source": [
    "### Probabilities"
   ]
  },
  {
   "cell_type": "markdown",
   "metadata": {},
   "source": [
    "$$\n",
    "\\Large\n",
    "\\begin{aligned}\n",
    "& \\text{P}(y=1) \\approx 1.0, & \\text{if } &z \\gg 0\n",
    "\\\\\n",
    "& \\text{P}(y=1) = 0.5, & \\text{if } &z = 0\n",
    "\\\\\n",
    "& \\text{P}(y=1) \\approx 0.0, & \\text{if } &z \\ll 0\n",
    "\\end{aligned}\n",
    "$$"
   ]
  },
  {
   "cell_type": "markdown",
   "metadata": {},
   "source": [
    "### From Logits to Probabilities"
   ]
  },
  {
   "cell_type": "markdown",
   "metadata": {},
   "source": [
    "$$\n",
    "\\Large\n",
    "\\begin{aligned}\n",
    "b + w_1x_1 + w_2x_2 + ... + w_nx_n = &\\ z = \\text{log}\\left(\\frac{p}{1-p}\\right) \\nonumber\n",
    "\\\\\n",
    "e^{b + w_1x_1 + w_2x_2 + ... + w_nx_n} = &\\ e^z = \\frac{p}{1-p} \\nonumber\n",
    "\\end{aligned}\n",
    "$$"
   ]
  },
  {
   "cell_type": "markdown",
   "metadata": {},
   "source": [
    "$$\n",
    "\\Large\n",
    "\\begin{aligned}\n",
    "\\frac{1}{e^z}& = \\frac{1-p}{p}\n",
    "\\\\\n",
    "e^{-z}& = \\frac{1}{p} - 1\n",
    "\\\\\n",
    "1 + e^{-z}& = \\frac{1}{p}&\n",
    "\\\\\n",
    "p& = \\frac{1}{1 + e^{-z}}\n",
    "\\end{aligned}\n",
    "$$"
   ]
  },
  {
   "cell_type": "markdown",
   "metadata": {},
   "source": [
    "$$\n",
    "\\Large\n",
    "p = \\sigma(z) = \\frac{1}{1+e^{-z}}\n",
    "$$"
   ]
  },
  {
   "cell_type": "markdown",
   "metadata": {},
   "source": [
    "### Logistic Regression"
   ]
  },
  {
   "cell_type": "markdown",
   "metadata": {},
   "source": [
    "$$\n",
    "\\Large\n",
    "\\text{P}(y=1) = \\sigma(z) = \\sigma(b+w_1x_1+w_2x_2 + ... + w_nx_n) = \\frac{1}{1+e^{-(b+w_1x_1+w_2x_2 + ... + w_nx_n)}}      \n",
    "$$"
   ]
  },
  {
   "cell_type": "markdown",
   "metadata": {},
   "source": [
    "### A Note on Notation (for reference)"
   ]
  },
  {
   "cell_type": "markdown",
   "metadata": {},
   "source": [
    "$$\n",
    "\\Large W =\n",
    "\\underset{(3 \\times 1)}{\n",
    "\\begin{bmatrix}\n",
    "b \\\\\n",
    "w_1 \\\\\n",
    "w_2\n",
    "\\end{bmatrix}};\n",
    "X = \n",
    "\\underset{(3 \\times 1)}{\n",
    "\\begin{bmatrix}\n",
    "1 \\\\\n",
    "x_1 \\\\\n",
    "x_2\n",
    "\\end{bmatrix}}\n",
    "$$"
   ]
  },
  {
   "cell_type": "markdown",
   "metadata": {},
   "source": [
    "$$\n",
    "\\Large \n",
    "\\begin{aligned}\n",
    "z\n",
    "& = W^T X\n",
    "=\n",
    "\\underset{(1 \\times 3)}{\n",
    "\\begin{bmatrix}\n",
    "- & w^{T} & -\\\\\n",
    "\\end{bmatrix}}\n",
    "\\underset{(3 \\times 1)}{\n",
    "\\begin{bmatrix}\n",
    "1 \\\\\n",
    "x_1 \\\\\n",
    "x_2\n",
    "\\end{bmatrix}}\n",
    "= \\underset{(1 \\times 3)}{\n",
    "\\begin{bmatrix}\n",
    "b & w_1 & w_2\n",
    "\\end{bmatrix}}\n",
    "\\underset{(3 \\times 1)}{\n",
    "\\begin{bmatrix}\n",
    "1 \\\\\n",
    "x_1 \\\\\n",
    "x_2\n",
    "\\end{bmatrix}}\\\\\n",
    "& = b + w_1x_1 + w_2x_2\n",
    "\\end{aligned}\n",
    "$$"
   ]
  },
  {
   "cell_type": "markdown",
   "metadata": {},
   "source": [
    "## Loss"
   ]
  },
  {
   "cell_type": "markdown",
   "metadata": {},
   "source": [
    "$$\n",
    "\\Large y_i = 1 \\Rightarrow \\text{error}_i=\\text{log}(\\text{P}(y_i=1))\n",
    "$$"
   ]
  },
  {
   "cell_type": "markdown",
   "metadata": {},
   "source": [
    "$$\n",
    "\\Large \\text{P}(y_i=0)=1-\\text{P}(y_i=1)\n",
    "$$"
   ]
  },
  {
   "cell_type": "markdown",
   "metadata": {},
   "source": [
    "$$\n",
    "\\Large y_i = 0 \\Rightarrow \\text{error}_i=\\text{log}(1-\\text{P}(y_i=1))\n",
    "$$"
   ]
  },
  {
   "cell_type": "markdown",
   "metadata": {},
   "source": [
    "$$\n",
    "\\Large\n",
    "\\text{BCE}(y)={-\\frac{1}{(N_{\\text{pos}}+N_{\\text{neg}})}\\Bigg[{\\sum_{i=1}^{N_{\\text{pos}}}{\\text{log}(\\text{P}(y_i=1))} + \\sum_{i=1}^{N_{\\text{neg}}}{\\text{log}(1 - \\text{P}(y_i=1))}}\\Bigg]}\n",
    "$$"
   ]
  },
  {
   "cell_type": "markdown",
   "metadata": {},
   "source": [
    "$$\n",
    "\\Large\n",
    "\\text{BCE}(y)={-\\frac{1}{N}\\sum_{i=1}^{N}{\\left[y_i \\text{log}(\\text{P}(y_i=1)) + (1-y_i) \\text{log}(1-\\text{P}(y_i=1))\\right]}}\n",
    "$$"
   ]
  },
  {
   "cell_type": "markdown",
   "metadata": {},
   "source": [
    "### Model Configuration"
   ]
  },
  {
   "cell_type": "code",
   "execution_count": null,
   "metadata": {},
   "outputs": [
    {
     "name": "stdout",
     "output_type": "stream",
     "text": [
      "Number of features: 51\n"
     ]
    }
   ],
   "source": [
    "# Sets learning rate - \"eta\" ~ the \"n\" like Greek letter\n",
    "lr = 0.001\n",
    "\n",
    "torch.manual_seed(42)\n",
    "feature_cnt = X_train.shape[1]\n",
    "print(\"Number of features:\", feature_cnt)\n",
    "model = nn.Sequential()\n",
    "model.add_module('linear0', nn.Linear(feature_cnt, 50))\n",
    "model.add_module('activation0', nn.LeakyReLU())\n",
    "model.add_module('linear2', nn.Linear(50, 10))\n",
    "model.add_module('activation2', nn.LeakyReLU())\n",
    "model.add_module('output', nn.Linear(10, 1))\n",
    "\n",
    "# Defines a SGD optimizer to update the parameters\n",
    "# optimizer = optim.SGD(model.parameters(), lr=lr)\n",
    "\n",
    "# Defines an Adam optimizer to update the parameters\n",
    "optimizer = optim.Adam(model.parameters(), lr=lr)\n",
    "\n",
    "# Defines a BCE loss function\n",
    "loss_fn = nn.BCEWithLogitsLoss()"
   ]
  },
  {
   "cell_type": "markdown",
   "metadata": {},
   "source": [
    "### Model Definition"
   ]
  },
  {
   "cell_type": "code",
   "execution_count": 143,
   "metadata": {},
   "outputs": [],
   "source": [
    "sbs = StepByStep(model=model, loss_fn=loss_fn, optimizer=optimizer)"
   ]
  },
  {
   "cell_type": "markdown",
   "metadata": {},
   "source": [
    "### Model Training"
   ]
  },
  {
   "cell_type": "code",
   "execution_count": 144,
   "metadata": {},
   "outputs": [],
   "source": [
    "n_epochs = 1000\n",
    "\n",
    "sbs.set_loaders(train_loader, val_loader)\n",
    "sbs.set_tensorboard('run', folder='binary_bank_comp/runs')\n",
    "sbs.train(n_epochs)"
   ]
  },
  {
   "cell_type": "code",
   "execution_count": 145,
   "metadata": {},
   "outputs": [
    {
     "data": {
      "image/png": "[encoded data removed]",
      "text/plain": [
       "<Figure size 1000x400 with 1 Axes>"
      ]
     },
     "metadata": {},
     "output_type": "display_data"
    }
   ],
   "source": [
    "fig = sbs.plot_losses()"
   ]
  },
  {
   "cell_type": "code",
   "execution_count": 146,
   "metadata": {},
   "outputs": [
    {
     "name": "stdout",
     "output_type": "stream",
     "text": [
      "OrderedDict({'linear0.weight': tensor([[ 0.0523,  0.0618,  0.0004,  ...,  0.0177,  0.0161, -0.1575],\n",
      "        [-0.0257, -0.1366,  0.1148,  ..., -0.1384, -0.0981,  0.0366],\n",
      "        [-0.0446, -0.1470, -0.0028,  ...,  0.0014, -0.0655,  0.0188],\n",
      "        ...,\n",
      "        [-0.0229, -0.1343,  0.0802,  ..., -0.1039,  0.0273,  0.1348],\n",
      "        [-0.0209, -0.0095,  0.0287,  ...,  0.0445,  0.0051,  0.1233],\n",
      "        [-0.0008,  0.1295, -0.0586,  ..., -0.0362, -0.1506,  0.1007]],\n",
      "       device='cuda:0'), 'linear0.bias': tensor([ 0.1837, -0.0259,  0.2829, -0.0208,  0.0665, -0.0897, -0.0142,  0.0939,\n",
      "         0.0890,  0.0226, -0.0372,  0.1292,  0.1067,  0.0570, -0.0981,  0.0817,\n",
      "         0.0174,  0.1570,  0.0794,  0.0404,  0.0600,  0.1403,  0.1224,  0.1709,\n",
      "         0.1008, -0.1144,  0.0323, -0.1014, -0.0803,  0.0594,  0.0625, -0.0003,\n",
      "         0.1014, -0.0534, -0.0916,  0.0064,  0.1314, -0.0035,  0.1253, -0.0677,\n",
      "        -0.0311,  0.0197,  0.1482,  0.1407,  0.2411,  0.0315,  0.1836,  0.2267,\n",
      "         0.1496,  0.0373], device='cuda:0'), 'linear2.weight': tensor([[-0.1616, -0.0652,  0.1321,  0.0805,  0.0018,  0.1155,  0.0281,  0.0489,\n",
      "          0.0366, -0.0166,  0.1657,  0.0457,  0.1067, -0.1258, -0.0449,  0.0737,\n",
      "          0.0940,  0.0921,  0.0589, -0.1167,  0.0554, -0.0628, -0.0460,  0.0343,\n",
      "         -0.1385,  0.1437, -0.1094,  0.0530,  0.0803, -0.0745,  0.0973, -0.0227,\n",
      "          0.0831,  0.1479, -0.0578,  0.0021,  0.1702, -0.0279,  0.0343,  0.0898,\n",
      "         -0.0373, -0.0133,  0.0677,  0.1085, -0.0141,  0.0573, -0.0522, -0.0045,\n",
      "          0.1186,  0.0036],\n",
      "        [-0.0722,  0.0098,  0.0338, -0.0883, -0.0958, -0.1370,  0.0358, -0.0923,\n",
      "          0.0103, -0.0323, -0.0926, -0.0460, -0.1089, -0.0751, -0.0048, -0.1211,\n",
      "         -0.1241,  0.1052,  0.0132, -0.0628, -0.0045,  0.1036, -0.1181, -0.0753,\n",
      "         -0.1025, -0.0111, -0.0047, -0.1102,  0.0978, -0.1087,  0.1313, -0.0976,\n",
      "         -0.0200,  0.0263, -0.0633,  0.1296, -0.0977, -0.0081, -0.1042,  0.0391,\n",
      "          0.1199,  0.1308,  0.0170, -0.0709,  0.1364,  0.0103,  0.0948, -0.0744,\n",
      "         -0.0658, -0.1177],\n",
      "        [ 0.0888,  0.0198, -0.0616, -0.0151, -0.0369,  0.0058,  0.0456, -0.0462,\n",
      "          0.0324, -0.0796,  0.0422, -0.1273,  0.0308,  0.1246,  0.1371,  0.0806,\n",
      "          0.0855,  0.1535,  0.0565,  0.0612,  0.0422,  0.1408,  0.1588, -0.0672,\n",
      "         -0.0365, -0.0660,  0.0110, -0.1317,  0.0530, -0.0198,  0.0567,  0.0322,\n",
      "         -0.0732,  0.0805,  0.0520, -0.0947,  0.1669,  0.0763,  0.1071, -0.0236,\n",
      "          0.0700, -0.0923, -0.0756,  0.0966,  0.0966,  0.0586, -0.1128,  0.1512,\n",
      "         -0.0424,  0.1400],\n",
      "        [ 0.2153,  0.0578,  0.0977,  0.1397,  0.0646, -0.0384,  0.1395,  0.0185,\n",
      "          0.0729, -0.0315,  0.0956,  0.1201, -0.1031,  0.1395, -0.0974, -0.1163,\n",
      "         -0.1055,  0.0222, -0.1112, -0.0659, -0.0794,  0.0307, -0.1547, -0.0765,\n",
      "          0.0547,  0.0034,  0.0169,  0.0506, -0.0901, -0.1300, -0.0231, -0.0674,\n",
      "          0.1247, -0.0988,  0.0012,  0.0316, -0.1307,  0.1779, -0.0845, -0.0142,\n",
      "         -0.1030, -0.0274,  0.0034, -0.1469,  0.0194,  0.0018,  0.1184,  0.0654,\n",
      "          0.1149,  0.0365],\n",
      "        [ 0.0121,  0.1212,  0.3278, -0.1356,  0.0912, -0.1453,  0.0126,  0.0567,\n",
      "          0.1953,  0.0323,  0.0616, -0.0383, -0.0867,  0.0102, -0.0650,  0.0606,\n",
      "          0.0470, -0.0357,  0.0024,  0.1663,  0.1647, -0.0166,  0.1902,  0.0858,\n",
      "         -0.2014,  0.0632, -0.0962, -0.0051,  0.1204, -0.0098,  0.1348, -0.0989,\n",
      "         -0.1340,  0.1140, -0.0822,  0.1554,  0.1837, -0.1862, -0.0209,  0.0139,\n",
      "          0.2019, -0.0621,  0.0203,  0.1723,  0.2180, -0.0692,  0.2732,  0.2251,\n",
      "          0.0860,  0.1697],\n",
      "        [-0.1342,  0.0407,  0.0630, -0.0238,  0.1261,  0.0595,  0.0533, -0.0236,\n",
      "         -0.0377,  0.0150,  0.0126, -0.0662,  0.1742,  0.0273, -0.0759,  0.1468,\n",
      "          0.0547, -0.0337,  0.1098, -0.0519,  0.1239,  0.1852,  0.1862,  0.1060,\n",
      "         -0.0878,  0.0641,  0.0024,  0.0396, -0.0344,  0.0730, -0.0186, -0.0935,\n",
      "         -0.1132, -0.0955, -0.0847,  0.2348,  0.1048, -0.1643, -0.0069,  0.0114,\n",
      "          0.0027, -0.0507, -0.0805,  0.0305,  0.1395,  0.0288,  0.1749,  0.1938,\n",
      "          0.1570,  0.0471],\n",
      "        [-0.2496,  0.0016,  0.2169, -0.0357,  0.1990, -0.0758, -0.1039,  0.2364,\n",
      "          0.1880,  0.1329,  0.0352,  0.1411,  0.0489, -0.1396, -0.0280,  0.2854,\n",
      "         -0.1803,  0.1751,  0.1366,  0.1158,  0.2940,  0.1943,  0.3122,  0.1035,\n",
      "         -0.2495, -0.0333, -0.1934,  0.0924,  0.0792,  0.2386, -0.0023, -0.0321,\n",
      "         -0.0936,  0.1255, -0.1002,  0.1782,  0.3051, -0.1236,  0.1073, -0.1587,\n",
      "          0.0137,  0.0917, -0.2713,  0.2994,  0.3955,  0.0424,  0.1991,  0.3692,\n",
      "          0.1395,  0.2496],\n",
      "        [ 0.4091, -0.0390,  0.0266,  0.2457, -0.1429,  0.0990, -0.0252, -0.0783,\n",
      "         -0.0024,  0.0087, -0.0300, -0.0916,  0.1143,  0.2128, -0.0219, -0.1579,\n",
      "          0.0475, -0.1593, -0.1136, -0.0555,  0.0389, -0.1065, -0.0650, -0.0698,\n",
      "          0.0901, -0.0146,  0.2249, -0.0062,  0.1407,  0.0143,  0.1013,  0.1067,\n",
      "          0.1032,  0.0817, -0.0343,  0.0028,  0.0506,  0.1461, -0.0352, -0.0271,\n",
      "         -0.1578,  0.1081,  0.2529, -0.0802, -0.0257, -0.0860, -0.0906,  0.0486,\n",
      "         -0.1375, -0.0032],\n",
      "        [ 0.0607,  0.1094,  0.0845, -0.1491,  0.0362, -0.0476, -0.0423,  0.1301,\n",
      "         -0.0423, -0.0992, -0.1060,  0.0931,  0.0100,  0.1173,  0.0309, -0.1183,\n",
      "          0.0203,  0.1437,  0.0992,  0.0534, -0.0936, -0.0731,  0.1211, -0.0956,\n",
      "          0.0097, -0.0184,  0.0117,  0.0135, -0.1042, -0.0448,  0.1230,  0.0078,\n",
      "          0.0556, -0.0681,  0.1011, -0.0144, -0.0346, -0.0042, -0.0294, -0.0612,\n",
      "         -0.0090, -0.0152, -0.1030,  0.0651, -0.1233,  0.0933,  0.1585,  0.0508,\n",
      "         -0.0227, -0.1235],\n",
      "        [ 0.0368,  0.1066,  0.3095, -0.0378,  0.1665,  0.1386,  0.0309,  0.0411,\n",
      "         -0.0626,  0.0799,  0.1138,  0.2026, -0.0296,  0.0771, -0.0051,  0.0936,\n",
      "          0.0417, -0.0606,  0.1618,  0.1225,  0.0199,  0.1389,  0.1141,  0.0578,\n",
      "         -0.1182, -0.0831, -0.0997,  0.0878, -0.0233,  0.0161,  0.0587,  0.0259,\n",
      "         -0.0356, -0.0834, -0.0728,  0.1149,  0.1541,  0.0364,  0.1033,  0.0078,\n",
      "          0.1577, -0.0774, -0.0805,  0.2178,  0.2528,  0.0564,  0.0091,  0.2288,\n",
      "         -0.0619,  0.1478]], device='cuda:0'), 'linear2.bias': tensor([ 0.1039,  0.0438, -0.1070, -0.0365,  0.2754,  0.2538,  0.2078,  0.2827,\n",
      "        -0.0171,  0.1222], device='cuda:0'), 'output.weight': tensor([[-0.2740, -0.0065, -0.1168,  0.2915, -0.7724, -0.5279, -1.2304,  0.7306,\n",
      "         -0.0789, -0.6496]], device='cuda:0'), 'output.bias': tensor([-0.2667], device='cuda:0')})\n"
     ]
    }
   ],
   "source": [
    "print(model.state_dict())"
   ]
  },
  {
   "cell_type": "code",
   "execution_count": 147,
   "metadata": {},
   "outputs": [],
   "source": [
    "# Save model\n",
    "filename='binary_bank_comp/cp2a_adam_3layer_lr0001_1000.pth'\n",
    "sbs.save_checkpoint(filename=filename)"
   ]
  },
  {
   "cell_type": "markdown",
   "metadata": {},
   "source": [
    "## Inference"
   ]
  },
  {
   "cell_type": "markdown",
   "metadata": {},
   "source": [
    "### Load Test Data"
   ]
  },
  {
   "cell_type": "code",
   "execution_count": 148,
   "metadata": {},
   "outputs": [
    {
     "name": "stdout",
     "output_type": "stream",
     "text": [
      "       id  age            job  marital  education default  balance housing  \\\n",
      "0  750000   32    blue-collar  married  secondary      no     1397     yes   \n",
      "1  750001   44     management  married   tertiary      no       23     yes   \n",
      "2  750002   36  self-employed  married    primary      no       46     yes   \n",
      "3  750003   58    blue-collar  married  secondary      no    -1380     yes   \n",
      "4  750004   28     technician   single  secondary      no     1950     yes   \n",
      "\n",
      "  loan   contact  day month  duration  campaign  pdays  previous poutcome  \n",
      "0   no   unknown   21   may       224         1     -1         0  unknown  \n",
      "1   no  cellular    3   apr       586         2     -1         0  unknown  \n",
      "2  yes  cellular   13   may       111         2     -1         0  unknown  \n",
      "3  yes   unknown   29   may       125         1     -1         0  unknown  \n",
      "4   no  cellular   22   jul       181         1     -1         0  unknown  \n"
     ]
    }
   ],
   "source": [
    "# Import data from .csv file\n",
    "raw_test_data = pd.read_csv('binary_bank_comp/dataset/test.csv')\n",
    "\n",
    "# Display the first few rows of the dataset\n",
    "print(raw_test_data[:5])"
   ]
  },
  {
   "cell_type": "markdown",
   "metadata": {},
   "source": [
    "### Remove and save id column"
   ]
  },
  {
   "cell_type": "code",
   "execution_count": 149,
   "metadata": {},
   "outputs": [
    {
     "data": {
      "text/plain": [
       "0         750000\n",
       "1         750001\n",
       "2         750002\n",
       "3         750003\n",
       "4         750004\n",
       "           ...  \n",
       "249995    999995\n",
       "249996    999996\n",
       "249997    999997\n",
       "249998    999998\n",
       "249999    999999\n",
       "Name: id, Length: 250000, dtype: int64"
      ]
     },
     "execution_count": 149,
     "metadata": {},
     "output_type": "execute_result"
    }
   ],
   "source": [
    "# Remove and save id column\n",
    "id_column = raw_test_data['id']\n",
    "raw_test_data.drop(columns=['id'], inplace=True)\n",
    "id_column"
   ]
  },
  {
   "cell_type": "markdown",
   "metadata": {},
   "source": [
    "### Clean Test Data"
   ]
  },
  {
   "cell_type": "code",
   "execution_count": 150,
   "metadata": {},
   "outputs": [
    {
     "name": "stdout",
     "output_type": "stream",
     "text": [
      "             age   balance       day  duration  campaign     pdays  previous  \\\n",
      "0      -0.882305  0.067636  0.591223 -0.118099 -0.579664 -0.302805 -0.222073   \n",
      "1       0.306400 -0.415342 -1.589909  1.210545 -0.211544 -0.302805 -0.222073   \n",
      "2      -0.486070 -0.407257 -0.378169 -0.532842 -0.211544 -0.302805 -0.222073   \n",
      "3       1.693222 -0.908514  1.560615 -0.481458 -0.579664 -0.302805 -0.222073   \n",
      "4      -1.278540  0.262023  0.712397 -0.275921 -0.579664 -0.302805 -0.222073   \n",
      "...          ...       ...       ...       ...       ...       ...       ...   \n",
      "249995  0.207341 -0.423427  0.227701 -0.701675 -0.211544 -0.302805 -0.222073   \n",
      "249996 -0.089835 -0.239937  0.348875  1.008679 -0.579664  2.154382  0.522372   \n",
      "249997  2.188515 -0.411827 -1.589909 -0.286932 -0.579664  0.899923  5.733484   \n",
      "249998  0.900752  0.500700  1.681789 -0.341987 -0.211544 -0.302805 -0.222073   \n",
      "249999 -1.179481 -0.169635 -1.226387 -0.503479 -0.579664 -0.302805 -0.222073   \n",
      "\n",
      "        job_admin.  job_blue-collar  job_entrepreneur  ...  month_jun  \\\n",
      "0        -0.349208         1.844413         -0.155148  ...  -0.376988   \n",
      "1        -0.349208        -0.542178         -0.155148  ...  -0.376988   \n",
      "2        -0.349208        -0.542178         -0.155148  ...  -0.376988   \n",
      "3        -0.349208         1.844413         -0.155148  ...  -0.376988   \n",
      "4        -0.349208        -0.542178         -0.155148  ...  -0.376988   \n",
      "...            ...              ...               ...  ...        ...   \n",
      "249995   -0.349208        -0.542178         -0.155148  ...  -0.376988   \n",
      "249996   -0.349208        -0.542178         -0.155148  ...  -0.376988   \n",
      "249997   -0.349208        -0.542178         -0.155148  ...  -0.376988   \n",
      "249998   -0.349208         1.844413         -0.155148  ...  -0.376988   \n",
      "249999   -0.349208        -0.542178         -0.155148  ...  -0.376988   \n",
      "\n",
      "        month_mar  month_may  month_nov  month_oct  month_sep  \\\n",
      "0       -0.088051   1.510809  -0.310808  -0.111854   -0.09962   \n",
      "1       -0.088051  -0.661897  -0.310808  -0.111854   -0.09962   \n",
      "2       -0.088051   1.510809  -0.310808  -0.111854   -0.09962   \n",
      "3       -0.088051   1.510809  -0.310808  -0.111854   -0.09962   \n",
      "4       -0.088051  -0.661897  -0.310808  -0.111854   -0.09962   \n",
      "...           ...        ...        ...        ...        ...   \n",
      "249995  -0.088051  -0.661897   3.217423  -0.111854   -0.09962   \n",
      "249996  -0.088051  -0.661897   3.217423  -0.111854   -0.09962   \n",
      "249997  -0.088051  -0.661897  -0.310808  -0.111854   -0.09962   \n",
      "249998  -0.088051   1.510809  -0.310808  -0.111854   -0.09962   \n",
      "249999  -0.088051  -0.661897  -0.310808  -0.111854   -0.09962   \n",
      "\n",
      "        poutcome_failure  poutcome_other  poutcome_success  poutcome_unknown  \n",
      "0              -0.253034        -0.14176         -0.155119          0.339540  \n",
      "1              -0.253034        -0.14176         -0.155119          0.339540  \n",
      "2              -0.253034        -0.14176         -0.155119          0.339540  \n",
      "3              -0.253034        -0.14176         -0.155119          0.339540  \n",
      "4              -0.253034        -0.14176         -0.155119          0.339540  \n",
      "...                  ...             ...               ...               ...  \n",
      "249995         -0.253034        -0.14176         -0.155119          0.339540  \n",
      "249996          3.952045        -0.14176         -0.155119         -2.945163  \n",
      "249997         -0.253034        -0.14176          6.446645         -2.945163  \n",
      "249998         -0.253034        -0.14176         -0.155119          0.339540  \n",
      "249999         -0.253034        -0.14176         -0.155119          0.339540  \n",
      "\n",
      "[250000 rows x 51 columns]\n"
     ]
    }
   ],
   "source": [
    "# Clean the test dataset\n",
    "\n",
    "# Identify numerical columns (excluding the target and any non-feature columns)\n",
    "X_test_numerical_cols = raw_test_data.select_dtypes(include=['int64', 'float64'])\n",
    "\n",
    "# Identify categorical columns\n",
    "X_test_categorical_cols = raw_test_data.select_dtypes(include=['object', 'category'])\n",
    "\n",
    "# Convert categorical features to numerical using one-hot encoding using 1s and 0s\n",
    "X_test_categorical_encoded = pd.get_dummies(X_test_categorical_cols, drop_first=False).astype(int)\n",
    "\n",
    "# Combine the numerical and categorical features\n",
    "X_test_combined = pd.concat([X_test_numerical_cols, X_test_categorical_encoded], axis=1)\n",
    "\n",
    "# Numeric Feature Standardization\n",
    "# Note: sc = StandardScaler() from training data preprocessing fit on X_train_combined\n",
    "X_test_scaled = sc.transform(X_test_combined)\n",
    "\n",
    "# Convert the scaled arrays back to DataFrames for easier handling\n",
    "X_test = pd.DataFrame(X_test_scaled, columns=X_test_combined.columns)\n",
    "\n",
    "# Show the cleaned dataset\n",
    "print(X_test)"
   ]
  },
  {
   "cell_type": "markdown",
   "metadata": {},
   "source": [
    "### Data Preparation"
   ]
  },
  {
   "cell_type": "code",
   "execution_count": 151,
   "metadata": {},
   "outputs": [],
   "source": [
    "torch.manual_seed(13) # Used for reproducibility of shuffle in DataLoader\n",
    "\n",
    "# Convert pandas DataFrames to Numpy arrays\n",
    "X_test = X_test.to_numpy()\n",
    "\n",
    "# Builds tensors from numpy arrays\n",
    "x_test_tensor = torch.as_tensor(X_test).float()\n",
    "\n",
    "# Builds dataset containing ALL data points\n",
    "test_dataset = TensorDataset(x_test_tensor)\n",
    "\n",
    "# Builds a loader of each set\n",
    "test_loader = DataLoader(dataset=test_dataset, batch_size=batch_size, shuffle=True)"
   ]
  },
  {
   "cell_type": "markdown",
   "metadata": {},
   "source": [
    "### Model Configuration - defined in training section"
   ]
  },
  {
   "cell_type": "markdown",
   "metadata": {},
   "source": [
    "### Model Definition - defined in training section"
   ]
  },
  {
   "cell_type": "markdown",
   "metadata": {},
   "source": [
    "### Load Trained Model"
   ]
  },
  {
   "cell_type": "code",
   "execution_count": 152,
   "metadata": {},
   "outputs": [],
   "source": [
    "# Load trained model using filename defined in training section\n",
    "# filename='binary_bank_comp/checkpoint_sgd_3layer_lr005_250.pth'\n",
    "sbs.load_checkpoint(filename=filename)"
   ]
  },
  {
   "cell_type": "markdown",
   "metadata": {},
   "source": [
    "### Making Predictions (Logits)"
   ]
  },
  {
   "cell_type": "code",
   "execution_count": 153,
   "metadata": {},
   "outputs": [
    {
     "data": {
      "text/plain": [
       "array([[-6.426208  ],\n",
       "       [-1.1061856 ],\n",
       "       [-6.387872  ],\n",
       "       ...,\n",
       "       [ 0.13177627],\n",
       "       [-6.6110344 ],\n",
       "       [-1.7407234 ]], shape=(250000, 1), dtype=float32)"
      ]
     },
     "execution_count": 153,
     "metadata": {},
     "output_type": "execute_result"
    }
   ],
   "source": [
    "predictions = sbs.predict(x_test_tensor)\n",
    "predictions"
   ]
  },
  {
   "cell_type": "markdown",
   "metadata": {},
   "source": [
    "#### Making Predictions (Probabilities)"
   ]
  },
  {
   "cell_type": "code",
   "execution_count": 154,
   "metadata": {},
   "outputs": [
    {
     "data": {
      "text/plain": [
       "array([[0.00161596],\n",
       "       [0.24858269],\n",
       "       [0.00167901],\n",
       "       ...,\n",
       "       [0.53289646],\n",
       "       [0.00134363],\n",
       "       [0.14922109]], shape=(250000, 1), dtype=float32)"
      ]
     },
     "execution_count": 154,
     "metadata": {},
     "output_type": "execute_result"
    }
   ],
   "source": [
    "# Convert predictions to probabilities using the sigmoid function\n",
    "def sigmoid(x):\n",
    "    return 1 / (1 + np.exp(-x))\n",
    "\n",
    "probabilities = sigmoid(predictions)  # Use torch's built-in sigmoid for numerical stabilit\n",
    "probabilities"
   ]
  },
  {
   "cell_type": "markdown",
   "metadata": {},
   "source": [
    "#### Making Predictions (Classes)"
   ]
  },
  {
   "cell_type": "markdown",
   "metadata": {},
   "source": [
    "$$\n",
    "\\Large y =\n",
    "\\begin{cases}\n",
    "1,\\ \\text{if P}(y=1) \\ge 0.5\n",
    "\\\\\n",
    "0,\\ \\text{if P}(y=1) < 0.5\n",
    "\\end{cases}\n",
    "$$"
   ]
  },
  {
   "cell_type": "markdown",
   "metadata": {},
   "source": [
    "$$\n",
    "\\Large y =\n",
    "\\begin{cases}\n",
    "1,\\ \\text{if } \\sigma(z) \\ge 0.5\n",
    "\\\\\n",
    "0,\\ \\text{if } \\sigma(z) < 0.5\n",
    "\\end{cases}\n",
    "$$"
   ]
  },
  {
   "cell_type": "markdown",
   "metadata": {},
   "source": [
    "$$\n",
    "\\Large y =\n",
    "\\begin{cases}\n",
    "1,\\ \\text{if } z \\ge 0\n",
    "\\\\\n",
    "0,\\ \\text{if } z < 0\n",
    "\\end{cases}\n",
    "$$"
   ]
  },
  {
   "cell_type": "code",
   "execution_count": 155,
   "metadata": {},
   "outputs": [
    {
     "name": "stdout",
     "output_type": "stream",
     "text": [
      "0         750000\n",
      "1         750001\n",
      "2         750002\n",
      "3         750003\n",
      "4         750004\n",
      "           ...  \n",
      "249995    999995\n",
      "249996    999996\n",
      "249997    999997\n",
      "249998    999998\n",
      "249999    999999\n",
      "Name: id, Length: 250000, dtype: int64\n",
      "[0 0 0 ... 1 0 0]\n",
      "[0.00161596 0.24858269 0.00167901 ... 0.53289646 0.00134363 0.14922109]\n",
      "\n",
      "27026\n"
     ]
    }
   ],
   "source": [
    "classes = (predictions >= 0).astype(int)\n",
    "\n",
    "# Count positive predictions\n",
    "positive_count = (classes == 1).sum()\n",
    "\n",
    "output_classes = classes.astype(int).flatten()\n",
    "output_probabilities = probabilities.astype(float).flatten()\n",
    "\n",
    "# Get current date and time as a string, e.g., '2025-08-13_15-30-45'\n",
    "timestamp = datetime.now().strftime('%Y-%m-%d_%H-%M-%S')\n",
    "\n",
    "# Output index ids and classes to .csv file\n",
    "classes_df = pd.DataFrame({'id': id_column, 'class': output_classes})\n",
    "classes_filename = f'binary_bank_comp/results/pred_classes_{timestamp}.csv'\n",
    "classes_df.to_csv(classes_filename, index=False)\n",
    "\n",
    "# Output index ids and probabilities to .csv file\n",
    "probabilities_df = pd.DataFrame({'id': id_column, 'y': output_probabilities})\n",
    "probabilities_filename = f'binary_bank_comp/results/pred_probs_{timestamp}.csv'\n",
    "probabilities_df.to_csv(probabilities_filename, index=False)\n",
    "\n",
    "print(id_column)\n",
    "print(output_classes)\n",
    "print(output_probabilities)\n",
    "print()\n",
    "print(positive_count)"
   ]
  },
  {
   "cell_type": "markdown",
   "metadata": {},
   "source": [
    "# Model Evaluation - WIP"
   ]
  },
  {
   "cell_type": "markdown",
   "metadata": {},
   "source": [
    "## Determine confusion matrix"
   ]
  },
  {
   "cell_type": "code",
   "execution_count": null,
   "metadata": {},
   "outputs": [],
   "source": [
    "from sklearn.metrics import confusion_matrix\n",
    "import seaborn as sns\n",
    "import matplotlib.pyplot as plt\n",
    "\n",
    "y_pred = (classes > 0).float()\n",
    "cm = confusion_matrix(y_test, y_pred)\n",
    "\n",
    "plt.figure(figsize=(10, 7))\n",
    "sns.heatmap(cm, annot=True, fmt='d', cmap='Blues', xticklabels=['No', 'Yes'], yticklabels=['No', 'Yes'])\n",
    "plt.xlabel('Predicted')\n",
    "plt.ylabel('Actual')\n",
    "plt.title('Confusion Matrix')\n",
    "plt.show()"
   ]
  },
  {
   "cell_type": "code",
   "execution_count": null,
   "metadata": {},
   "outputs": [],
   "source": [
    "logits_val = sbs.predict(X_val)\n",
    "probabilities_val = sigmoid(logits_val).squeeze()\n",
    "threshold = 0.5"
   ]
  },
  {
   "cell_type": "code",
   "execution_count": null,
   "metadata": {},
   "outputs": [],
   "source": [
    "def probability_line(ax, y, probs, threshold, shift=0.0, annot=False, colors=None):\n",
    "    if colors is None:\n",
    "        colors = ['r', 'b']\n",
    "    ax.grid(False)\n",
    "    ax.set_ylim([-.1, .1])\n",
    "    ax.axes.get_yaxis().set_visible(False)\n",
    "    ax.plot([0, 1], [0, 0], linewidth=2, c='k', zorder=1)\n",
    "    ax.plot([0, 0], [-.1, .1], c='k', zorder=1)\n",
    "    ax.plot([1, 1], [-.1, .1], c='k', zorder=1)\n",
    "\n",
    "    tn = (y == 0) & (probs < threshold)\n",
    "    fn = (y == 0) & (probs >= threshold)\n",
    "    tp = (y == 1) & (probs >= threshold)\n",
    "    fp = (y == 1) & (probs < threshold)\n",
    "\n",
    "    ax.plot([threshold, threshold], [-.1, .1], c='k', zorder=1, linestyle='--')\n",
    "    ax.scatter(probs[tn], np.zeros(tn.sum()) + shift, c=colors[0], s=150, zorder=2, edgecolor=colors[0], linewidth=3)\n",
    "    ax.scatter(probs[fn], np.zeros(fn.sum()) + shift, c=colors[0], s=150, zorder=2, edgecolor=colors[1], linewidth=3)\n",
    "\n",
    "    ax.scatter(probs[tp], np.zeros(tp.sum()) - shift, c=colors[1], s=150, zorder=2, edgecolor=colors[1], linewidth=3)\n",
    "    ax.scatter(probs[fp], np.zeros(fp.sum()) - shift, c=colors[1], s=150, zorder=2, edgecolor=colors[0], linewidth=3)\n",
    "\n",
    "    ax.set_xlabel(r'$\\sigma(z) = P(y=1)$')\n",
    "    ax.set_title('Threshold = {}'.format(threshold))\n",
    "\n",
    "    if annot:\n",
    "        ax.annotate('TN', xy=(.20, .03), c='k', weight='bold', fontsize=20)\n",
    "        ax.annotate('FN', xy=(.20, -.08), c='k', weight='bold', fontsize=20)\n",
    "        ax.annotate('FP', xy=(.70, .03), c='k', weight='bold', fontsize=20)\n",
    "        ax.annotate('TP', xy=(.70, -.08), c='k', weight='bold', fontsize=20)\n",
    "    return ax\n",
    "\n",
    "def probability_contour(ax, model, device, X, y, threshold, cm=None, cm_bright=None):\n",
    "    if cm is None:\n",
    "        cm = plt.cm.RdBu\n",
    "    if cm_bright is None:\n",
    "        cm_bright = ListedColormap(['#FF0000', '#0000FF'])\n",
    "\n",
    "    h = .02  # step size in the mesh\n",
    "\n",
    "    x_min, x_max = -2.25, 2.25\n",
    "    y_min, y_max = -2.25, 2.25\n",
    "\n",
    "    xx, yy = np.meshgrid(np.arange(x_min, x_max, h),\n",
    "                         np.arange(y_min, y_max, h))\n",
    "\n",
    "    logits = model(torch.as_tensor(np.c_[xx.ravel(), yy.ravel()]).float().to(device))\n",
    "    logits = logits.detach().cpu().numpy().reshape(xx.shape)\n",
    "\n",
    "    yhat = sigmoid(logits)\n",
    "\n",
    "    ax.contour(xx, yy, yhat, levels=[threshold], cmap=\"Greys\", vmin=0, vmax=1)\n",
    "    contour = ax.contourf(xx, yy, yhat, 25, cmap=cm, alpha=.8, vmin=0, vmax=1)\n",
    "    # Plot the training points\n",
    "    ax.scatter(X[:, 0], X[:, 1], c=y, cmap=cm_bright, edgecolors='k')\n",
    "    # Plot the testing points\n",
    "    #ax.scatter(X_val[:, 0], X_val[:, 1], c=y_val, cmap=cm_bright, edgecolors='k', alpha=0.6)\n",
    "\n",
    "    ax.set_xlim(xx.min(), xx.max())\n",
    "    ax.set_ylim(yy.min(), yy.max())\n",
    "    ax.set_xlabel(r'$X_1$')\n",
    "    ax.set_ylabel(r'$X_2$')\n",
    "    ax.set_title(r'$\\sigma(z) = P(y=1)$')\n",
    "    ax.grid(False)\n",
    "\n",
    "    ax_c = plt.colorbar(contour)\n",
    "    ax_c.set_ticks([0, .25, .5, .75, 1])\n",
    "    return ax\n",
    "\n",
    "def figure9(x, y, model, device, probabilities, threshold, shift=0.0, annot=False, cm=None, cm_bright=None):\n",
    "    fig = plt.figure(figsize=(15, 5))\n",
    "    gs = fig.add_gridspec(3, 3)\n",
    "\n",
    "    ax = fig.add_subplot(gs[:, 0])\n",
    "    probability_contour(ax, model, device, x, y, threshold, cm, cm_bright)\n",
    "    \n",
    "    if cm_bright is None:\n",
    "        colors = ['r', 'b']\n",
    "    else:\n",
    "        colors = cm_bright.colors\n",
    "\n",
    "    ax = fig.add_subplot(gs[1, 1:])\n",
    "    probability_line(ax, y, probabilities, threshold, shift, annot, colors)\n",
    "\n",
    "    fig.tight_layout()\n",
    "    return fig\n",
    "\n",
    "fig = figure9(X_val, y_val, sbs.model, sbs.device, probabilities_val, threshold)"
   ]
  },
  {
   "cell_type": "code",
   "execution_count": null,
   "metadata": {},
   "outputs": [],
   "source": [
    "fig = figure10(y_val, probabilities_val, threshold, 0.04, False)"
   ]
  },
  {
   "cell_type": "markdown",
   "metadata": {},
   "source": [
    "### Confusion Matrix"
   ]
  },
  {
   "cell_type": "code",
   "execution_count": null,
   "metadata": {},
   "outputs": [],
   "source": [
    "fig = figure10(y_val, probabilities_val, threshold, 0.04, True)"
   ]
  },
  {
   "cell_type": "code",
   "execution_count": null,
   "metadata": {},
   "outputs": [],
   "source": [
    "cm_thresh50 = confusion_matrix(y_val, (probabilities_val >= .5))\n",
    "cm_thresh50"
   ]
  },
  {
   "cell_type": "markdown",
   "metadata": {},
   "source": [
    "#### True and False Positives and Negatives"
   ]
  },
  {
   "cell_type": "code",
   "execution_count": null,
   "metadata": {},
   "outputs": [],
   "source": [
    "def split_cm(cm):\n",
    "    # Actual negatives go in the top row, \n",
    "    # above the probability line\n",
    "    actual_negative = cm[0]\n",
    "    # Predicted negatives go in the first column\n",
    "    tn = actual_negative[0]\n",
    "    # Predicted positives go in the second column\n",
    "    fp = actual_negative[1]\n",
    "\n",
    "    # Actual positives go in the bottow row, \n",
    "    # below the probability line\n",
    "    actual_positive = cm[1]\n",
    "    # Predicted negatives go in the first column\n",
    "    fn = actual_positive[0]\n",
    "    # Predicted positives go in the second column\n",
    "    tp = actual_positive[1]\n",
    "    \n",
    "    return tn, fp, fn, tp"
   ]
  },
  {
   "cell_type": "markdown",
   "metadata": {},
   "source": [
    "### Metrics"
   ]
  },
  {
   "cell_type": "markdown",
   "metadata": {},
   "source": [
    "### True and False Positive Rates"
   ]
  },
  {
   "cell_type": "markdown",
   "metadata": {},
   "source": [
    "$$\n",
    "\\Large \\text{TPR} = \\frac{\\text{TP}}{\\text{TP + FN}} \\ \\ \\  \\text{FPR} = \\frac{\\text{FP}}{\\text{FP + TN}}\n",
    "$$"
   ]
  },
  {
   "cell_type": "code",
   "execution_count": null,
   "metadata": {},
   "outputs": [],
   "source": [
    "def tpr_fpr(cm):\n",
    "    tn, fp, fn, tp = split_cm(cm)\n",
    "    \n",
    "    tpr = tp / (tp + fn)\n",
    "    fpr = fp / (fp + tn)\n",
    "    \n",
    "    return tpr, fpr"
   ]
  },
  {
   "cell_type": "code",
   "execution_count": null,
   "metadata": {},
   "outputs": [],
   "source": [
    "tpr_fpr(cm_thresh50)"
   ]
  },
  {
   "cell_type": "markdown",
   "metadata": {},
   "source": [
    "### Precision and Recall"
   ]
  },
  {
   "cell_type": "markdown",
   "metadata": {},
   "source": [
    "$$\n",
    "\\Large \\text{Recall} = \\frac{\\text{TP}}{\\text{TP + FN}} \\ \\ \\  \\text{Precision} = \\frac{\\text{TP}}{\\text{TP + FP}}\n",
    "$$"
   ]
  },
  {
   "cell_type": "code",
   "execution_count": null,
   "metadata": {},
   "outputs": [],
   "source": [
    "def precision_recall(cm):\n",
    "    tn, fp, fn, tp = split_cm(cm)\n",
    "    \n",
    "    precision = tp / (tp + fp)\n",
    "    recall = tp / (tp + fn)\n",
    "    \n",
    "    return precision, recall"
   ]
  },
  {
   "cell_type": "code",
   "execution_count": null,
   "metadata": {},
   "outputs": [],
   "source": [
    "precision_recall(cm_thresh50)"
   ]
  },
  {
   "cell_type": "markdown",
   "metadata": {},
   "source": [
    "### Accuracy"
   ]
  },
  {
   "cell_type": "markdown",
   "metadata": {},
   "source": [
    "$$\n",
    "\\Large \\text{Accuracy} = \\frac{\\text{TP+TN}}{\\text{TP+TN+FP+FN}}\n",
    "$$"
   ]
  },
  {
   "cell_type": "markdown",
   "metadata": {},
   "source": [
    "## Trade-offs and Curves"
   ]
  },
  {
   "cell_type": "code",
   "execution_count": null,
   "metadata": {},
   "outputs": [],
   "source": [
    "fig = eval_curves_from_probs(y_val, probabilities_val, [.5], annot=True)"
   ]
  },
  {
   "cell_type": "markdown",
   "metadata": {},
   "source": [
    "### Low Threshold"
   ]
  },
  {
   "cell_type": "code",
   "execution_count": null,
   "metadata": {},
   "outputs": [],
   "source": [
    "fig = figure9(X_val, y_val, sbs.model, sbs.device, probabilities_val, threshold=0.3, shift=0.04, annot=True)"
   ]
  },
  {
   "cell_type": "code",
   "execution_count": null,
   "metadata": {},
   "outputs": [],
   "source": [
    "confusion_matrix(y_val, (probabilities_val >= 0.3))"
   ]
  },
  {
   "cell_type": "code",
   "execution_count": null,
   "metadata": {},
   "outputs": [],
   "source": [
    "fig = eval_curves_from_probs(y_val, probabilities_val, [.3, .5], annot=True)"
   ]
  },
  {
   "cell_type": "markdown",
   "metadata": {},
   "source": [
    "### High Threshold"
   ]
  },
  {
   "cell_type": "code",
   "execution_count": null,
   "metadata": {},
   "outputs": [],
   "source": [
    "fig = figure9(X_val, y_val, sbs.model, sbs.device, probabilities_val, threshold=0.7, shift=0.04, annot=True)"
   ]
  },
  {
   "cell_type": "code",
   "execution_count": null,
   "metadata": {},
   "outputs": [],
   "source": [
    "confusion_matrix(y_val, (probabilities_val >= 0.7))"
   ]
  },
  {
   "cell_type": "code",
   "execution_count": null,
   "metadata": {},
   "outputs": [],
   "source": [
    "fig = eval_curves_from_probs(y_val, probabilities_val, [.3, .5, .7], annot=True)"
   ]
  },
  {
   "cell_type": "markdown",
   "metadata": {},
   "source": [
    "### ROC and PR Curves"
   ]
  },
  {
   "cell_type": "code",
   "execution_count": null,
   "metadata": {},
   "outputs": [],
   "source": [
    "threshs = np.linspace(0.,1,11)"
   ]
  },
  {
   "cell_type": "code",
   "execution_count": null,
   "metadata": {},
   "outputs": [],
   "source": [
    "fig = figure17(y_val, probabilities_val, threshs)"
   ]
  },
  {
   "cell_type": "code",
   "execution_count": null,
   "metadata": {},
   "outputs": [],
   "source": [
    "fpr, tpr, thresholds1 = roc_curve(y_val, probabilities_val)\n",
    "prec, rec, thresholds2 = precision_recall_curve(y_val, probabilities_val)"
   ]
  },
  {
   "cell_type": "code",
   "execution_count": null,
   "metadata": {},
   "outputs": [],
   "source": [
    "fig = eval_curves(fpr, tpr, rec, prec, thresholds1, thresholds2, line=True)"
   ]
  },
  {
   "cell_type": "markdown",
   "metadata": {},
   "source": [
    "### The Precision Quirk"
   ]
  },
  {
   "cell_type": "code",
   "execution_count": null,
   "metadata": {},
   "outputs": [],
   "source": [
    "fig = figure19(y_val, probabilities_val)"
   ]
  },
  {
   "cell_type": "markdown",
   "metadata": {},
   "source": [
    "$$\n",
    "\\Large \\text{Precision}(\\text{thresh}=0.40)=\\frac{13}{13+2}=0.8666\n",
    "$$"
   ]
  },
  {
   "cell_type": "markdown",
   "metadata": {},
   "source": [
    "$$\n",
    "\\Large \\text{Precision}(\\text{thresh}=0.50)=\\frac{(13-1)}{(13-1)+2}=\\frac{12}{12+2}=0.8571\n",
    "$$"
   ]
  },
  {
   "cell_type": "markdown",
   "metadata": {},
   "source": [
    "$$\n",
    "\\Large \\text{Precision}(\\text{thresh}=0.57)=\\frac{12}{12+(2-1)}=\\frac{12}{12+1}=0.9230\n",
    "$$"
   ]
  },
  {
   "cell_type": "markdown",
   "metadata": {},
   "source": [
    "### Best and Worst Curves"
   ]
  },
  {
   "cell_type": "code",
   "execution_count": null,
   "metadata": {},
   "outputs": [],
   "source": [
    "# Best\n",
    "fig = figure20(y_val)"
   ]
  },
  {
   "cell_type": "code",
   "execution_count": null,
   "metadata": {},
   "outputs": [],
   "source": [
    "np.random.seed(39)\n",
    "random_probs = np.random.uniform(size=y_val.shape)"
   ]
  },
  {
   "cell_type": "code",
   "execution_count": null,
   "metadata": {},
   "outputs": [],
   "source": [
    "fpr_random, tpr_random, thresholds1_random = roc_curve(y_val, random_probs)\n",
    "prec_random, rec_random, thresholds2_random = precision_recall_curve(y_val, random_probs)"
   ]
  },
  {
   "cell_type": "code",
   "execution_count": null,
   "metadata": {},
   "outputs": [],
   "source": [
    "# Worst\n",
    "fig = figure21(y_val, random_probs)"
   ]
  },
  {
   "cell_type": "markdown",
   "metadata": {},
   "source": [
    "### Comparing Models"
   ]
  },
  {
   "cell_type": "code",
   "execution_count": null,
   "metadata": {},
   "outputs": [],
   "source": [
    "# Area under the curves of our model\n",
    "auroc = auc(fpr, tpr)\n",
    "aupr = auc(rec, prec)\n",
    "print(auroc, aupr)"
   ]
  },
  {
   "cell_type": "code",
   "execution_count": null,
   "metadata": {},
   "outputs": [],
   "source": [
    "# Area under the curves of the random model\n",
    "auroc_random = auc(fpr_random, tpr_random)\n",
    "aupr_random = auc(rec_random, prec_random)\n",
    "print(auroc_random, aupr_random)"
   ]
  },
  {
   "cell_type": "markdown",
   "metadata": {},
   "source": [
    "## Putting It All Together"
   ]
  },
  {
   "cell_type": "code",
   "execution_count": null,
   "metadata": {},
   "outputs": [],
   "source": [
    "torch.manual_seed(13)\n",
    "\n",
    "# Builds tensors from numpy arrays\n",
    "x_train_tensor = torch.as_tensor(X_train).float()\n",
    "y_train_tensor = torch.as_tensor(y_train.reshape(-1, 1)).float()\n",
    "\n",
    "x_val_tensor = torch.as_tensor(X_val).float()\n",
    "y_val_tensor = torch.as_tensor(y_val.reshape(-1, 1)).float()\n",
    "\n",
    "# Builds dataset containing ALL data points\n",
    "train_dataset = TensorDataset(x_train_tensor, y_train_tensor)\n",
    "val_dataset = TensorDataset(x_val_tensor, y_val_tensor)\n",
    "\n",
    "# Builds a loader of each set\n",
    "train_loader = DataLoader(\n",
    "    dataset=train_dataset, \n",
    "    batch_size=16, \n",
    "    shuffle=True\n",
    ")\n",
    "val_loader = DataLoader(dataset=val_dataset, batch_size=16)"
   ]
  },
  {
   "cell_type": "code",
   "execution_count": null,
   "metadata": {},
   "outputs": [],
   "source": [
    "# Sets learning rate - this is \"eta\" ~ the \"n\" like Greek letter\n",
    "lr = 0.1\n",
    "\n",
    "torch.manual_seed(42)\n",
    "model = nn.Sequential()\n",
    "model.add_module('linear', nn.Linear(2, 1))\n",
    "\n",
    "# Defines a SGD optimizer to update the parameters\n",
    "optimizer = optim.SGD(model.parameters(), lr=lr)\n",
    "\n",
    "# Defines a BCE loss function\n",
    "loss_fn = nn.BCEWithLogitsLoss()"
   ]
  },
  {
   "cell_type": "code",
   "execution_count": null,
   "metadata": {},
   "outputs": [],
   "source": [
    "n_epochs = 100\n",
    "\n",
    "sbs = StepByStep(model, loss_fn, optimizer)\n",
    "sbs.set_loaders(train_loader, val_loader)\n",
    "sbs.train(n_epochs)"
   ]
  },
  {
   "cell_type": "code",
   "execution_count": null,
   "metadata": {},
   "outputs": [],
   "source": [
    "print(model.state_dict())"
   ]
  },
  {
   "cell_type": "code",
   "execution_count": null,
   "metadata": {},
   "outputs": [],
   "source": [
    "logits_val = sbs.predict(X_val)\n",
    "probabilities_val = sigmoid(logits_val).squeeze()\n",
    "cm_thresh50 = confusion_matrix(y_val, (probabilities_val >= 0.5))\n",
    "cm_thresh50"
   ]
  },
  {
   "cell_type": "code",
   "execution_count": null,
   "metadata": {},
   "outputs": [],
   "source": []
  }
 ],
 "metadata": {
  "kernelspec": {
   "display_name": "Python 3 (ipykernel)",
   "language": "python",
   "name": "python3"
  },
  "language_info": {
   "codemirror_mode": {
    "name": "ipython",
    "version": 3
   },
   "file_extension": ".py",
   "mimetype": "text/x-python",
   "name": "python",
   "nbconvert_exporter": "python",
   "pygments_lexer": "ipython3",
   "version": "3.12.2"
  }
 },
 "nbformat": 4,
 "nbformat_minor": 4
}
