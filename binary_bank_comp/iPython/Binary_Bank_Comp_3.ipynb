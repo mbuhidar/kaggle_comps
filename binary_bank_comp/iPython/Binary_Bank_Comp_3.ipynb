{
 "cells": [
  {
   "cell_type": "markdown",
   "metadata": {},
   "source": [
    "Binary Bank Competition - Kaggle"
   ]
  },
  {
   "cell_type": "markdown",
   "metadata": {},
   "source": [
    "\n",
    "### Jupyter Notebook in VS Code\n",
    "\n",
    "From directory with virtual environment, use terminal command to use Jupyter Notebook in VS Code:\n",
    "\n",
    "jupyter notebook --NotebookApp.allow_origin='*' --NotebookApp.ip='0.0.0.0'\n",
    "\n",
    "### Run TensorBoard\n",
    "\n",
    "From directory with virtual environment:\n",
    "\n",
    "tensorboard --logdir binary_bank_comp/runs\n",
    "\n",
    "### Select Python Interpreter\n",
    "\n",
    "Open Command Palette as follows: Ctrl+Shift+P\n",
    "\n",
    "Then select from VS Code Command Palette: \"Python: Select Interpreter\" and choose the same Python interpreter that you used to install Jupyter.\n",
    "\n",
    "If server not shown, enter server manually as follows: \n",
    "http://localhost:8888\n",
    "\n",
    "Reminder:  pw: \"\""
   ]
  },
  {
   "cell_type": "code",
   "execution_count": 82,
   "metadata": {},
   "outputs": [],
   "source": [
    "from datetime import datetime\n",
    "\n",
    "import numpy as np\n",
    "import pandas as pd\n",
    "\n",
    "import torch\n",
    "import torch.optim as optim\n",
    "import torch.nn as nn\n",
    "import torch.functional as F\n",
    "from torch.utils.data import DataLoader, TensorDataset\n",
    "from torch.utils.tensorboard import SummaryWriter\n",
    "\n",
    "from sklearn.preprocessing import StandardScaler\n",
    "from sklearn.model_selection import train_test_split\n",
    "from sklearn.metrics import confusion_matrix, roc_curve, precision_recall_curve, auc\n",
    "\n",
    "import seaborn as sns\n",
    "import matplotlib.pyplot as plt\n",
    "from matplotlib.colors import ListedColormap\n",
    "\n",
    "from stepbystep_v0 import StepByStep"
   ]
  },
  {
   "cell_type": "markdown",
   "metadata": {},
   "source": [
    "# Binary Classification Problem based on Bank Customer Marketing Call Data"
   ]
  },
  {
   "cell_type": "markdown",
   "metadata": {},
   "source": [
    "# Model Training"
   ]
  },
  {
   "cell_type": "markdown",
   "metadata": {},
   "source": [
    "### Load Training Data"
   ]
  },
  {
   "cell_type": "code",
   "execution_count": 60,
   "metadata": {},
   "outputs": [
    {
     "name": "stdout",
     "output_type": "stream",
     "text": [
      "   id  age          job  marital  education default  balance housing loan  \\\n",
      "0   0   42   technician  married  secondary      no        7      no   no   \n",
      "1   1   38  blue-collar  married  secondary      no      514      no   no   \n",
      "2   2   36  blue-collar  married  secondary      no      602     yes   no   \n",
      "3   3   27      student   single  secondary      no       34     yes   no   \n",
      "4   4   26   technician  married  secondary      no      889     yes   no   \n",
      "\n",
      "    contact  day month  duration  campaign  pdays  previous poutcome  y  \n",
      "0  cellular   25   aug       117         3     -1         0  unknown  0  \n",
      "1   unknown   18   jun       185         1     -1         0  unknown  0  \n",
      "2   unknown   14   may       111         2     -1         0  unknown  0  \n",
      "3   unknown   28   may        10         2     -1         0  unknown  0  \n",
      "4  cellular    3   feb       902         1     -1         0  unknown  1  \n"
     ]
    }
   ],
   "source": [
    "# Import data from .csv files\n",
    "raw_train_data = pd.read_csv('binary_bank_comp/dataset/train.csv')\n",
    "\n",
    "# Display the first few rows of the dataset\n",
    "print(raw_train_data[:5])"
   ]
  },
  {
   "cell_type": "markdown",
   "metadata": {},
   "source": [
    "### Split the train dataset"
   ]
  },
  {
   "cell_type": "code",
   "execution_count": 61,
   "metadata": {},
   "outputs": [
    {
     "name": "stdout",
     "output_type": "stream",
     "text": [
      "Training set shape: (600000, 16) (600000,)\n",
      "Validation set shape: (150000, 16) (150000,)\n",
      "Training set preview:\n",
      "        age          job   marital  education default  balance housing loan  \\\n",
      "453635   28  blue-collar    single  secondary      no     5090     yes  yes   \n",
      "11651    51   technician   married   tertiary      no     1295      no   no   \n",
      "431999   57   management  divorced   tertiary      no        0      no   no   \n",
      "529211   48  blue-collar    single    primary      no     1323     yes   no   \n",
      "110925   38       admin.   married  secondary      no      659     yes   no   \n",
      "\n",
      "         contact  day month  duration  campaign  pdays  previous poutcome  \n",
      "453635   unknown   12   may      1297         2     -1         0  unknown  \n",
      "11651   cellular   27   aug       119         9     -1         0  unknown  \n",
      "431999  cellular   29   jan        87         1     -1         0  unknown  \n",
      "529211   unknown   15   may        83         5     -1         0  unknown  \n",
      "110925  cellular   28   jul       534         4     -1         0  unknown  \n",
      "453635    1\n",
      "11651     0\n",
      "431999    0\n",
      "529211    0\n",
      "110925    0\n",
      "Name: y, dtype: int64\n"
     ]
    }
   ],
   "source": [
    "# Remove id column\n",
    "raw_train_data.drop(columns=['id'], inplace=True)\n",
    "\n",
    "# Split the dataset into features and target variable\n",
    "X = raw_train_data.drop(columns=['y'])\n",
    "y = raw_train_data['y']\n",
    "\n",
    "# Split the dataset into training and validation sets\n",
    "from sklearn.model_selection import train_test_split\n",
    "X_train, X_val, y_train, y_val = train_test_split(X, y, test_size=0.2, random_state=42)\n",
    "\n",
    "# Print the shapes of the resulting datasets\n",
    "print(\"Training set shape:\", X_train.shape, y_train.shape)\n",
    "print(\"Validation set shape:\", X_val.shape, y_val.shape)\n",
    "\n",
    "# Print the first few rows of the training set\n",
    "print(\"Training set preview:\")\n",
    "print(X_train.head())\n",
    "print(y_train.head())"
   ]
  },
  {
   "cell_type": "markdown",
   "metadata": {},
   "source": [
    "### Data Cleaning"
   ]
  },
  {
   "cell_type": "code",
   "execution_count": 62,
   "metadata": {},
   "outputs": [
    {
     "name": "stdout",
     "output_type": "stream",
     "text": [
      "             age   balance       day  duration  campaign     pdays  previous  \\\n",
      "0      -1.278540  1.365772 -0.499343  3.820120 -0.211544 -0.302805 -0.222073   \n",
      "1       0.999811  0.031782  1.318267 -0.503479  2.365296 -0.302805 -0.222073   \n",
      "2       1.594163 -0.423427  1.560615 -0.620928 -0.579664 -0.302805 -0.222073   \n",
      "3       0.702634  0.041624 -0.135821 -0.635610  0.892816 -0.302805 -0.222073   \n",
      "4      -0.287953 -0.191780  1.439441  1.019690  0.524696 -0.302805 -0.222073   \n",
      "...          ...       ...       ...       ...       ...       ...       ...   \n",
      "599995 -0.981364 -0.220604  1.439441 -0.492468  0.524696  2.050922  1.266816   \n",
      "599996 -0.981364 -0.423427  1.439441 -0.617258  0.156576 -0.302805 -0.222073   \n",
      "599997 -1.080423  0.004716  0.954745 -0.764070 -0.579664 -0.302805 -0.222073   \n",
      "599998  0.306400 -0.257161  1.802963 -0.657631 -0.211544 -0.302805 -0.222073   \n",
      "599999  1.396045 -0.423427 -1.347561 -0.598907 -0.579664 -0.302805 -0.222073   \n",
      "\n",
      "        job_admin.  job_blue-collar  job_entrepreneur  ...  month_jun  \\\n",
      "0        -0.349208         1.844413         -0.155148  ...  -0.376988   \n",
      "1        -0.349208        -0.542178         -0.155148  ...  -0.376988   \n",
      "2        -0.349208        -0.542178         -0.155148  ...  -0.376988   \n",
      "3        -0.349208         1.844413         -0.155148  ...  -0.376988   \n",
      "4         2.863623        -0.542178         -0.155148  ...  -0.376988   \n",
      "...            ...              ...               ...  ...        ...   \n",
      "599995   -0.349208        -0.542178         -0.155148  ...  -0.376988   \n",
      "599996   -0.349208        -0.542178         -0.155148  ...  -0.376988   \n",
      "599997   -0.349208        -0.542178         -0.155148  ...  -0.376988   \n",
      "599998   -0.349208        -0.542178         -0.155148  ...  -0.376988   \n",
      "599999   -0.349208        -0.542178          6.445474  ...   2.652607   \n",
      "\n",
      "        month_mar  month_may  month_nov  month_oct  month_sep  \\\n",
      "0       -0.088051   1.510809  -0.310808  -0.111854   -0.09962   \n",
      "1       -0.088051  -0.661897  -0.310808  -0.111854   -0.09962   \n",
      "2       -0.088051  -0.661897  -0.310808  -0.111854   -0.09962   \n",
      "3       -0.088051   1.510809  -0.310808  -0.111854   -0.09962   \n",
      "4       -0.088051  -0.661897  -0.310808  -0.111854   -0.09962   \n",
      "...           ...        ...        ...        ...        ...   \n",
      "599995  -0.088051  -0.661897  -0.310808  -0.111854   -0.09962   \n",
      "599996  -0.088051  -0.661897  -0.310808  -0.111854   -0.09962   \n",
      "599997  -0.088051  -0.661897  -0.310808  -0.111854   -0.09962   \n",
      "599998  -0.088051  -0.661897  -0.310808  -0.111854   -0.09962   \n",
      "599999  -0.088051  -0.661897  -0.310808  -0.111854   -0.09962   \n",
      "\n",
      "        poutcome_failure  poutcome_other  poutcome_success  poutcome_unknown  \n",
      "0              -0.253034        -0.14176         -0.155119          0.339540  \n",
      "1              -0.253034        -0.14176         -0.155119          0.339540  \n",
      "2              -0.253034        -0.14176         -0.155119          0.339540  \n",
      "3              -0.253034        -0.14176         -0.155119          0.339540  \n",
      "4              -0.253034        -0.14176         -0.155119          0.339540  \n",
      "...                  ...             ...               ...               ...  \n",
      "599995          3.952045        -0.14176         -0.155119         -2.945163  \n",
      "599996         -0.253034        -0.14176         -0.155119          0.339540  \n",
      "599997         -0.253034        -0.14176         -0.155119          0.339540  \n",
      "599998         -0.253034        -0.14176         -0.155119          0.339540  \n",
      "599999         -0.253034        -0.14176         -0.155119          0.339540  \n",
      "\n",
      "[600000 rows x 51 columns]\n",
      "             age   balance       day  duration  campaign     pdays  previous  \\\n",
      "0       0.504517  0.026158  0.227701 -0.521831 -0.211544 -0.302805 -0.222073   \n",
      "1      -1.377599  0.455706 -0.378169  0.667342 -0.579664  1.068047  0.522372   \n",
      "2      -0.486070  0.052873  0.470049 -0.903541  0.524696 -0.302805 -0.222073   \n",
      "3       1.792280  0.109466 -1.589909 -0.679653 -0.211544 -0.302805 -0.222073   \n",
      "4      -0.188894  0.761171 -0.256995 -0.521831 -0.211544 -0.302805 -0.222073   \n",
      "...          ...       ...       ...       ...       ...       ...       ...   \n",
      "149995  1.098869 -0.104605 -1.347561  0.979317 -0.579664 -0.302805 -0.222073   \n",
      "149996  0.108282 -0.419209 -0.620517 -0.595236 -0.579664 -0.302805 -0.222073   \n",
      "149997  0.306400  0.904588 -0.135821 -0.918222 -0.579664 -0.302805 -0.222073   \n",
      "149998  0.108282 -0.224471 -1.468735 -0.477787 -0.579664 -0.302805 -0.222073   \n",
      "149999 -0.783246 -0.009345 -0.135821  0.340687 -0.211544  2.076787  1.266816   \n",
      "\n",
      "        job_admin.  job_blue-collar  job_entrepreneur  ...  month_jun  \\\n",
      "0        -0.349208        -0.542178         -0.155148  ...  -0.376988   \n",
      "1         2.863623        -0.542178         -0.155148  ...  -0.376988   \n",
      "2        -0.349208        -0.542178         -0.155148  ...   2.652607   \n",
      "3        -0.349208        -0.542178         -0.155148  ...  -0.376988   \n",
      "4        -0.349208        -0.542178         -0.155148  ...  -0.376988   \n",
      "...            ...              ...               ...  ...        ...   \n",
      "149995   -0.349208        -0.542178         -0.155148  ...   2.652607   \n",
      "149996   -0.349208        -0.542178         -0.155148  ...   2.652607   \n",
      "149997   -0.349208         1.844413         -0.155148  ...  -0.376988   \n",
      "149998   -0.349208        -0.542178         -0.155148  ...  -0.376988   \n",
      "149999   -0.349208        -0.542178         -0.155148  ...  -0.376988   \n",
      "\n",
      "        month_mar  month_may  month_nov  month_oct  month_sep  \\\n",
      "0       -0.088051  -0.661897  -0.310808  -0.111854   -0.09962   \n",
      "1       -0.088051  -0.661897  -0.310808  -0.111854   -0.09962   \n",
      "2       -0.088051  -0.661897  -0.310808  -0.111854   -0.09962   \n",
      "3       -0.088051  -0.661897  -0.310808  -0.111854   -0.09962   \n",
      "4       -0.088051  -0.661897  -0.310808  -0.111854   -0.09962   \n",
      "...           ...        ...        ...        ...        ...   \n",
      "149995  -0.088051  -0.661897  -0.310808  -0.111854   -0.09962   \n",
      "149996  -0.088051  -0.661897  -0.310808  -0.111854   -0.09962   \n",
      "149997  -0.088051   1.510809  -0.310808  -0.111854   -0.09962   \n",
      "149998  -0.088051  -0.661897  -0.310808  -0.111854   -0.09962   \n",
      "149999  -0.088051  -0.661897  -0.310808   8.940245   -0.09962   \n",
      "\n",
      "        poutcome_failure  poutcome_other  poutcome_success  poutcome_unknown  \n",
      "0              -0.253034        -0.14176         -0.155119          0.339540  \n",
      "1              -0.253034        -0.14176          6.446645         -2.945163  \n",
      "2              -0.253034        -0.14176         -0.155119          0.339540  \n",
      "3              -0.253034        -0.14176         -0.155119          0.339540  \n",
      "4              -0.253034        -0.14176         -0.155119          0.339540  \n",
      "...                  ...             ...               ...               ...  \n",
      "149995         -0.253034        -0.14176         -0.155119          0.339540  \n",
      "149996         -0.253034        -0.14176         -0.155119          0.339540  \n",
      "149997         -0.253034        -0.14176         -0.155119          0.339540  \n",
      "149998         -0.253034        -0.14176         -0.155119          0.339540  \n",
      "149999          3.952045        -0.14176         -0.155119         -2.945163  \n",
      "\n",
      "[150000 rows x 51 columns]\n"
     ]
    }
   ],
   "source": [
    "# Clean the dataset\n",
    "\n",
    "# Identify numerical columns (excluding the target and any non-feature columns)\n",
    "X_train_numerical_cols = X_train.select_dtypes(include=['int64', 'float64'])\n",
    "X_val_numerical_cols = X_val.select_dtypes(include=['int64', 'float64'])\n",
    "\n",
    "# Identify categorical columns\n",
    "X_train_categorical_cols = X_train.select_dtypes(include=['object', 'category'])\n",
    "X_val_categorical_cols = X_val.select_dtypes(include=['object', 'category'])\n",
    "\n",
    "# Convert categorical features to numerical using one-hot encoding using 1s and 0s\n",
    "X_train_categorical_encoded = pd.get_dummies(X_train_categorical_cols, drop_first=False).astype(int)\n",
    "X_val_categorical_encoded = pd.get_dummies(X_val_categorical_cols, drop_first=False).astype(int)\n",
    "\n",
    "# Combine the numerical and categorical features\n",
    "X_train_combined = pd.concat([X_train_numerical_cols, X_train_categorical_encoded], axis=1)\n",
    "X_val_combined = pd.concat([X_val_numerical_cols, X_val_categorical_encoded], axis=1)\n",
    "\n",
    "# Numeric Feature Standardization\n",
    "sc = StandardScaler()\n",
    "X_train_scaled = sc.fit_transform(X_train_combined)\n",
    "X_val_scaled = sc.transform(X_val_combined)\n",
    "\n",
    "# Convert the scaled arrays back to DataFrames for easier handling\n",
    "X_train = pd.DataFrame(X_train_scaled, columns=X_train_combined.columns)\n",
    "X_val = pd.DataFrame(X_val_scaled, columns=X_val_combined.columns)\n",
    "\n",
    "# Show the cleaned dataset\n",
    "print(X_train)\n",
    "print(X_val)"
   ]
  },
  {
   "cell_type": "markdown",
   "metadata": {},
   "source": [
    "### Data Preparation"
   ]
  },
  {
   "cell_type": "code",
   "execution_count": 63,
   "metadata": {},
   "outputs": [],
   "source": [
    "torch.manual_seed(13)\n",
    "\n",
    "# Convert pandas DataFrames to Numpy arrays\n",
    "X_train = X_train.to_numpy()\n",
    "y_train = y_train.to_numpy()\n",
    "X_val = X_val.to_numpy()\n",
    "y_val = y_val.to_numpy()\n",
    "\n",
    "# Builds tensors from numpy arrays\n",
    "x_train_tensor = torch.as_tensor(X_train).float()\n",
    "x_val_tensor = torch.as_tensor(X_val).float()\n",
    "# Reshapes y_train and y_val to be column vectors\n",
    "y_train_tensor = torch.as_tensor(y_train.reshape(-1, 1)).float()\n",
    "y_val_tensor = torch.as_tensor(y_val.reshape(-1, 1)).float()\n",
    "\n",
    "# Builds dataset containing ALL data points\n",
    "train_dataset = TensorDataset(x_train_tensor, y_train_tensor)\n",
    "val_dataset = TensorDataset(x_val_tensor, y_val_tensor)\n",
    "\n",
    "# Builds a loader of each set\n",
    "batch_size = 500\n",
    "train_loader = DataLoader(dataset=train_dataset, batch_size=batch_size, shuffle=True)\n",
    "val_loader = DataLoader(dataset=val_dataset, batch_size=batch_size)"
   ]
  },
  {
   "cell_type": "markdown",
   "metadata": {},
   "source": [
    "## Model\n",
    "$$\n",
    "\\Large\n",
    "y = b + w_1x_1 + w_2x_2 + ... + w_nx_n + \\epsilon\n",
    "$$\n",
    "$$\n",
    "\\Large \n",
    "y =\n",
    "\\begin{cases}\n",
    "1,\\ \\text{if }b + w_1x_1 + w_2x_2 + ... + w_nx_n \\ge 0\n",
    "\\\\\n",
    "0,\\ \\text{if }b + w_1x_1 + w_2x_2 + ... + w_nx_n < 0\n",
    "\\end{cases}\n",
    "$$\n",
    "### Logits\n",
    "$$\n",
    "\\Large\n",
    "z = b + w_1x_1 + w_2x_2 + ... + w_nx_n\n",
    "$$\n",
    "### Probabilities\n",
    "$$\n",
    "\\Large\n",
    "\\begin{aligned}\n",
    "& \\text{P}(y=1) \\approx 1.0, & \\text{if } &z \\gg 0\n",
    "\\\\\n",
    "& \\text{P}(y=1) = 0.5, & \\text{if } &z = 0\n",
    "\\\\\n",
    "& \\text{P}(y=1) \\approx 0.0, & \\text{if } &z \\ll 0\n",
    "\\end{aligned}\n",
    "$$\n",
    "### From Logits to Probabilities\n",
    "$$\n",
    "\\Large\n",
    "\\begin{aligned}\n",
    "b + w_1x_1 + w_2x_2 + ... + w_nx_n = &\\ z = \\text{log}\\left(\\frac{p}{1-p}\\right) \\nonumber\n",
    "\\\\\n",
    "e^{b + w_1x_1 + w_2x_2 + ... + w_nx_n} = &\\ e^z = \\frac{p}{1-p} \\nonumber\n",
    "\\end{aligned}\n",
    "$$\n",
    "$$\n",
    "\\Large\n",
    "\\begin{aligned}\n",
    "\\frac{1}{e^z}& = \\frac{1-p}{p}\n",
    "\\\\\n",
    "e^{-z}& = \\frac{1}{p} - 1\n",
    "\\\\\n",
    "1 + e^{-z}& = \\frac{1}{p}&\n",
    "\\\\\n",
    "p& = \\frac{1}{1 + e^{-z}}\n",
    "\\end{aligned}\n",
    "$$\n",
    "$$\n",
    "\\Large\n",
    "p = \\sigma(z) = \\frac{1}{1+e^{-z}}\n",
    "$$\n",
    "### Logistic Regression\n",
    "$$\n",
    "\\Large\n",
    "\\text{P}(y=1) = \\sigma(z) = \\sigma(b+w_1x_1+w_2x_2 + ... + w_nx_n) = \\frac{1}{1+e^{-(b+w_1x_1+w_2x_2 + ... + w_nx_n)}}      \n",
    "$$\n",
    "### A Note on Notation (for reference)\n",
    "$$\n",
    "\\Large W =\n",
    "\\underset{(3 \\times 1)}{\n",
    "\\begin{bmatrix}\n",
    "b \\\\\n",
    "w_1 \\\\\n",
    "w_2\n",
    "\\end{bmatrix}};\n",
    "X = \n",
    "\\underset{(3 \\times 1)}{\n",
    "\\begin{bmatrix}\n",
    "1 \\\\\n",
    "x_1 \\\\\n",
    "x_2\n",
    "\\end{bmatrix}}\n",
    "$$\n",
    "$$\n",
    "\\Large \n",
    "\\begin{aligned}\n",
    "z\n",
    "& = W^T X\n",
    "=\n",
    "\\underset{(1 \\times 3)}{\n",
    "\\begin{bmatrix}\n",
    "- & w^{T} & -\\\\\n",
    "\\end{bmatrix}}\n",
    "\\underset{(3 \\times 1)}{\n",
    "\\begin{bmatrix}\n",
    "1 \\\\\n",
    "x_1 \\\\\n",
    "x_2\n",
    "\\end{bmatrix}}\n",
    "= \\underset{(1 \\times 3)}{\n",
    "\\begin{bmatrix}\n",
    "b & w_1 & w_2\n",
    "\\end{bmatrix}}\n",
    "\\underset{(3 \\times 1)}{\n",
    "\\begin{bmatrix}\n",
    "1 \\\\\n",
    "x_1 \\\\\n",
    "x_2\n",
    "\\end{bmatrix}}\\\\\n",
    "& = b + w_1x_1 + w_2x_2\n",
    "\\end{aligned}\n",
    "$$\n",
    "## Loss\n",
    "$$\n",
    "\\Large y_i = 1 \\Rightarrow \\text{error}_i=\\text{log}(\\text{P}(y_i=1))\n",
    "$$\n",
    "$$\n",
    "\\Large \\text{P}(y_i=0)=1-\\text{P}(y_i=1)\n",
    "$$\n",
    "$$\n",
    "\\Large y_i = 0 \\Rightarrow \\text{error}_i=\\text{log}(1-\\text{P}(y_i=1))\n",
    "$$\n",
    "$$\n",
    "\\Large\n",
    "\\text{BCE}(y)={-\\frac{1}{(N_{\\text{pos}}+N_{\\text{neg}})}\\Bigg[{\\sum_{i=1}^{N_{\\text{pos}}}{\\text{log}(\\text{P}(y_i=1))} + \\sum_{i=1}^{N_{\\text{neg}}}{\\text{log}(1 - \\text{P}(y_i=1))}}\\Bigg]}\n",
    "$$\n",
    "$$\n",
    "\\Large\n",
    "\\text{BCE}(y)={-\\frac{1}{N}\\sum_{i=1}^{N}{\\left[y_i \\text{log}(\\text{P}(y_i=1)) + (1-y_i) \\text{log}(1-\\text{P}(y_i=1))\\right]}}\n",
    "$$"
   ]
  },
  {
   "cell_type": "markdown",
   "metadata": {},
   "source": [
    "### Model Configuration"
   ]
  },
  {
   "cell_type": "code",
   "execution_count": 64,
   "metadata": {},
   "outputs": [
    {
     "name": "stdout",
     "output_type": "stream",
     "text": [
      "Number of features: 51\n"
     ]
    }
   ],
   "source": [
    "# Sets learning rate - \"eta\" ~ the \"n\" like Greek letter\n",
    "lr = 0.001\n",
    "\n",
    "torch.manual_seed(42)\n",
    "feature_cnt = X_train.shape[1]\n",
    "print(\"Number of features:\", feature_cnt)\n",
    "model = nn.Sequential()\n",
    "# model.add_module('dropout0', nn.Dropout(0.20))\n",
    "model.add_module('linear0', nn.Linear(feature_cnt, 200))\n",
    "model.add_module('activation0', nn.LeakyReLU())\n",
    "model.add_module('dropout1', nn.Dropout(0.45))\n",
    "model.add_module('linear1', nn.Linear(200, 60))\n",
    "model.add_module('activation1', nn.LeakyReLU())\n",
    "model.add_module('dropout2', nn.Dropout(0.25))\n",
    "# model.add_module('linear2', nn.Linear(40, 8))\n",
    "# model.add_module('activation2', nn.LeakyReLU())\n",
    "model.add_module('output', nn.Linear(60, 1))\n",
    "\n",
    "# Defines a SGD optimizer to update the parameters\n",
    "# optimizer = optim.SGD(model.parameters(), lr=lr)\n",
    "\n",
    "# Defines an Adam optimizer to update the parameters\n",
    "# optimizer = optim.Adam(model.parameters(), lr=lr)\n",
    "\n",
    "# Defines a NAdam optimizer to update the parameters\n",
    "optimizer = torch.optim.NAdam(model.parameters(), lr=lr)\n",
    "\n",
    "# Defines a BCE loss function\n",
    "loss_fn = nn.BCEWithLogitsLoss()"
   ]
  },
  {
   "cell_type": "markdown",
   "metadata": {},
   "source": [
    "### Model Definition"
   ]
  },
  {
   "cell_type": "code",
   "execution_count": 65,
   "metadata": {},
   "outputs": [],
   "source": [
    "sbs = StepByStep(model=model, loss_fn=loss_fn, optimizer=optimizer)"
   ]
  },
  {
   "cell_type": "markdown",
   "metadata": {},
   "source": [
    "### Model Training"
   ]
  },
  {
   "cell_type": "code",
   "execution_count": 66,
   "metadata": {},
   "outputs": [],
   "source": [
    "n_epochs = 1000\n",
    "\n",
    "sbs.set_loaders(train_loader, val_loader)\n",
    "sbs.set_tensorboard('run', folder='binary_bank_comp/runs')\n",
    "sbs.train(n_epochs)"
   ]
  },
  {
   "cell_type": "code",
   "execution_count": 67,
   "metadata": {},
   "outputs": [
    {
     "data": {
      "image/png": "[encoded data removed]",
      "text/plain": [
       "<Figure size 1000x400 with 1 Axes>"
      ]
     },
     "metadata": {},
     "output_type": "display_data"
    }
   ],
   "source": [
    "fig = sbs.plot_losses()"
   ]
  },
  {
   "cell_type": "code",
   "execution_count": 68,
   "metadata": {},
   "outputs": [
    {
     "name": "stdout",
     "output_type": "stream",
     "text": [
      "OrderedDict({'linear0.weight': tensor([[ 0.2721,  0.0544, -0.1465,  ...,  0.2507,  0.3812,  0.0363],\n",
      "        [-2.4299, -0.0176, -0.1023,  ..., -0.2519, -0.2344,  0.7412],\n",
      "        [-0.1259, -9.5826,  0.0251,  ..., -0.0206, -0.1567,  0.3856],\n",
      "        ...,\n",
      "        [ 0.3349,  0.2632,  0.8232,  ..., -0.2935, -0.7357,  2.0400],\n",
      "        [ 0.3432, -1.4229, -1.1987,  ...,  1.3977,  0.2912,  1.5401],\n",
      "        [-1.2351, -0.0246,  0.9774,  ...,  0.3519,  0.4013,  0.5268]],\n",
      "       device='cuda:0'), 'linear0.bias': tensor([-1.0339, -4.9940, -3.2993, -0.9705, -3.8327, -0.0692, -1.6580, -1.1320,\n",
      "        -1.8404, -3.8166, -2.6923, -3.6066, -4.2149, -5.4480, -0.5380, -3.8012,\n",
      "        -4.9552, -4.3415, -4.6494, -1.9648, -3.7674, -5.1650, -1.6115, -4.2396,\n",
      "        -5.9277,  1.2353, -4.0428, -4.3196, -0.9301, -3.8892, -0.5795, -4.0598,\n",
      "        -2.9678, -0.7617, -3.7868, -3.7165, -1.5721, -4.9053, -2.4545, -4.3011,\n",
      "        -5.2363, -5.7787, -2.8169, -4.4255, -4.6481, -3.1877, -2.7093, -5.2540,\n",
      "        -3.0040, -1.9508,  0.7033, -3.6591, -1.4085, -4.8759, -4.5105, -5.5171,\n",
      "        -1.3867, -2.3592, -0.9522, -3.1166, -4.0386, -5.1801, -4.9057, -1.8857,\n",
      "        -4.4885, -4.4398, -4.0935, -5.7345, -2.5879, -0.6686, -3.3273, -3.1187,\n",
      "        -3.7993, -1.4056, -1.1400, -2.0338, -1.2534, -0.1754, -2.2968, -4.1207,\n",
      "        -3.4336, -0.9330, -2.3040, -3.7181, -4.4858, -2.9005, -1.8697, -5.2913,\n",
      "        -3.9981, -2.2124, -3.4894, -4.5981, -4.6455, -3.2947, -0.2220, -3.7282,\n",
      "        -0.5919, -3.7697, -3.2534, -3.3087, -4.3754, -1.4902, -0.8853,  0.9883,\n",
      "        -8.3812, -3.3891, -4.4592, -3.0046, -3.3883, -3.8183, -5.7576, -2.1186,\n",
      "        -4.6379, -1.6602, -3.7113, -4.1251, -3.9312, -3.9346, -1.1935, -4.6323,\n",
      "        -3.6376, -2.9450, -1.3187, -2.0146, -2.8620, -1.9390, -1.9539, -1.0945,\n",
      "        -0.6852, -3.9740, -1.7979, -3.3824, -3.3050, -1.8379, -3.8712,  1.0160,\n",
      "        -3.7303, -2.2844, -2.5689, -0.7491, -1.1292,  0.7679, -4.3746, -5.0550,\n",
      "        -3.0604, -3.4201, -4.8828, -2.0623, -2.7621, -3.6497, -4.1581, -3.6337,\n",
      "        -5.1156, -1.5025,  0.8281, -2.2134, -2.1195, -4.3154, -4.2701, -1.6236,\n",
      "        -4.4045, -4.1104, -4.9882,  1.9287, -2.8697, -2.2241, -0.3777, -5.0015,\n",
      "        -4.3836, -4.8204, -0.1900, -5.3561, -1.7483, -3.9171, -3.6052, -3.9046,\n",
      "        -3.8953, -2.4711, -2.9139, -4.1155, -4.5175, -4.8767, -1.9677, -2.2906,\n",
      "        -2.6688, -3.7389, -3.7558, -4.8669, -2.0584, -4.4193, -4.1667, -2.9821,\n",
      "        -3.0288, -2.7227, -3.8364, -2.9033, -0.8581, -2.2925, -2.8769, -3.8377],\n",
      "       device='cuda:0'), 'linear1.weight': tensor([[ 7.6344e-02, -7.6433e-02, -8.7078e-01,  ..., -1.8730e-02,\n",
      "          3.1911e-01,  2.1137e-01],\n",
      "        [ 1.3141e-01, -3.1924e-01,  2.9202e-02,  ..., -1.1810e-03,\n",
      "          2.0892e-01, -7.6328e-02],\n",
      "        [ 7.2232e-02, -1.4267e+00, -1.2231e-01,  ...,  2.9136e-03,\n",
      "          2.5288e-01,  3.2922e-01],\n",
      "        ...,\n",
      "        [-2.1004e-03, -1.1060e+00,  9.3534e-02,  ..., -1.2333e-02,\n",
      "          2.5344e-01,  1.3727e-01],\n",
      "        [ 2.4035e-01,  5.4369e-01, -3.8408e-01,  ...,  1.8051e-01,\n",
      "          4.2153e-01,  6.8288e-01],\n",
      "        [ 3.2495e-01,  2.6613e-01, -2.9581e-01,  ...,  1.5194e-01,\n",
      "          7.5026e-01,  9.2416e-02]], device='cuda:0'), 'linear1.bias': tensor([  3.5655,  -3.8681,   3.6471,   5.2916,  -1.2408,  -3.5063,  -1.7897,\n",
      "         -2.0760,   2.0346,  -4.2346,  -0.0585,   3.5427,   0.3880,   3.8112,\n",
      "         -4.3854,   1.1612,   3.3397,  -3.3059,   2.2025,  -4.3556,   2.7444,\n",
      "         -7.7402,   2.2612,   0.6647,  -5.5023,  -0.4995,  -5.1442,   3.0405,\n",
      "         -4.7177,   2.1586,  -2.1629,   3.4806,   3.4292,   3.4947,  -6.0172,\n",
      "         -7.5090,   0.5632,   2.3008,  -6.1618,  -2.6293,   0.8199,   0.9172,\n",
      "          1.4402,  -0.8411,  -3.2423,  -0.7729,  -1.8515,  -0.6562,   2.8221,\n",
      "          0.0695,   0.7733,  -0.2022,   3.4006,   0.3689,   1.7199,  -4.9756,\n",
      "         -6.4357,   2.6732, -10.0074,   0.2283], device='cuda:0'), 'output.weight': tensor([[ 0.0275, -0.0258, -0.0236, -0.0323, -0.0198,  0.0332,  0.0256,  0.0206,\n",
      "          0.0277,  0.0283,  0.0241, -0.0248, -0.0236, -0.0210, -0.0173, -0.0193,\n",
      "         -0.0212,  0.0371, -0.0228,  0.0521, -0.0187, -0.0296,  0.0166,  0.0174,\n",
      "          0.0426,  0.0429, -0.0323, -0.0171,  0.0554, -0.0269,  0.0415, -0.0306,\n",
      "         -0.0166, -0.0169,  0.0333, -0.0271, -0.0154,  0.0346, -0.0253, -0.0120,\n",
      "          0.0222,  0.0167,  0.0189,  0.0182,  0.0265, -0.0139,  0.0307, -0.0301,\n",
      "         -0.0336,  0.0232,  0.0277,  0.0331, -0.0207,  0.0223, -0.0285, -0.0218,\n",
      "         -0.0220, -0.0256, -0.0271,  0.0129]], device='cuda:0'), 'output.bias': tensor([-0.4036], device='cuda:0')})\n"
     ]
    }
   ],
   "source": [
    "print(model.state_dict())"
   ]
  },
  {
   "cell_type": "code",
   "execution_count": 69,
   "metadata": {},
   "outputs": [],
   "source": [
    "# Save model\n",
    "filename='binary_bank_comp/cp3_bth500_lr001_ep1000_dropout45_25.pth'\n",
    "sbs.save_checkpoint(filename=filename)"
   ]
  },
  {
   "cell_type": "markdown",
   "metadata": {},
   "source": [
    "## Inference"
   ]
  },
  {
   "cell_type": "markdown",
   "metadata": {},
   "source": [
    "### Load Test Data"
   ]
  },
  {
   "cell_type": "code",
   "execution_count": 73,
   "metadata": {},
   "outputs": [
    {
     "name": "stdout",
     "output_type": "stream",
     "text": [
      "       id  age            job  marital  education default  balance housing  \\\n",
      "0  750000   32    blue-collar  married  secondary      no     1397     yes   \n",
      "1  750001   44     management  married   tertiary      no       23     yes   \n",
      "2  750002   36  self-employed  married    primary      no       46     yes   \n",
      "3  750003   58    blue-collar  married  secondary      no    -1380     yes   \n",
      "4  750004   28     technician   single  secondary      no     1950     yes   \n",
      "\n",
      "  loan   contact  day month  duration  campaign  pdays  previous poutcome  \n",
      "0   no   unknown   21   may       224         1     -1         0  unknown  \n",
      "1   no  cellular    3   apr       586         2     -1         0  unknown  \n",
      "2  yes  cellular   13   may       111         2     -1         0  unknown  \n",
      "3  yes   unknown   29   may       125         1     -1         0  unknown  \n",
      "4   no  cellular   22   jul       181         1     -1         0  unknown  \n"
     ]
    }
   ],
   "source": [
    "# Import data from .csv file\n",
    "raw_test_data = pd.read_csv('binary_bank_comp/dataset/test.csv')\n",
    "\n",
    "# Display the first few rows of the dataset\n",
    "print(raw_test_data[:5])"
   ]
  },
  {
   "cell_type": "markdown",
   "metadata": {},
   "source": [
    "### Remove and save id column"
   ]
  },
  {
   "cell_type": "code",
   "execution_count": 74,
   "metadata": {},
   "outputs": [
    {
     "data": {
      "text/plain": [
       "0         750000\n",
       "1         750001\n",
       "2         750002\n",
       "3         750003\n",
       "4         750004\n",
       "           ...  \n",
       "249995    999995\n",
       "249996    999996\n",
       "249997    999997\n",
       "249998    999998\n",
       "249999    999999\n",
       "Name: id, Length: 250000, dtype: int64"
      ]
     },
     "execution_count": 74,
     "metadata": {},
     "output_type": "execute_result"
    }
   ],
   "source": [
    "# Remove and save id column\n",
    "id_column = raw_test_data['id']\n",
    "raw_test_data.drop(columns=['id'], inplace=True)\n",
    "id_column"
   ]
  },
  {
   "cell_type": "markdown",
   "metadata": {},
   "source": [
    "### Clean Test Data"
   ]
  },
  {
   "cell_type": "code",
   "execution_count": 75,
   "metadata": {},
   "outputs": [
    {
     "name": "stdout",
     "output_type": "stream",
     "text": [
      "             age   balance       day  duration  campaign     pdays  previous  \\\n",
      "0      -0.882305  0.067636  0.591223 -0.118099 -0.579664 -0.302805 -0.222073   \n",
      "1       0.306400 -0.415342 -1.589909  1.210545 -0.211544 -0.302805 -0.222073   \n",
      "2      -0.486070 -0.407257 -0.378169 -0.532842 -0.211544 -0.302805 -0.222073   \n",
      "3       1.693222 -0.908514  1.560615 -0.481458 -0.579664 -0.302805 -0.222073   \n",
      "4      -1.278540  0.262023  0.712397 -0.275921 -0.579664 -0.302805 -0.222073   \n",
      "...          ...       ...       ...       ...       ...       ...       ...   \n",
      "249995  0.207341 -0.423427  0.227701 -0.701675 -0.211544 -0.302805 -0.222073   \n",
      "249996 -0.089835 -0.239937  0.348875  1.008679 -0.579664  2.154382  0.522372   \n",
      "249997  2.188515 -0.411827 -1.589909 -0.286932 -0.579664  0.899923  5.733484   \n",
      "249998  0.900752  0.500700  1.681789 -0.341987 -0.211544 -0.302805 -0.222073   \n",
      "249999 -1.179481 -0.169635 -1.226387 -0.503479 -0.579664 -0.302805 -0.222073   \n",
      "\n",
      "        job_admin.  job_blue-collar  job_entrepreneur  ...  month_jun  \\\n",
      "0        -0.349208         1.844413         -0.155148  ...  -0.376988   \n",
      "1        -0.349208        -0.542178         -0.155148  ...  -0.376988   \n",
      "2        -0.349208        -0.542178         -0.155148  ...  -0.376988   \n",
      "3        -0.349208         1.844413         -0.155148  ...  -0.376988   \n",
      "4        -0.349208        -0.542178         -0.155148  ...  -0.376988   \n",
      "...            ...              ...               ...  ...        ...   \n",
      "249995   -0.349208        -0.542178         -0.155148  ...  -0.376988   \n",
      "249996   -0.349208        -0.542178         -0.155148  ...  -0.376988   \n",
      "249997   -0.349208        -0.542178         -0.155148  ...  -0.376988   \n",
      "249998   -0.349208         1.844413         -0.155148  ...  -0.376988   \n",
      "249999   -0.349208        -0.542178         -0.155148  ...  -0.376988   \n",
      "\n",
      "        month_mar  month_may  month_nov  month_oct  month_sep  \\\n",
      "0       -0.088051   1.510809  -0.310808  -0.111854   -0.09962   \n",
      "1       -0.088051  -0.661897  -0.310808  -0.111854   -0.09962   \n",
      "2       -0.088051   1.510809  -0.310808  -0.111854   -0.09962   \n",
      "3       -0.088051   1.510809  -0.310808  -0.111854   -0.09962   \n",
      "4       -0.088051  -0.661897  -0.310808  -0.111854   -0.09962   \n",
      "...           ...        ...        ...        ...        ...   \n",
      "249995  -0.088051  -0.661897   3.217423  -0.111854   -0.09962   \n",
      "249996  -0.088051  -0.661897   3.217423  -0.111854   -0.09962   \n",
      "249997  -0.088051  -0.661897  -0.310808  -0.111854   -0.09962   \n",
      "249998  -0.088051   1.510809  -0.310808  -0.111854   -0.09962   \n",
      "249999  -0.088051  -0.661897  -0.310808  -0.111854   -0.09962   \n",
      "\n",
      "        poutcome_failure  poutcome_other  poutcome_success  poutcome_unknown  \n",
      "0              -0.253034        -0.14176         -0.155119          0.339540  \n",
      "1              -0.253034        -0.14176         -0.155119          0.339540  \n",
      "2              -0.253034        -0.14176         -0.155119          0.339540  \n",
      "3              -0.253034        -0.14176         -0.155119          0.339540  \n",
      "4              -0.253034        -0.14176         -0.155119          0.339540  \n",
      "...                  ...             ...               ...               ...  \n",
      "249995         -0.253034        -0.14176         -0.155119          0.339540  \n",
      "249996          3.952045        -0.14176         -0.155119         -2.945163  \n",
      "249997         -0.253034        -0.14176          6.446645         -2.945163  \n",
      "249998         -0.253034        -0.14176         -0.155119          0.339540  \n",
      "249999         -0.253034        -0.14176         -0.155119          0.339540  \n",
      "\n",
      "[250000 rows x 51 columns]\n"
     ]
    }
   ],
   "source": [
    "# Clean the test dataset\n",
    "\n",
    "# Identify numerical columns (excluding the target and any non-feature columns)\n",
    "X_test_numerical_cols = raw_test_data.select_dtypes(include=['int64', 'float64'])\n",
    "\n",
    "# Identify categorical columns\n",
    "X_test_categorical_cols = raw_test_data.select_dtypes(include=['object', 'category'])\n",
    "\n",
    "# Convert categorical features to numerical using one-hot encoding using 1s and 0s\n",
    "X_test_categorical_encoded = pd.get_dummies(X_test_categorical_cols, drop_first=False).astype(int)\n",
    "\n",
    "# Combine the numerical and categorical features\n",
    "X_test_combined = pd.concat([X_test_numerical_cols, X_test_categorical_encoded], axis=1)\n",
    "\n",
    "# Numeric Feature Standardization\n",
    "# Note: sc = StandardScaler() from training data preprocessing fit on X_train_combined\n",
    "X_test_scaled = sc.transform(X_test_combined)\n",
    "\n",
    "# Convert the scaled arrays back to DataFrames for easier handling\n",
    "X_test = pd.DataFrame(X_test_scaled, columns=X_test_combined.columns)\n",
    "\n",
    "# Show the cleaned dataset\n",
    "print(X_test)"
   ]
  },
  {
   "cell_type": "markdown",
   "metadata": {},
   "source": [
    "### Data Preparation"
   ]
  },
  {
   "cell_type": "code",
   "execution_count": 76,
   "metadata": {},
   "outputs": [],
   "source": [
    "torch.manual_seed(13) # Used for reproducibility of shuffle in DataLoader\n",
    "\n",
    "# Convert pandas DataFrames to Numpy arrays\n",
    "X_test = X_test.to_numpy()\n",
    "\n",
    "# Builds tensors from numpy arrays\n",
    "x_test_tensor = torch.as_tensor(X_test).float()\n",
    "\n",
    "# Builds dataset containing ALL data points\n",
    "test_dataset = TensorDataset(x_test_tensor)\n",
    "\n",
    "# Builds a loader of each set\n",
    "test_loader = DataLoader(dataset=test_dataset, batch_size=batch_size, shuffle=True)"
   ]
  },
  {
   "cell_type": "markdown",
   "metadata": {},
   "source": [
    "### Model Configuration - defined in training section"
   ]
  },
  {
   "cell_type": "markdown",
   "metadata": {},
   "source": [
    "### Model Definition - defined in training section"
   ]
  },
  {
   "cell_type": "markdown",
   "metadata": {},
   "source": [
    "### Load Trained Model"
   ]
  },
  {
   "cell_type": "code",
   "execution_count": 77,
   "metadata": {},
   "outputs": [],
   "source": [
    "# Load trained model using filename defined in training section\n",
    "# filename='binary_bank_comp/checkpoint_sgd_3layer_lr005_250.pth'\n",
    "sbs.load_checkpoint(filename=filename)"
   ]
  },
  {
   "cell_type": "markdown",
   "metadata": {},
   "source": [
    "### Making Predictions (Logits)"
   ]
  },
  {
   "cell_type": "code",
   "execution_count": 78,
   "metadata": {},
   "outputs": [
    {
     "data": {
      "text/plain": [
       "array([[-6.801951  ],\n",
       "       [-1.6696347 ],\n",
       "       [-9.0564375 ],\n",
       "       ...,\n",
       "       [ 0.81600213],\n",
       "       [-7.0098104 ],\n",
       "       [-1.3782666 ]], shape=(250000, 1), dtype=float32)"
      ]
     },
     "execution_count": 78,
     "metadata": {},
     "output_type": "execute_result"
    }
   ],
   "source": [
    "predictions = sbs.predict(x_test_tensor)\n",
    "predictions"
   ]
  },
  {
   "cell_type": "markdown",
   "metadata": {},
   "source": [
    "#### Making Predictions (Probabilities)"
   ]
  },
  {
   "cell_type": "code",
   "execution_count": 79,
   "metadata": {},
   "outputs": [
    {
     "data": {
      "text/plain": [
       "array([[1.1103702e-03],\n",
       "       [1.5847288e-01],\n",
       "       [1.1662416e-04],\n",
       "       ...,\n",
       "       [6.9338703e-01],\n",
       "       [9.0216508e-04],\n",
       "       [2.0128754e-01]], shape=(250000, 1), dtype=float32)"
      ]
     },
     "execution_count": 79,
     "metadata": {},
     "output_type": "execute_result"
    }
   ],
   "source": [
    "# Convert predictions to probabilities using the sigmoid function\n",
    "def sigmoid(x):\n",
    "    return 1 / (1 + np.exp(-x))\n",
    "\n",
    "probabilities = sigmoid(predictions)  # Use torch's built-in sigmoid for numerical stabilit\n",
    "probabilities"
   ]
  },
  {
   "cell_type": "markdown",
   "metadata": {},
   "source": [
    "#### Making Predictions (Classes)"
   ]
  },
  {
   "cell_type": "markdown",
   "metadata": {},
   "source": [
    "$$\n",
    "\\Large y =\n",
    "\\begin{cases}\n",
    "1,\\ \\text{if P}(y=1) \\ge 0.5\n",
    "\\\\\n",
    "0,\\ \\text{if P}(y=1) < 0.5\n",
    "\\end{cases}\n",
    "$$"
   ]
  },
  {
   "cell_type": "markdown",
   "metadata": {},
   "source": [
    "$$\n",
    "\\Large y =\n",
    "\\begin{cases}\n",
    "1,\\ \\text{if } \\sigma(z) \\ge 0.5\n",
    "\\\\\n",
    "0,\\ \\text{if } \\sigma(z) < 0.5\n",
    "\\end{cases}\n",
    "$$"
   ]
  },
  {
   "cell_type": "markdown",
   "metadata": {},
   "source": [
    "$$\n",
    "\\Large y =\n",
    "\\begin{cases}\n",
    "1,\\ \\text{if } z \\ge 0\n",
    "\\\\\n",
    "0,\\ \\text{if } z < 0\n",
    "\\end{cases}\n",
    "$$"
   ]
  },
  {
   "cell_type": "code",
   "execution_count": 80,
   "metadata": {},
   "outputs": [
    {
     "name": "stdout",
     "output_type": "stream",
     "text": [
      "0         750000\n",
      "1         750001\n",
      "2         750002\n",
      "3         750003\n",
      "4         750004\n",
      "           ...  \n",
      "249995    999995\n",
      "249996    999996\n",
      "249997    999997\n",
      "249998    999998\n",
      "249999    999999\n",
      "Name: id, Length: 250000, dtype: int64\n",
      "[0 0 0 ... 1 0 0]\n",
      "[1.11037015e-03 1.58472881e-01 1.16624156e-04 ... 6.93387032e-01\n",
      " 9.02165077e-04 2.01287538e-01]\n",
      "\n",
      "24878\n"
     ]
    }
   ],
   "source": [
    "classes = (predictions >= 0).astype(int)\n",
    "\n",
    "# Count positive predictions\n",
    "positive_count = (classes == 1).sum()\n",
    "\n",
    "output_classes = classes.astype(int).flatten()\n",
    "output_probabilities = probabilities.astype(float).flatten()\n",
    "\n",
    "# Get current date and time as a string, e.g., '2025-08-13_15-30-45'\n",
    "timestamp = datetime.now().strftime('%Y-%m-%d_%H-%M-%S')\n",
    "\n",
    "# Output index ids and classes to .csv file\n",
    "classes_df = pd.DataFrame({'id': id_column, 'class': output_classes})\n",
    "classes_filename = f'binary_bank_comp/results/pred_classes_{timestamp}.csv'\n",
    "classes_df.to_csv(classes_filename, index=False)\n",
    "\n",
    "# Output index ids and probabilities to .csv file\n",
    "probabilities_df = pd.DataFrame({'id': id_column, 'y': output_probabilities})\n",
    "probabilities_filename = f'binary_bank_comp/results/pred_probs_{timestamp}.csv'\n",
    "probabilities_df.to_csv(probabilities_filename, index=False)\n",
    "\n",
    "print(id_column)\n",
    "print(output_classes)\n",
    "print(output_probabilities)\n",
    "print()\n",
    "print(positive_count)"
   ]
  },
  {
   "cell_type": "markdown",
   "metadata": {},
   "source": [
    "# Model Evaluation - WIP"
   ]
  },
  {
   "cell_type": "markdown",
   "metadata": {},
   "source": [
    "## Determine confusion matrix"
   ]
  },
  {
   "cell_type": "code",
   "execution_count": 131,
   "metadata": {},
   "outputs": [
    {
     "name": "stdout",
     "output_type": "stream",
     "text": [
      "y_val shape: (150000,)\n",
      "y_val: [0 0 0 ... 0 0 1]\n",
      "y_pred shape: (150000,)\n",
      "y_pred: [0 1 0 ... 0 0 1]\n"
     ]
    },
    {
     "data": {
      "image/png": "[encoded data removed]",
      "text/plain": [
       "<Figure size 1000x700 with 2 Axes>"
      ]
     },
     "metadata": {},
     "output_type": "display_data"
    }
   ],
   "source": [
    "# Calculate confusion matrix using y_val and y_pred\n",
    "\n",
    "# Determine y_val as the last column of y_val and convert to int\n",
    "y_val = y_val_tensor.numpy().flatten().astype(int)\n",
    "print(\"y_val shape:\", y_val.shape)\n",
    "print(\"y_val:\", y_val)\n",
    "\n",
    "# Determine y_pred as the predictions from the model on the validation set\n",
    "predictions_val = sbs.predict(x_val_tensor)\n",
    "y_classes = (predictions_val >= 0).astype(int)\n",
    "y_pred = y_classes.flatten()\n",
    "print(\"y_pred shape:\", y_pred.shape)\n",
    "print(\"y_pred:\", y_pred)\n",
    "\n",
    "# Determine probabilities\n",
    "probabilities_val = sigmoid(predictions_val)\n",
    "\n",
    "cm = confusion_matrix(y_val, y_pred)\n",
    "\n",
    "plt.figure(figsize=(10, 7))\n",
    "sns.heatmap(cm, annot=True, fmt='d', cmap='Blues', xticklabels=['No', 'Yes'], yticklabels=['No', 'Yes'])\n",
    "plt.xlabel('Predicted')\n",
    "plt.ylabel('Actual')\n",
    "plt.title('Confusion Matrix')\n",
    "plt.show()"
   ]
  },
  {
   "cell_type": "markdown",
   "metadata": {},
   "source": [
    "#### True and False Positives and Negatives"
   ]
  },
  {
   "cell_type": "code",
   "execution_count": 132,
   "metadata": {},
   "outputs": [],
   "source": [
    "def split_cm(cm):\n",
    "    # Actual negatives go in the top row, \n",
    "    # above the probability line\n",
    "    actual_negative = cm[0]\n",
    "    # Predicted negatives go in the first column\n",
    "    tn = actual_negative[0]\n",
    "    # Predicted positives go in the second column\n",
    "    fp = actual_negative[1]\n",
    "\n",
    "    # Actual positives go in the bottow row, \n",
    "    # below the probability line\n",
    "    actual_positive = cm[1]\n",
    "    # Predicted negatives go in the first column\n",
    "    fn = actual_positive[0]\n",
    "    # Predicted positives go in the second column\n",
    "    tp = actual_positive[1]\n",
    "\n",
    "    print(f\"TN: {tn}, FP: {fp}, FN: {fn}, TP: {tp}\")\n",
    "    \n",
    "    return tn, fp, fn, tp"
   ]
  },
  {
   "cell_type": "markdown",
   "metadata": {},
   "source": [
    "### Metrics"
   ]
  },
  {
   "cell_type": "markdown",
   "metadata": {},
   "source": [
    "### True and False Positive Rates"
   ]
  },
  {
   "cell_type": "markdown",
   "metadata": {},
   "source": [
    "$$\n",
    "\\Large \\text{TPR} = \\frac{\\text{TP}}{\\text{TP + FN}} \\ \\ \\  \\text{FPR} = \\frac{\\text{FP}}{\\text{FP + TN}}\n",
    "$$"
   ]
  },
  {
   "cell_type": "code",
   "execution_count": 133,
   "metadata": {},
   "outputs": [],
   "source": [
    "def tpr_fpr(cm):\n",
    "    tn, fp, fn, tp = split_cm(cm)\n",
    "    \n",
    "    tpr = tp / (tp + fn)\n",
    "    fpr = fp / (fp + tn)\n",
    "    \n",
    "    # Print TPR and FPR as percentages\n",
    "    print(f\"TPR: {tpr * 100:.2f}%, FPR: {fpr * 100:.2f}%\")\n",
    "\n",
    "    return tpr, fpr"
   ]
  },
  {
   "cell_type": "code",
   "execution_count": 134,
   "metadata": {},
   "outputs": [
    {
     "name": "stdout",
     "output_type": "stream",
     "text": [
      "TN: 128445, FP: 3350, FN: 6684, TP: 11521\n",
      "TPR: 63.28%, FPR: 2.54%\n"
     ]
    },
    {
     "data": {
      "text/plain": [
       "(np.float64(0.6328481186487229), np.float64(0.025418263211806215))"
      ]
     },
     "execution_count": 134,
     "metadata": {},
     "output_type": "execute_result"
    }
   ],
   "source": [
    "tpr_fpr(cm)"
   ]
  },
  {
   "cell_type": "markdown",
   "metadata": {},
   "source": [
    "### Precision and Recall"
   ]
  },
  {
   "cell_type": "markdown",
   "metadata": {},
   "source": [
    "$$\n",
    "\\Large \\text{Recall} = \\frac{\\text{TP}}{\\text{TP + FN}} \\ \\ \\  \\text{Precision} = \\frac{\\text{TP}}{\\text{TP + FP}}\n",
    "$$"
   ]
  },
  {
   "cell_type": "code",
   "execution_count": 135,
   "metadata": {},
   "outputs": [],
   "source": [
    "def precision_recall(cm):\n",
    "    tn, fp, fn, tp = split_cm(cm)\n",
    "    \n",
    "    precision = tp / (tp + fp)\n",
    "    recall = tp / (tp + fn)\n",
    "\n",
    "    # Print precision and recall as percentages\n",
    "    print(f\"Precision: {precision * 100:.2f}%, Recall: {recall * 100:.2f}%\")\n",
    "\n",
    "    return precision, recall"
   ]
  },
  {
   "cell_type": "code",
   "execution_count": 136,
   "metadata": {},
   "outputs": [
    {
     "name": "stdout",
     "output_type": "stream",
     "text": [
      "TN: 128445, FP: 3350, FN: 6684, TP: 11521\n",
      "Precision: 77.47%, Recall: 63.28%\n"
     ]
    },
    {
     "data": {
      "text/plain": [
       "(np.float64(0.7747293389819111), np.float64(0.6328481186487229))"
      ]
     },
     "execution_count": 136,
     "metadata": {},
     "output_type": "execute_result"
    }
   ],
   "source": [
    "precision_recall(cm)"
   ]
  },
  {
   "cell_type": "markdown",
   "metadata": {},
   "source": [
    "### Accuracy"
   ]
  },
  {
   "cell_type": "markdown",
   "metadata": {},
   "source": [
    "$$\n",
    "\\Large \\text{Accuracy} = \\frac{\\text{TP+TN}}{\\text{TP+TN+FP+FN}}\n",
    "$$"
   ]
  },
  {
   "cell_type": "code",
   "execution_count": 137,
   "metadata": {},
   "outputs": [
    {
     "name": "stdout",
     "output_type": "stream",
     "text": [
      "TN: 128445, FP: 3350, FN: 6684, TP: 11521\n",
      "Accuracy: 93.31%\n"
     ]
    },
    {
     "data": {
      "text/plain": [
       "np.float64(0.9331066666666666)"
      ]
     },
     "execution_count": 137,
     "metadata": {},
     "output_type": "execute_result"
    }
   ],
   "source": [
    "# Calculate accuracy\n",
    "def accuracy(cm):\n",
    "    tn, fp, fn, tp = split_cm(cm)\n",
    "    accuracy = (tp + tn) / (tp + tn + fp + fn)\n",
    "    print(f\"Accuracy: {accuracy * 100:.2f}%\")\n",
    "    return accuracy\n",
    "\n",
    "accuracy(cm)"
   ]
  },
  {
   "cell_type": "markdown",
   "metadata": {},
   "source": [
    "### ROC and Precision-Recall Curves"
   ]
  },
  {
   "cell_type": "code",
   "execution_count": null,
   "metadata": {},
   "outputs": [],
   "source": [
    "# Calculate ROC and Precision-Recall Curves\n",
    "fpr, tpr, thresholds = roc_curve(y_val, probabilities_val)\n",
    "precision, recall, _ = precision_recall_curve(y_val, probabilities_val)"
   ]
  },
  {
   "cell_type": "markdown",
   "metadata": {},
   "source": [
    "### Comparing Models"
   ]
  },
  {
   "cell_type": "code",
   "execution_count": 144,
   "metadata": {},
   "outputs": [
    {
     "name": "stdout",
     "output_type": "stream",
     "text": [
      "AUROC: 96.348%\n",
      "AUPR: 78.851%\n"
     ]
    }
   ],
   "source": [
    "# Area under the ROC and Precision-Recall curves of our model\n",
    "auroc = auc(fpr, tpr)\n",
    "aupr = auc(recall, precision)\n",
    "# Print area under the curves as percentages\n",
    "print(f\"AUROC: {auroc * 100:.3f}%\")\n",
    "print(f\"AUPR: {aupr * 100:.3f}%\")"
   ]
  }
 ],
 "metadata": {
  "kernelspec": {
   "display_name": "Python 3 (ipykernel)",
   "language": "python",
   "name": "python3"
  },
  "language_info": {
   "codemirror_mode": {
    "name": "ipython",
    "version": 3
   },
   "file_extension": ".py",
   "mimetype": "text/x-python",
   "name": "python",
   "nbconvert_exporter": "python",
   "pygments_lexer": "ipython3",
   "version": "3.12.2"
  }
 },
 "nbformat": 4,
 "nbformat_minor": 4
}
